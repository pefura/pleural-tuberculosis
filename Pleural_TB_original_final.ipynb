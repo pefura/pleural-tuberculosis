{
 "cells": [
  {
   "cell_type": "markdown",
   "id": "3e94ec04",
   "metadata": {},
   "source": [
    "# Analyse des données et Machine learning pour la prédiction de la tuberculose pleurale\n",
    "### Resumé\n",
    "Modèles d’apprentissage automatique pour le diagnostic de la tuberculose pleurale\n",
    "Pefura-Yone Eric Walter1,2,*, Ekongolo Marie-Christine3, Bane Jodie1, Djenabou Amadou2, Poka-Mayap Virginie2, Balkissou Adamou Dodo4, Ama Moor Vicky1\n",
    "\n",
    "\n",
    "1Faculté de Médecine et des Sciences Biomédicales, Université de Yaoundé I, Yaoundé, Cameroun\n",
    "2Hôpital Jamot de Yaoundé, Yaoundé, Cameroun\n",
    "3Limbé Régional Hospital, Limbé, Cameroon\n",
    "4Faculté de Médecine et des Sciences Biomédicales, Université de Garoua, Garoua, Cameroun\n",
    "*Auteur correspondant: Pefura-Yone Eric Walter,  Faculté de Médecine et des Sciences Biomédicales, Université de Yaoundé I, Yaoundé, Cameroun\n",
    "Email : pefurayone@gmail.com\n",
    "\n",
    "\n",
    "Résumé\n",
    "\n",
    "\n",
    "Introduction : Les méthodes d’intelligence artificielle et d’apprentissage automatique sont de plus en plus utilisées en médecine.  Très peu de modèles d’apprentissage automatique permettant de prédire le diagnostic des formes extra-pulmonaires de tuberculose (TB) sont disponibles. L'objectif de cette étude était de développer et valider les modèles d’apprentissage automatique permettant de prédire le diagnostic de la TB pleurale. \n",
    "\n",
    "\n",
    "Méthodes: Les données des patients suivis à l’Hôpital Jamot de Yaoundé et à la Clinique Polymère de Yaoundé de mai 2018 à juin 2020 (26 mois) pour épanchement pleural liquidien non purulent exsudatif ont été utilisées. Les algorithmes d’apprentissage automatique testés et incluaient les algorithmes d’ensemble d’arbre de décision, la régression logistique, l’algorithme des plus proches voisins, l’algorithme de classification naïve bayésienne et le réseau de neurones artificiels. Le score F1 moyen sur les deux catégories de la présence de la TB ou non, a été utilisé comme principal critère de sélection des meilleurs modèles. \n",
    "\n",
    "\n",
    "Résultats: Des 240 patients inclus, 139 (57,9 %) étaient de sexe masculin et leur âge médian (25ème -75ème percentiles) était de 46 (33-58) ans. Au total, 161 (67,1%) participants avaient la TB pleurale et 79 (32,9%) avaient une autre cause de la pleurésie exsudative non purulente. Les variables significativement associées à la TB pleurale étaient l’âge, l’infection à VIH, l’indice de masse corporelle, les antécédents de cancer, le taux de protéines pleural,  le taux de lactico-déshydrogenase (LDH) pleural et le taux de protéine C-réactive (CRP) pleural. Parmi les algorithmes d’apprentissage automatique testés, la régression logistique et le réseau de neurones artificiels étaient les plus performants avec respectivement un score F1 moyen de 0,85 et 0,84 (correspondant à une sensibilité de 91% pour les deux algorithmes). \n",
    "\n",
    "\n",
    "Conclusion: Les méthodes d’apprentissage automatique notamment le réseau de neurones artificiels et la régression logistique peuvent aider à améliorer le diagnostic de la TB pleurale. \n"
   ]
  },
  {
   "cell_type": "markdown",
   "id": "bbc21789",
   "metadata": {},
   "source": [
    "## Data preprocessing"
   ]
  },
  {
   "cell_type": "code",
   "execution_count": 1,
   "id": "fd731919",
   "metadata": {},
   "outputs": [],
   "source": [
    "# Import packages for data manipulation\n",
    "import pandas as pd # data manipulation \n",
    "import numpy as np # scientific manipulation"
   ]
  },
  {
   "cell_type": "code",
   "execution_count": 2,
   "id": "90236436",
   "metadata": {},
   "outputs": [],
   "source": [
    "# Import data \n",
    "data = pd.read_csv(\"C:/Users/DDD/Documents/ARTICLES_THESES_RECONSTITUTION/Mémoire_Ekongolo/pleuresie_ML.csv\")"
   ]
  },
  {
   "cell_type": "code",
   "execution_count": 3,
   "id": "c5e7ac4d",
   "metadata": {},
   "outputs": [
    {
     "data": {
      "text/html": [
       "<div><div id=0a8fa2d1-c2b5-4e6f-b044-38f0fe17842b style=\"display:none; background-color:#9D6CFF; color:white; width:200px; height:30px; padding-left:5px; border-radius:4px; flex-direction:row; justify-content:space-around; align-items:center;\" onmouseover=\"this.style.backgroundColor='#BA9BF8'\" onmouseout=\"this.style.backgroundColor='#9D6CFF'\" onclick=\"window.commands?.execute('create-mitosheet-from-dataframe-output');\">See Full Dataframe in Mito</div> <script> if (window.commands.hasCommand('create-mitosheet-from-dataframe-output')) document.getElementById('0a8fa2d1-c2b5-4e6f-b044-38f0fe17842b').style.display = 'flex' </script> <table border=\"1\" class=\"dataframe\">\n",
       "  <thead>\n",
       "    <tr style=\"text-align: right;\">\n",
       "      <th></th>\n",
       "      <th>age</th>\n",
       "      <th>HIV</th>\n",
       "      <th>history_cancer</th>\n",
       "      <th>pleural_proteins</th>\n",
       "      <th>pleural_LDH</th>\n",
       "      <th>pleural_CRP</th>\n",
       "      <th>BMI</th>\n",
       "      <th>pleural_TB</th>\n",
       "    </tr>\n",
       "  </thead>\n",
       "  <tbody>\n",
       "    <tr>\n",
       "      <th>0</th>\n",
       "      <td>80</td>\n",
       "      <td>0</td>\n",
       "      <td>0</td>\n",
       "      <td>47.3</td>\n",
       "      <td>568</td>\n",
       "      <td>30.75</td>\n",
       "      <td>22.32</td>\n",
       "      <td>0</td>\n",
       "    </tr>\n",
       "    <tr>\n",
       "      <th>1</th>\n",
       "      <td>48</td>\n",
       "      <td>0</td>\n",
       "      <td>0</td>\n",
       "      <td>54.4</td>\n",
       "      <td>641</td>\n",
       "      <td>99.82</td>\n",
       "      <td>33.87</td>\n",
       "      <td>1</td>\n",
       "    </tr>\n",
       "    <tr>\n",
       "      <th>2</th>\n",
       "      <td>64</td>\n",
       "      <td>0</td>\n",
       "      <td>0</td>\n",
       "      <td>65.6</td>\n",
       "      <td>1546</td>\n",
       "      <td>57.13</td>\n",
       "      <td>18.84</td>\n",
       "      <td>1</td>\n",
       "    </tr>\n",
       "    <tr>\n",
       "      <th>3</th>\n",
       "      <td>69</td>\n",
       "      <td>0</td>\n",
       "      <td>0</td>\n",
       "      <td>49.1</td>\n",
       "      <td>2483</td>\n",
       "      <td>63.77</td>\n",
       "      <td>28.03</td>\n",
       "      <td>0</td>\n",
       "    </tr>\n",
       "  </tbody>\n",
       "</table></div>"
      ],
      "text/plain": [
       "   age  HIV  history_cancer  pleural_proteins  pleural_LDH  pleural_CRP  \\\n",
       "0   80    0               0              47.3          568        30.75   \n",
       "1   48    0               0              54.4          641        99.82   \n",
       "2   64    0               0              65.6         1546        57.13   \n",
       "3   69    0               0              49.1         2483        63.77   \n",
       "\n",
       "     BMI  pleural_TB  \n",
       "0  22.32           0  \n",
       "1  33.87           1  \n",
       "2  18.84           1  \n",
       "3  28.03           0  "
      ]
     },
     "execution_count": 3,
     "metadata": {},
     "output_type": "execute_result"
    }
   ],
   "source": [
    "data.head(4)"
   ]
  },
  {
   "cell_type": "code",
   "execution_count": 4,
   "id": "a5b30df1",
   "metadata": {},
   "outputs": [
    {
     "data": {
      "text/plain": [
       "age                   int64\n",
       "HIV                   int64\n",
       "history_cancer        int64\n",
       "pleural_proteins    float64\n",
       "pleural_LDH           int64\n",
       "pleural_CRP         float64\n",
       "BMI                 float64\n",
       "pleural_TB            int64\n",
       "dtype: object"
      ]
     },
     "execution_count": 4,
     "metadata": {},
     "output_type": "execute_result"
    }
   ],
   "source": [
    "data.dtypes # Should be corrected for some variables"
   ]
  },
  {
   "cell_type": "code",
   "execution_count": 5,
   "id": "a8767948",
   "metadata": {},
   "outputs": [
    {
     "data": {
      "text/plain": [
       "age                    int64\n",
       "HIV                 category\n",
       "history_cancer      category\n",
       "pleural_proteins     float64\n",
       "pleural_LDH            int64\n",
       "pleural_CRP          float64\n",
       "BMI                  float64\n",
       "pleural_TB             int64\n",
       "dtype: object"
      ]
     },
     "execution_count": 5,
     "metadata": {},
     "output_type": "execute_result"
    }
   ],
   "source": [
    "# Correction of dtypes\n",
    "data[['HIV','history_cancer']] = data[['HIV','history_cancer']].astype('category')\n",
    "data.dtypes"
   ]
  },
  {
   "cell_type": "code",
   "execution_count": 6,
   "id": "3289e56e",
   "metadata": {},
   "outputs": [],
   "source": [
    "from sklearn.model_selection import train_test_split  # used to split data as training and test sets\n",
    "# Select predictors (X) and label (y)\n",
    "# test set will be left out and only will be used for the final evaluation\n",
    "y = data['pleural_TB']\n",
    "X = data.drop(columns =['pleural_TB'])\n",
    "# We will keep 20% (test size) of data in test set , and will also keeping proportion of label (stratify)\n",
    "X_train, X_test, y_train, y_test = train_test_split(X, y,test_size=0.2, stratify=y, random_state=0 )"
   ]
  },
  {
   "cell_type": "code",
   "execution_count": 7,
   "id": "d4498e19",
   "metadata": {},
   "outputs": [
    {
     "name": "stdout",
     "output_type": "stream",
     "text": [
      "X_train SHAPE: (192, 7)\n",
      "y_train SHAPE: (192,)\n",
      "X_test SHAPE: (48, 7)\n",
      "y_test SHAPE: (48,)\n"
     ]
    },
    {
     "data": {
      "text/plain": [
       "(None, None)"
      ]
     },
     "execution_count": 7,
     "metadata": {},
     "output_type": "execute_result"
    }
   ],
   "source": [
    "print(\"X_train SHAPE:\", X_train.shape), print(\"y_train SHAPE:\", y_train.shape),\n",
    "print(\"X_test SHAPE:\", X_test.shape), print(\"y_test SHAPE:\", y_test.shape)"
   ]
  },
  {
   "cell_type": "code",
   "execution_count": 8,
   "id": "ca1b220c",
   "metadata": {},
   "outputs": [
    {
     "data": {
      "text/html": [
       "<div><div id=a59bc8e4-a5cb-4f16-a021-7e08a2d44b3a style=\"display:none; background-color:#9D6CFF; color:white; width:200px; height:30px; padding-left:5px; border-radius:4px; flex-direction:row; justify-content:space-around; align-items:center;\" onmouseover=\"this.style.backgroundColor='#BA9BF8'\" onmouseout=\"this.style.backgroundColor='#9D6CFF'\" onclick=\"window.commands?.execute('create-mitosheet-from-dataframe-output');\">See Full Dataframe in Mito</div> <script> if (window.commands.hasCommand('create-mitosheet-from-dataframe-output')) document.getElementById('a59bc8e4-a5cb-4f16-a021-7e08a2d44b3a').style.display = 'flex' </script> <table border=\"1\" class=\"dataframe\">\n",
       "  <thead>\n",
       "    <tr style=\"text-align: right;\">\n",
       "      <th></th>\n",
       "      <th>age</th>\n",
       "      <th>HIV</th>\n",
       "      <th>history_cancer</th>\n",
       "      <th>pleural_proteins</th>\n",
       "      <th>pleural_LDH</th>\n",
       "      <th>pleural_CRP</th>\n",
       "      <th>BMI</th>\n",
       "    </tr>\n",
       "  </thead>\n",
       "  <tbody>\n",
       "    <tr>\n",
       "      <th>197</th>\n",
       "      <td>67</td>\n",
       "      <td>0</td>\n",
       "      <td>0</td>\n",
       "      <td>51.4</td>\n",
       "      <td>540</td>\n",
       "      <td>6.28</td>\n",
       "      <td>22.58</td>\n",
       "    </tr>\n",
       "    <tr>\n",
       "      <th>214</th>\n",
       "      <td>45</td>\n",
       "      <td>0</td>\n",
       "      <td>0</td>\n",
       "      <td>31.9</td>\n",
       "      <td>974</td>\n",
       "      <td>51.77</td>\n",
       "      <td>19.47</td>\n",
       "    </tr>\n",
       "    <tr>\n",
       "      <th>138</th>\n",
       "      <td>81</td>\n",
       "      <td>0</td>\n",
       "      <td>0</td>\n",
       "      <td>47.0</td>\n",
       "      <td>542</td>\n",
       "      <td>40.75</td>\n",
       "      <td>22.15</td>\n",
       "    </tr>\n",
       "    <tr>\n",
       "      <th>169</th>\n",
       "      <td>30</td>\n",
       "      <td>1</td>\n",
       "      <td>0</td>\n",
       "      <td>53.8</td>\n",
       "      <td>1002</td>\n",
       "      <td>89.20</td>\n",
       "      <td>19.38</td>\n",
       "    </tr>\n",
       "    <tr>\n",
       "      <th>132</th>\n",
       "      <td>72</td>\n",
       "      <td>0</td>\n",
       "      <td>0</td>\n",
       "      <td>31.4</td>\n",
       "      <td>533</td>\n",
       "      <td>39.29</td>\n",
       "      <td>21.26</td>\n",
       "    </tr>\n",
       "    <tr>\n",
       "      <th>...</th>\n",
       "      <td>...</td>\n",
       "      <td>...</td>\n",
       "      <td>...</td>\n",
       "      <td>...</td>\n",
       "      <td>...</td>\n",
       "      <td>...</td>\n",
       "      <td>...</td>\n",
       "    </tr>\n",
       "    <tr>\n",
       "      <th>1</th>\n",
       "      <td>48</td>\n",
       "      <td>0</td>\n",
       "      <td>0</td>\n",
       "      <td>54.4</td>\n",
       "      <td>641</td>\n",
       "      <td>99.82</td>\n",
       "      <td>33.87</td>\n",
       "    </tr>\n",
       "    <tr>\n",
       "      <th>119</th>\n",
       "      <td>71</td>\n",
       "      <td>0</td>\n",
       "      <td>0</td>\n",
       "      <td>37.0</td>\n",
       "      <td>343</td>\n",
       "      <td>30.00</td>\n",
       "      <td>20.66</td>\n",
       "    </tr>\n",
       "    <tr>\n",
       "      <th>141</th>\n",
       "      <td>25</td>\n",
       "      <td>0</td>\n",
       "      <td>0</td>\n",
       "      <td>41.0</td>\n",
       "      <td>589</td>\n",
       "      <td>69.70</td>\n",
       "      <td>22.72</td>\n",
       "    </tr>\n",
       "    <tr>\n",
       "      <th>165</th>\n",
       "      <td>42</td>\n",
       "      <td>0</td>\n",
       "      <td>0</td>\n",
       "      <td>57.1</td>\n",
       "      <td>3373</td>\n",
       "      <td>37.56</td>\n",
       "      <td>19.26</td>\n",
       "    </tr>\n",
       "    <tr>\n",
       "      <th>48</th>\n",
       "      <td>22</td>\n",
       "      <td>0</td>\n",
       "      <td>0</td>\n",
       "      <td>52.0</td>\n",
       "      <td>3482</td>\n",
       "      <td>59.46</td>\n",
       "      <td>21.45</td>\n",
       "    </tr>\n",
       "  </tbody>\n",
       "</table></div>"
      ],
      "text/plain": [
       "     age HIV history_cancer  pleural_proteins  pleural_LDH  pleural_CRP    BMI\n",
       "197   67   0              0              51.4          540         6.28  22.58\n",
       "214   45   0              0              31.9          974        51.77  19.47\n",
       "138   81   0              0              47.0          542        40.75  22.15\n",
       "169   30   1              0              53.8         1002        89.20  19.38\n",
       "132   72   0              0              31.4          533        39.29  21.26\n",
       "148   46   1              0              43.9         2816        57.50  15.55\n",
       "174   27   0              0              41.3          613        85.85  19.95\n",
       "234   82   0              0              43.1         1394        11.93  17.33\n",
       "215   23   0              0              52.0          987        76.30  19.84\n",
       "77    70   0              0              37.3          921       102.25  18.94\n",
       "129   47   0              0              44.5          472        22.72  21.11\n",
       "210   18   0              0              38.0          437        49.30  18.78\n",
       "65    43   0              0              63.5         1077        69.22  20.80\n",
       "106   74   0              0              43.0          612        90.96  19.82\n",
       "164   26   1              0              35.8          412        32.00  19.26\n",
       "150   54   0              0              53.0          724        49.00  19.57\n",
       "220   54   0              0              36.9          664        75.43  20.34\n",
       "103   82   0              0              57.1          830        15.33  19.59\n",
       "136   47   0              0              61.0          617        54.14  21.60\n",
       "236   34   0              0              50.8         1329        89.78  19.37\n",
       "219   40   1              0              57.5          440        17.01  20.31\n",
       "186   58   0              0              41.0          417         6.78  21.26\n",
       "142   62   0              0              39.0          681        63.00  23.08\n",
       "185   44   1              0              30.4          355        30.00  21.11\n",
       "71    54   1              0              34.5          455        27.50  29.06\n",
       "213   62   0              0              38.4         1374       179.88  19.38\n",
       "51    64   0              0              35.6         1486        77.84  23.66\n",
       "225   30   0              0              58.0          563        21.81  21.46\n",
       "107   94   0              0              55.7          395        16.19  19.84\n",
       "230   57   1              0              53.2         1211       106.93  24.68\n",
       "198   52   0              0              66.7         1143        71.91  23.89\n",
       "80    66   0              0              45.8          667        49.80  20.11\n",
       "111   62   0              0              48.0          376        40.70  20.31\n",
       "143   21   0              0              31.7          360        20.76  23.88\n",
       "15    49   1              1              39.6          453        22.53  26.03\n",
       "204   63   0              0              72.0          503        26.28  19.04\n",
       "200   75   0              0              31.4          480        40.58  26.45\n",
       "72    26   0              0              54.0         1206        52.16  27.41\n",
       "82    36   0              0              53.5         1210        50.24  21.53\n",
       "191   16   0              0              56.0          566        34.33  21.80\n",
       "41    62   0              0              47.0          392        49.38  22.35\n",
       "22    49   0              0              63.4         1846        44.43  16.90\n",
       "166   22   0              0              36.0          624        42.27  19.26\n",
       "1     48   0              0              54.4          641        99.82  33.87\n",
       "119   71   0              0              37.0          343        30.00  20.66\n",
       "141   25   0              0              41.0          589        69.70  22.72\n",
       "165   42   0              0              57.1         3373        37.56  19.26\n",
       "48    22   0              0              52.0         3482        59.46  21.45"
      ]
     },
     "execution_count": 8,
     "metadata": {},
     "output_type": "execute_result"
    }
   ],
   "source": [
    "X_test"
   ]
  },
  {
   "cell_type": "code",
   "execution_count": 9,
   "id": "07fd0bdb",
   "metadata": {},
   "outputs": [
    {
     "data": {
      "text/plain": [
       "1    129\n",
       "0     63\n",
       "Name: pleural_TB, dtype: int64"
      ]
     },
     "execution_count": 9,
     "metadata": {},
     "output_type": "execute_result"
    }
   ],
   "source": [
    "# target analysis\n",
    "y_train.value_counts()"
   ]
  },
  {
   "cell_type": "code",
   "execution_count": 10,
   "id": "a9b52a06",
   "metadata": {},
   "outputs": [
    {
     "data": {
      "text/plain": [
       "1    0.671875\n",
       "0    0.328125\n",
       "Name: pleural_TB, dtype: float64"
      ]
     },
     "execution_count": 10,
     "metadata": {},
     "output_type": "execute_result"
    }
   ],
   "source": [
    "y_train.value_counts()/y_train.shape[0]"
   ]
  },
  {
   "cell_type": "code",
   "execution_count": 11,
   "id": "ba60b09a",
   "metadata": {},
   "outputs": [],
   "source": [
    "numerical_features = ['age', 'pleural_proteins', 'pleural_LDH','pleural_CRP','BMI']\n",
    "categorical_features = ['HIV','history_cancer']\n",
    "\n",
    "# On doit encoder les variables qualitatives en numérique[oui/non en 1/0] et pour certains algorithmes il \n",
    "# est nécessaire de normaliser les données\n",
    "from sklearn.preprocessing import OneHotEncoder\n",
    "from sklearn.preprocessing import RobustScaler\n",
    "from sklearn.impute import SimpleImputer\n",
    "\n",
    "\n",
    "# On crée une chaine de transformation appeler pipeline pour éxécuter un ensemble de consignes au même moment\n",
    "# Avec les 2 modèles choisis nous n'avons pas besoin de standardiser ou normaliser les données\n",
    "from sklearn.pipeline import make_pipeline\n",
    "\n",
    "# Construire les pipelines qui vont permettre de faire les transformations succèssives de chaque type de variables\n",
    "from sklearn.compose import make_column_transformer\n",
    "\n",
    "numerical_pipeline = make_pipeline(SimpleImputer(strategy='median'), RobustScaler())\n",
    "categorical_pipeline = make_pipeline(SimpleImputer(strategy='most_frequent'), OneHotEncoder())\n",
    "\n",
    "preprocessor = make_column_transformer((numerical_pipeline, numerical_features),\n",
    "                                       (categorical_pipeline, categorical_features))\n"
   ]
  },
  {
   "cell_type": "code",
   "execution_count": 68,
   "id": "ed0fd052",
   "metadata": {},
   "outputs": [
    {
     "name": "stdout",
     "output_type": "stream",
     "text": [
      "X_train_scaled:\n",
      "           0         1         2         3         4    5    6    7    8\n",
      "0  0.483516 -0.465050  0.052444  0.486124 -0.224247  1.0  0.0  1.0  0.0\n",
      "1 -0.615385 -0.139800  0.347556 -0.897225 -0.361598  1.0  0.0  1.0  0.0\n",
      "2  0.395604  0.151213 -0.274667 -0.342177  2.413455  1.0  0.0  1.0  0.0\n",
      "3 -0.483516  1.075606  2.121778  0.209515 -0.086896  1.0  0.0  1.0  0.0\n",
      "4 -0.659341 -0.425107 -0.646222 -1.023178  0.526980  0.0  1.0  1.0  0.0\n",
      "X_test_scaled:\n",
      "           0         1         2         3         4    5    6    7    8\n",
      "0  1.054945  0.356633 -0.324444 -1.088442  0.412053  1.0  0.0  1.0  0.0\n",
      "1  0.087912 -0.756063  0.447111  0.298872 -0.459706  1.0  0.0  1.0  0.0\n",
      "2  1.670330  0.105563 -0.320889 -0.037206  0.291521  1.0  0.0  1.0  0.0\n",
      "3 -0.571429  0.493581  0.496889  1.440378 -0.484933  0.0  1.0  1.0  0.0\n",
      "4  1.274725 -0.784593 -0.336889 -0.081732  0.042046  1.0  0.0  1.0  0.0\n"
     ]
    }
   ],
   "source": [
    "X_train_scaled = preprocessor.fit_transform(X_train)\n",
    "X_test_scaled = preprocessor.transform(X_test)\n",
    "\n",
    "print(\"X_train_scaled:\\n\", pd.DataFrame(X_train_scaled).head())\n",
    "print(\"X_test_scaled:\\n\", pd.DataFrame(X_test_scaled).head())\n"
   ]
  },
  {
   "cell_type": "code",
   "execution_count": 69,
   "id": "b7199533",
   "metadata": {},
   "outputs": [
    {
     "data": {
      "text/plain": [
       "(192, 9)"
      ]
     },
     "execution_count": 69,
     "metadata": {},
     "output_type": "execute_result"
    }
   ],
   "source": [
    "X_train_scaled.shape"
   ]
  },
  {
   "cell_type": "markdown",
   "id": "c65aea7c",
   "metadata": {},
   "source": [
    "## Metrics and Procedures of evaluation"
   ]
  },
  {
   "cell_type": "code",
   "execution_count": 12,
   "id": "b528ce03",
   "metadata": {},
   "outputs": [],
   "source": [
    "# Define evaluation procedures \n",
    "from sklearn.metrics import f1_score, confusion_matrix, classification_report, roc_auc_score\n",
    "from sklearn.model_selection import learning_curve\n",
    "from imblearn.metrics import specificity_score\n",
    "\n",
    "def evaluation_test_scaled(model):\n",
    "\n",
    "    model.fit(X_train_scaled, y_train)\n",
    "    ypred = model.predict(X_test_scaled)\n",
    "    \n",
    "    model_probs = model.predict_proba(X_test_scaled)\n",
    "    model_probs = model_probs[:, 1]\n",
    "    model_auc = roc_auc_score(y_test, model_probs)\n",
    "    spe = specificity_score(y_test, ypred, average=None)\n",
    "    \n",
    "    print(\"CONFUSION MATRIX\")\n",
    "    print(confusion_matrix(y_test, ypred))\n",
    "    print(classification_report(y_test, ypred))\n",
    "    print(\"SPECIFICITY\")\n",
    "    print(spe)\n",
    "    print(\"AUROC\")\n",
    "    print(model_auc)\n",
    "\n",
    "def evaluation_test_original(model):\n",
    "\n",
    "    model.fit(X_train, y_train)\n",
    "    ypred = model.predict(X_test)\n",
    "    \n",
    "    model_probs = model.predict_proba(X_test)\n",
    "    model_probs = model_probs[:, 1]\n",
    "    model_auc = roc_auc_score(y_test, model_probs)\n",
    "    spe = specificity_score(y_test, ypred, average=None)\n",
    "    \n",
    "    print(\"CONFUSION MATRIX\")\n",
    "    print(confusion_matrix(y_test, ypred))\n",
    "    print(classification_report(y_test, ypred))\n",
    "    print(\"SPECIFICITY\")\n",
    "    print(spe)\n",
    "    print(\"AUROC\")\n",
    "    print(model_auc)\n",
    "\n",
    "    \n",
    "def evaluation_test_pipeline(model):\n",
    "    model_1= model.steps[1][1]\n",
    "    model_1.fit(X_train, y_train)\n",
    "    ypred = model_1.predict(X_test)\n",
    "    \n",
    "    model_1_probs = model_1.predict_proba(X_test)\n",
    "    model_1_probs = model_1_probs[:, 1]\n",
    "    model_1_auc = roc_auc_score(y_test, model_1_probs)\n",
    "    spe = specificity_score(y_test, ypred, average=None)\n",
    "    \n",
    "    print(\"CONFUSION MATRIX\")\n",
    "    print(confusion_matrix(y_test, ypred))\n",
    "    print(classification_report(y_test, ypred))\n",
    "    print(\"SPECIFICITY\")\n",
    "    print(spe)\n",
    "    print(\"AUROC\")\n",
    "    print(model_1_auc)"
   ]
  },
  {
   "cell_type": "code",
   "execution_count": 13,
   "id": "288e59c0",
   "metadata": {},
   "outputs": [],
   "source": [
    "# Packages for models training\n",
    "from sklearn.linear_model import RidgeClassifier\n",
    "from sklearn.linear_model import LogisticRegression\n",
    "from sklearn.ensemble import RandomForestClassifier, GradientBoostingClassifier\n",
    "from sklearn.neighbors import KNeighborsClassifier\n",
    "from sklearn import svm\n",
    "from sklearn.naive_bayes import GaussianNB"
   ]
  },
  {
   "cell_type": "markdown",
   "id": "0462f4e3",
   "metadata": {},
   "source": [
    "## Hyperparameters turning using randomized search CV"
   ]
  },
  {
   "cell_type": "code",
   "execution_count": 14,
   "id": "959ad03d",
   "metadata": {},
   "outputs": [],
   "source": [
    "from sklearn.model_selection import RandomizedSearchCV\n",
    "from scipy.stats import uniform"
   ]
  },
  {
   "cell_type": "code",
   "execution_count": 16,
   "id": "0f177161",
   "metadata": {},
   "outputs": [
    {
     "data": {
      "text/plain": [
       "{'hidden_layer_sizes': 157, 'activation': 'relu'}"
      ]
     },
     "execution_count": 16,
     "metadata": {},
     "output_type": "execute_result"
    }
   ],
   "source": [
    "from sklearn.neural_network import MLPClassifier\n",
    "MLP_pipeline = make_pipeline(preprocessor, MLPClassifier(max_iter=2000, random_state=1))\n",
    "\n",
    "distributions = dict(hidden_layer_sizes=np.arange(1,500),\n",
    "                     activation=['identity', 'tanh','logistic','relu'])\n",
    "clf_MLP_pipeline = RandomizedSearchCV(MLP_pipeline.steps[1][1], distributions, random_state=0,scoring = 'f1')\n",
    "search = clf_MLP_pipeline.fit(X_train, y_train)\n",
    "search.best_params_"
   ]
  },
  {
   "cell_type": "code",
   "execution_count": 15,
   "id": "ce08cf49",
   "metadata": {},
   "outputs": [
    {
     "data": {
      "text/plain": [
       "{'alpha': 2}"
      ]
     },
     "execution_count": 15,
     "metadata": {},
     "output_type": "execute_result"
    }
   ],
   "source": [
    "# For Ridge Classifier with pipeline\n",
    "RiC_pipeline = make_pipeline(preprocessor, RidgeClassifier(random_state=1))\n",
    "\n",
    "distributions = dict(alpha=np.arange(1,20))\n",
    "clf_RiC_pipeline = RandomizedSearchCV(RiC_pipeline.steps[1][1], distributions, random_state=0,scoring = 'f1')\n",
    "search = clf_RiC_pipeline.fit(X_train_scaled, y_train)\n",
    "search.best_params_"
   ]
  },
  {
   "cell_type": "code",
   "execution_count": 23,
   "id": "6e91e398",
   "metadata": {},
   "outputs": [
    {
     "name": "stderr",
     "output_type": "stream",
     "text": [
      "C:\\Users\\DDD\\anaconda3\\lib\\site-packages\\sklearn\\model_selection\\_validation.py:378: FitFailedWarning: \n",
      "15 fits failed out of a total of 50.\n",
      "The score on these train-test partitions for these parameters will be set to nan.\n",
      "If these failures are not expected, you can try to debug them by setting error_score='raise'.\n",
      "\n",
      "Below are more details about the failures:\n",
      "--------------------------------------------------------------------------------\n",
      "15 fits failed with the following error:\n",
      "Traceback (most recent call last):\n",
      "  File \"C:\\Users\\DDD\\anaconda3\\lib\\site-packages\\sklearn\\model_selection\\_validation.py\", line 686, in _fit_and_score\n",
      "    estimator.fit(X_train, y_train, **fit_params)\n",
      "  File \"C:\\Users\\DDD\\anaconda3\\lib\\site-packages\\sklearn\\linear_model\\_logistic.py\", line 1091, in fit\n",
      "    solver = _check_solver(self.solver, self.penalty, self.dual)\n",
      "  File \"C:\\Users\\DDD\\anaconda3\\lib\\site-packages\\sklearn\\linear_model\\_logistic.py\", line 61, in _check_solver\n",
      "    raise ValueError(\n",
      "ValueError: Solver lbfgs supports only 'l2' or 'none' penalties, got l1 penalty.\n",
      "\n",
      "  warnings.warn(some_fits_failed_message, FitFailedWarning)\n",
      "C:\\Users\\DDD\\anaconda3\\lib\\site-packages\\sklearn\\model_selection\\_search.py:953: UserWarning: One or more of the test scores are non-finite: [       nan 0.83752516 0.84058888 0.84479788 0.84058888 0.82900639\n",
      " 0.837472   0.84479788        nan        nan]\n",
      "  warnings.warn(\n"
     ]
    },
    {
     "data": {
      "text/plain": [
       "{'penalty': 'l2', 'C': 6}"
      ]
     },
     "execution_count": 23,
     "metadata": {},
     "output_type": "execute_result"
    }
   ],
   "source": [
    "# For Logistic regression with pipeline\n",
    "LR_pipeline = make_pipeline(preprocessor, LogisticRegression(max_iter=1000,random_state=1))\n",
    "\n",
    "distributions = dict(C=np.arange(1,10),\n",
    "                     penalty=['l2', 'l1'])\n",
    "clf_LR_pipeline = RandomizedSearchCV(LR_pipeline.steps[1][1], distributions, random_state=0,scoring = 'f1')\n",
    "search = clf_LR_pipeline.fit(X_train, y_train)\n",
    "search.best_params_"
   ]
  },
  {
   "cell_type": "code",
   "execution_count": 24,
   "id": "6ac40fb1",
   "metadata": {},
   "outputs": [
    {
     "data": {
      "text/plain": [
       "{'n_estimators': 507, 'max_depth': 5}"
      ]
     },
     "execution_count": 24,
     "metadata": {},
     "output_type": "execute_result"
    }
   ],
   "source": [
    "# For Random Forest with pipeline\n",
    "RF_pipeline = make_pipeline(preprocessor, RandomForestClassifier(random_state=1))\n",
    "distributions = dict(max_depth=np.arange(1,10),\n",
    "                     n_estimators=np.arange(60,600))\n",
    "clf_RF_pipeline = RandomizedSearchCV(RF_pipeline.steps[1][1], distributions, random_state=0, scoring = 'f1')\n",
    "search = clf_RF_pipeline.fit(X_train, y_train)\n",
    "search.best_params_"
   ]
  },
  {
   "cell_type": "code",
   "execution_count": 25,
   "id": "c73f88fb",
   "metadata": {},
   "outputs": [
    {
     "data": {
      "text/plain": [
       "{'n_estimators': 92, 'max_depth': 6}"
      ]
     },
     "execution_count": 25,
     "metadata": {},
     "output_type": "execute_result"
    }
   ],
   "source": [
    "# For Gradient boosting with pipeline\n",
    "GBC_pipeline = make_pipeline(preprocessor, GradientBoostingClassifier(random_state=1))\n",
    "distributions = dict(max_depth=np.arange(1,10),\n",
    "                     n_estimators=np.arange(60,600))\n",
    "clf_GBC_pipeline = RandomizedSearchCV(GBC_pipeline.steps[1][1], distributions, random_state=0, scoring = 'f1')\n",
    "search = clf_GBC_pipeline.fit(X_train, y_train)\n",
    "search.best_params_"
   ]
  },
  {
   "cell_type": "code",
   "execution_count": 26,
   "id": "16588446",
   "metadata": {},
   "outputs": [
    {
     "name": "stderr",
     "output_type": "stream",
     "text": [
      "C:\\Users\\DDD\\anaconda3\\lib\\site-packages\\sklearn\\model_selection\\_search.py:306: UserWarning: The total space of parameters 9 is smaller than n_iter=10. Running 9 iterations. For exhaustive searches, use GridSearchCV.\n",
      "  warnings.warn(\n"
     ]
    },
    {
     "data": {
      "text/plain": [
       "{'n_neighbors': 7}"
      ]
     },
     "execution_count": 26,
     "metadata": {},
     "output_type": "execute_result"
    }
   ],
   "source": [
    "# For Gradient boosting with pipeline\n",
    "KNN_pipeline = make_pipeline(preprocessor, KNeighborsClassifier())\n",
    "distributions = dict(n_neighbors=np.arange(1,10))\n",
    "clf_KNN_pipeline = RandomizedSearchCV(KNN_pipeline.steps[1][1], distributions, random_state=0, scoring = 'f1')\n",
    "search = clf_KNN_pipeline.fit(X_train, y_train)\n",
    "search.best_params_"
   ]
  },
  {
   "cell_type": "markdown",
   "id": "e31d8184",
   "metadata": {},
   "source": [
    "## Hyperparameters turning with scaled (without pipeline)"
   ]
  },
  {
   "cell_type": "code",
   "execution_count": 26,
   "id": "cb3a0279",
   "metadata": {},
   "outputs": [
    {
     "data": {
      "application/javascript": [
       "\n",
       "        if (window._pyforest_update_imports_cell) { window._pyforest_update_imports_cell('from sklearn.model_selection import RandomizedSearchCV'); }\n",
       "    "
      ],
      "text/plain": [
       "<IPython.core.display.Javascript object>"
      ]
     },
     "metadata": {},
     "output_type": "display_data"
    },
    {
     "data": {
      "text/plain": [
       "{'alpha': 2}"
      ]
     },
     "execution_count": 26,
     "metadata": {},
     "output_type": "execute_result"
    }
   ],
   "source": [
    "# For Ridge Classifier\n",
    "RiC = RidgeClassifier(random_state=1)\n",
    "\n",
    "distributions = dict(alpha=np.arange(1,20))\n",
    "clf_RiC = RandomizedSearchCV(RiC, distributions, random_state=0,scoring = 'f1')\n",
    "search = clf_RiC.fit(X_train_scaled, y_train)\n",
    "search.best_params_"
   ]
  },
  {
   "cell_type": "code",
   "execution_count": 110,
   "id": "d401ac0a",
   "metadata": {},
   "outputs": [
    {
     "data": {
      "application/javascript": [
       "\n",
       "        if (window._pyforest_update_imports_cell) { window._pyforest_update_imports_cell('from sklearn.model_selection import RandomizedSearchCV\\nimport matplotlib.pyplot as plt'); }\n",
       "    "
      ],
      "text/plain": [
       "<IPython.core.display.Javascript object>"
      ]
     },
     "metadata": {},
     "output_type": "display_data"
    },
    {
     "name": "stderr",
     "output_type": "stream",
     "text": [
      "C:\\Users\\DDD\\anaconda3\\lib\\site-packages\\sklearn\\model_selection\\_validation.py:378: FitFailedWarning: \n",
      "15 fits failed out of a total of 50.\n",
      "The score on these train-test partitions for these parameters will be set to nan.\n",
      "If these failures are not expected, you can try to debug them by setting error_score='raise'.\n",
      "\n",
      "Below are more details about the failures:\n",
      "--------------------------------------------------------------------------------\n",
      "15 fits failed with the following error:\n",
      "Traceback (most recent call last):\n",
      "  File \"C:\\Users\\DDD\\anaconda3\\lib\\site-packages\\sklearn\\model_selection\\_validation.py\", line 686, in _fit_and_score\n",
      "    estimator.fit(X_train, y_train, **fit_params)\n",
      "  File \"C:\\Users\\DDD\\anaconda3\\lib\\site-packages\\sklearn\\linear_model\\_logistic.py\", line 1091, in fit\n",
      "    solver = _check_solver(self.solver, self.penalty, self.dual)\n",
      "  File \"C:\\Users\\DDD\\anaconda3\\lib\\site-packages\\sklearn\\linear_model\\_logistic.py\", line 61, in _check_solver\n",
      "    raise ValueError(\n",
      "ValueError: Solver lbfgs supports only 'l2' or 'none' penalties, got l1 penalty.\n",
      "\n",
      "  warnings.warn(some_fits_failed_message, FitFailedWarning)\n",
      "C:\\Users\\DDD\\anaconda3\\lib\\site-packages\\sklearn\\model_selection\\_search.py:953: UserWarning: One or more of the test scores are non-finite: [       nan 0.84058888 0.84058888 0.84479788 0.84479788 0.84058888\n",
      " 0.84058888 0.84479788        nan        nan]\n",
      "  warnings.warn(\n"
     ]
    },
    {
     "data": {
      "text/plain": [
       "{'penalty': 'l2', 'C': 6}"
      ]
     },
     "execution_count": 110,
     "metadata": {},
     "output_type": "execute_result"
    }
   ],
   "source": [
    "# For Logistic regression\n",
    "LR = LogisticRegression(max_iter=1000,random_state=1)\n",
    "\n",
    "distributions = dict(C=np.arange(1,10),\n",
    "                     penalty=['l2', 'l1'])\n",
    "clf_LR = RandomizedSearchCV(LR, distributions, random_state=0,scoring = 'f1')\n",
    "search = clf_LR.fit(X_train_scaled, y_train)\n",
    "search.best_params_"
   ]
  },
  {
   "cell_type": "code",
   "execution_count": 15,
   "id": "147025c0",
   "metadata": {},
   "outputs": [
    {
     "data": {
      "text/plain": [
       "{'n_estimators': 93, 'max_depth': 4}"
      ]
     },
     "execution_count": 15,
     "metadata": {},
     "output_type": "execute_result"
    }
   ],
   "source": [
    "# For Random Forest\n",
    "distributions = dict(max_depth=np.arange(1,10),\n",
    "                     n_estimators=np.arange(60,600))\n",
    "clf_RF = RandomizedSearchCV(RandomForestClassifier(random_state=1), distributions, random_state=0, scoring = 'f1')\n",
    "search = clf_RF.fit(X_train_scaled, y_train)\n",
    "search.best_params_"
   ]
  },
  {
   "cell_type": "code",
   "execution_count": 16,
   "id": "b846c90b",
   "metadata": {},
   "outputs": [
    {
     "data": {
      "text/plain": [
       "{'n_estimators': 499, 'max_depth': 5}"
      ]
     },
     "execution_count": 16,
     "metadata": {},
     "output_type": "execute_result"
    }
   ],
   "source": [
    "# For Gradient boosting \n",
    "distributions = dict(max_depth=np.arange(1,10),\n",
    "                     n_estimators=np.arange(60,600))\n",
    "clf_GBC = RandomizedSearchCV(GradientBoostingClassifier(random_state=1), distributions, random_state=0, scoring = 'f1')\n",
    "search = clf_GBC.fit(X_train_scaled, y_train)\n",
    "search.best_params_"
   ]
  },
  {
   "cell_type": "code",
   "execution_count": 17,
   "id": "a696f796",
   "metadata": {},
   "outputs": [
    {
     "name": "stderr",
     "output_type": "stream",
     "text": [
      "C:\\Users\\DDD\\anaconda3\\lib\\site-packages\\sklearn\\model_selection\\_search.py:306: UserWarning: The total space of parameters 9 is smaller than n_iter=10. Running 9 iterations. For exhaustive searches, use GridSearchCV.\n",
      "  warnings.warn(\n"
     ]
    },
    {
     "data": {
      "text/plain": [
       "{'n_neighbors': 5}"
      ]
     },
     "execution_count": 17,
     "metadata": {},
     "output_type": "execute_result"
    }
   ],
   "source": [
    "# For K Neighbors classifier\n",
    "distributions = dict(n_neighbors=np.arange(1,10),\n",
    "                   )\n",
    "clf_KNN = RandomizedSearchCV(KNeighborsClassifier(), distributions, random_state=0, scoring = 'f1')\n",
    "search = clf_KNN.fit(X_train_scaled, y_train)\n",
    "search.best_params_"
   ]
  },
  {
   "cell_type": "markdown",
   "id": "2f427e47",
   "metadata": {},
   "source": [
    "## Cross-validation with pipeline "
   ]
  },
  {
   "cell_type": "code",
   "execution_count": 28,
   "id": "a04c5dad",
   "metadata": {},
   "outputs": [],
   "source": [
    "from sklearn.pipeline import Pipeline\n",
    "from sklearn.model_selection import cross_val_score"
   ]
  },
  {
   "cell_type": "code",
   "execution_count": 17,
   "id": "73287bfd",
   "metadata": {},
   "outputs": [
    {
     "name": "stdout",
     "output_type": "stream",
     "text": [
      "score folds F1\n",
      "[0.82758621 0.88888889 0.88       0.89655172 0.92857143 0.88888889\n",
      " 0.78571429 0.86666667 0.74074074 0.74074074]\n",
      "Mean CV F1 0.844\n",
      "standard deviation CV F1 0.064\n",
      "####################################################################\n",
      "score folds AUC\n",
      "[0.86813187 0.94505495 0.85714286 0.80769231 0.93589744 0.78205128\n",
      " 0.78205128 0.87179487 0.69230769 0.75641026]\n",
      "Mean CV AUC 0.830\n",
      "standard deviation CV AUC 0.076\n"
     ]
    }
   ],
   "source": [
    "# Ridge Classifier CV\n",
    "RiC_pipeline = make_pipeline(preprocessor, RidgeClassifier(alpha=2, random_state=1))\n",
    "\n",
    "cross_validation =10\n",
    "score_f1 = cross_val_score(RiC_pipeline.steps[1][1], X_train, y_train, cv=cross_validation, scoring =\"f1\")\n",
    "score_auc = cross_val_score(RiC_pipeline.steps[1][1], X_train, y_train, cv=cross_validation, scoring =\"roc_auc\")\n",
    "print('score folds F1')\n",
    "print(score_f1)\n",
    "print('Mean CV F1', '{:.3f}'.format(score_f1.mean()))\n",
    "print('standard deviation CV F1', '{:.3f}'.format(np.std(score_f1)))\n",
    "print('####################################################################')\n",
    "\n",
    "print('score folds AUC')\n",
    "print(score_auc)\n",
    "print('Mean CV AUC', '{:.3f}'.format(score_auc.mean()))\n",
    "print('standard deviation CV AUC', '{:.3f}'.format(np.std(score_auc)))"
   ]
  },
  {
   "cell_type": "code",
   "execution_count": 17,
   "id": "d1977841",
   "metadata": {},
   "outputs": [
    {
     "data": {
      "application/javascript": [
       "\n",
       "        if (window._pyforest_update_imports_cell) { window._pyforest_update_imports_cell('from sklearn.model_selection import cross_val_score'); }\n",
       "    "
      ],
      "text/plain": [
       "<IPython.core.display.Javascript object>"
      ]
     },
     "metadata": {},
     "output_type": "display_data"
    },
    {
     "data": {
      "application/javascript": [
       "\n",
       "        if (window._pyforest_update_imports_cell) { window._pyforest_update_imports_cell('from sklearn.model_selection import cross_val_score'); }\n",
       "    "
      ],
      "text/plain": [
       "<IPython.core.display.Javascript object>"
      ]
     },
     "metadata": {},
     "output_type": "display_data"
    },
    {
     "name": "stdout",
     "output_type": "stream",
     "text": [
      "score folds F1\n",
      "[0.84615385 0.92307692 0.75       0.81481481 0.84615385 0.78571429\n",
      " 0.78571429 0.83333333 0.81481481 0.76923077]\n",
      "Mean CV F1 0.817\n",
      "standard deviation CV F1 0.047\n",
      "####################################################################\n",
      "score folds AUC\n",
      "[0.84615385 0.9010989  0.76190476 0.73076923 0.87179487 0.61538462\n",
      " 0.64102564 0.8974359  0.73076923 0.80769231]\n",
      "Mean CV AUC 0.780\n",
      "standard deviation CV AUC 0.097\n"
     ]
    }
   ],
   "source": [
    "MLP_pipeline = make_pipeline(preprocessor, MLPClassifier(max_iter=1000,hidden_layer_sizes=157,\n",
    "                                                         activation= 'relu', random_state=1))\n",
    "cross_validation =10\n",
    "score_f1 = cross_val_score(MLP_pipeline.steps[1][1], X_train, y_train, cv=cross_validation, scoring =\"f1\")\n",
    "score_auc = cross_val_score(MLP_pipeline.steps[1][1], X_train, y_train, cv=cross_validation, scoring =\"roc_auc\")\n",
    "print('score folds F1')\n",
    "print(score_f1)\n",
    "print('Mean CV F1', '{:.3f}'.format(score_f1.mean()))\n",
    "print('standard deviation CV F1', '{:.3f}'.format(np.std(score_f1)))\n",
    "print('####################################################################')\n",
    "\n",
    "print('score folds AUC')\n",
    "print(score_auc)\n",
    "print('Mean CV AUC', '{:.3f}'.format(score_auc.mean()))\n",
    "print('standard deviation CV AUC', '{:.3f}'.format(np.std(score_auc)))"
   ]
  },
  {
   "cell_type": "code",
   "execution_count": 126,
   "id": "bdab8884",
   "metadata": {},
   "outputs": [
    {
     "name": "stdout",
     "output_type": "stream",
     "text": [
      "score folds F1\n",
      "[0.81481481 0.74074074 0.8        0.75       0.88888889 0.82758621\n",
      " 0.82758621 0.8125     0.72       0.74074074]\n",
      "Mean CV F1 0.792\n",
      "standard deviation CV F1 0.050\n",
      "####################################################################\n",
      "score folds AUC\n",
      "[0.84615385 0.76923077 0.77380952 0.79487179 0.87179487 0.65384615\n",
      " 0.57692308 0.87179487 0.65384615 0.79487179]\n",
      "Mean CV AUC 0.761\n",
      "standard deviation CV AUC 0.095\n"
     ]
    }
   ],
   "source": [
    "MLP_pipeline_2 = make_pipeline(preprocessor, MLPClassifier(max_iter=2000, random_state=1))\n",
    "cross_validation =10\n",
    "score_f1 = cross_val_score(MLP_pipeline_2.steps[1][1], X_train, y_train, cv=cross_validation, scoring =\"f1\")\n",
    "score_auc = cross_val_score(MLP_pipeline_2.steps[1][1], X_train, y_train, cv=cross_validation, scoring =\"roc_auc\")\n",
    "print('score folds F1')\n",
    "print(score_f1)\n",
    "print('Mean CV F1', '{:.3f}'.format(score_f1.mean()))\n",
    "print('standard deviation CV F1', '{:.3f}'.format(np.std(score_f1)))\n",
    "print('####################################################################')\n",
    "\n",
    "print('score folds AUC')\n",
    "print(score_auc)\n",
    "print('Mean CV AUC', '{:.3f}'.format(score_auc.mean()))\n",
    "print('standard deviation CV AUC', '{:.3f}'.format(np.std(score_auc)))"
   ]
  },
  {
   "cell_type": "code",
   "execution_count": 18,
   "id": "08306562",
   "metadata": {},
   "outputs": [
    {
     "data": {
      "application/javascript": [
       "\n",
       "        if (window._pyforest_update_imports_cell) { window._pyforest_update_imports_cell('from sklearn.model_selection import cross_val_score'); }\n",
       "    "
      ],
      "text/plain": [
       "<IPython.core.display.Javascript object>"
      ]
     },
     "metadata": {},
     "output_type": "display_data"
    },
    {
     "data": {
      "application/javascript": [
       "\n",
       "        if (window._pyforest_update_imports_cell) { window._pyforest_update_imports_cell('from sklearn.model_selection import cross_val_score'); }\n",
       "    "
      ],
      "text/plain": [
       "<IPython.core.display.Javascript object>"
      ]
     },
     "metadata": {},
     "output_type": "display_data"
    },
    {
     "name": "stdout",
     "output_type": "stream",
     "text": [
      "score folds F1\n",
      "[0.82758621 0.88       0.88       0.89655172 0.92857143 0.85714286\n",
      " 0.78571429 0.89655172 0.76923077 0.74074074]\n",
      "Mean CV F1 0.846\n",
      "standard deviation CV F1 0.059\n",
      "####################################################################\n",
      "score folds AUC\n",
      "[0.83516484 0.94505495 0.8452381  0.79487179 0.93589744 0.78205128\n",
      " 0.71794872 0.83333333 0.75641026 0.73076923]\n",
      "Mean CV AUC 0.818\n",
      "standard deviation CV AUC 0.074\n"
     ]
    }
   ],
   "source": [
    "# Logistic regression Classifier CV\n",
    "LR_pipeline = make_pipeline(preprocessor, LogisticRegression(C=6, penalty =\"l2\",max_iter=1000, random_state=1))\n",
    "\n",
    "cross_validation =10\n",
    "score_f1 = cross_val_score(LR_pipeline.steps[1][1], X_train, y_train, cv=cross_validation, scoring =\"f1\")\n",
    "score_auc = cross_val_score(LR_pipeline.steps[1][1], X_train, y_train, cv=cross_validation, scoring =\"roc_auc\")\n",
    "print('score folds F1')\n",
    "print(score_f1)\n",
    "print('Mean CV F1', '{:.3f}'.format(score_f1.mean()))\n",
    "print('standard deviation CV F1', '{:.3f}'.format(np.std(score_f1)))\n",
    "print('####################################################################')\n",
    "\n",
    "print('score folds AUC')\n",
    "print(score_auc)\n",
    "print('Mean CV AUC', '{:.3f}'.format(score_auc.mean()))\n",
    "print('standard deviation CV AUC', '{:.3f}'.format(np.std(score_auc)))"
   ]
  },
  {
   "cell_type": "code",
   "execution_count": 19,
   "id": "d593c15b",
   "metadata": {},
   "outputs": [
    {
     "data": {
      "application/javascript": [
       "\n",
       "        if (window._pyforest_update_imports_cell) { window._pyforest_update_imports_cell('from sklearn.model_selection import cross_val_score'); }\n",
       "    "
      ],
      "text/plain": [
       "<IPython.core.display.Javascript object>"
      ]
     },
     "metadata": {},
     "output_type": "display_data"
    },
    {
     "data": {
      "application/javascript": [
       "\n",
       "        if (window._pyforest_update_imports_cell) { window._pyforest_update_imports_cell('from sklearn.model_selection import cross_val_score'); }\n",
       "    "
      ],
      "text/plain": [
       "<IPython.core.display.Javascript object>"
      ]
     },
     "metadata": {},
     "output_type": "display_data"
    },
    {
     "name": "stdout",
     "output_type": "stream",
     "text": [
      "score folds F1\n",
      "[0.89655172 0.86666667 0.83333333 0.82758621 0.88888889 0.89655172\n",
      " 0.81481481 0.86666667 0.76923077 0.71428571]\n",
      "Mean CV F1 0.837\n",
      "standard deviation CV F1 0.056\n",
      "####################################################################\n",
      "score folds AUC\n",
      "[0.87912088 0.97802198 0.78571429 0.75641026 0.8974359  0.79487179\n",
      " 0.85897436 0.83333333 0.70512821 0.71794872]\n",
      "Mean CV AUC 0.821\n",
      "standard deviation CV AUC 0.081\n"
     ]
    }
   ],
   "source": [
    "# Random Forest CV\n",
    "RF_pipeline = make_pipeline(preprocessor, RandomForestClassifier(n_estimators=507,max_depth=5, random_state=1))\n",
    "\n",
    "cross_validation =10\n",
    "score_f1 = cross_val_score(RF_pipeline.steps[1][1], X_train, y_train, cv=cross_validation, scoring =\"f1\")\n",
    "score_auc = cross_val_score(RF_pipeline.steps[1][1], X_train, y_train, cv=cross_validation, scoring =\"roc_auc\")\n",
    "print('score folds F1')\n",
    "print(score_f1)\n",
    "print('Mean CV F1', '{:.3f}'.format(score_f1.mean()))\n",
    "print('standard deviation CV F1', '{:.3f}'.format(np.std(score_f1)))\n",
    "print('####################################################################')\n",
    "\n",
    "print('score folds AUC')\n",
    "print(score_auc)\n",
    "print('Mean CV AUC', '{:.3f}'.format(score_auc.mean()))\n",
    "print('standard deviation CV AUC', '{:.3f}'.format(np.std(score_auc)))"
   ]
  },
  {
   "cell_type": "code",
   "execution_count": 31,
   "id": "6fdc699e",
   "metadata": {},
   "outputs": [
    {
     "name": "stdout",
     "output_type": "stream",
     "text": [
      "score folds F1\n",
      "[0.75       0.76923077 0.88       0.8        0.88888889 0.85714286\n",
      " 0.81481481 0.82758621 0.81481481 0.84615385]\n",
      "Mean CV F1 0.825\n",
      "standard deviation CV F1 0.043\n",
      "####################################################################\n",
      "score folds AUC\n",
      "[0.84615385 0.84615385 0.75       0.73076923 0.82051282 0.71794872\n",
      " 0.83333333 0.80769231 0.69230769 0.67948718]\n",
      "Mean CV AUC 0.772\n",
      "standard deviation CV AUC 0.062\n"
     ]
    }
   ],
   "source": [
    "# Gradient boosting CV\n",
    "GBC_pipeline = make_pipeline(preprocessor, GradientBoostingClassifier(n_estimators=92,max_depth=6, random_state=1))\n",
    "\n",
    "cross_validation =10\n",
    "score_f1 = cross_val_score(GBC_pipeline.steps[1][1], X_train, y_train, cv=cross_validation, scoring =\"f1\")\n",
    "score_auc = cross_val_score(GBC_pipeline.steps[1][1], X_train, y_train, cv=cross_validation, scoring =\"roc_auc\")\n",
    "print('score folds F1')\n",
    "print(score_f1)\n",
    "print('Mean CV F1', '{:.3f}'.format(score_f1.mean()))\n",
    "print('standard deviation CV F1', '{:.3f}'.format(np.std(score_f1)))\n",
    "print('####################################################################')\n",
    "\n",
    "print('score folds AUC')\n",
    "print(score_auc)\n",
    "print('Mean CV AUC', '{:.3f}'.format(score_auc.mean()))\n",
    "print('standard deviation CV AUC', '{:.3f}'.format(np.std(score_auc)))"
   ]
  },
  {
   "cell_type": "code",
   "execution_count": 21,
   "id": "afaebc28",
   "metadata": {},
   "outputs": [
    {
     "data": {
      "application/javascript": [
       "\n",
       "        if (window._pyforest_update_imports_cell) { window._pyforest_update_imports_cell('from sklearn.model_selection import cross_val_score'); }\n",
       "    "
      ],
      "text/plain": [
       "<IPython.core.display.Javascript object>"
      ]
     },
     "metadata": {},
     "output_type": "display_data"
    },
    {
     "data": {
      "application/javascript": [
       "\n",
       "        if (window._pyforest_update_imports_cell) { window._pyforest_update_imports_cell('from sklearn.model_selection import cross_val_score'); }\n",
       "    "
      ],
      "text/plain": [
       "<IPython.core.display.Javascript object>"
      ]
     },
     "metadata": {},
     "output_type": "display_data"
    },
    {
     "name": "stdout",
     "output_type": "stream",
     "text": [
      "score folds F1\n",
      "[0.78787879 0.78787879 0.77419355 0.8125     0.8125     0.8125\n",
      " 0.8125     0.8125     0.8125     0.8125    ]\n",
      "Mean CV F1 0.804\n",
      "standard deviation CV F1 0.014\n",
      "####################################################################\n",
      "score folds AUC\n",
      "[0.6043956  0.46153846 0.60119048 0.5        0.5        0.48717949\n",
      " 0.53846154 0.52564103 0.61538462 0.35897436]\n",
      "Mean CV AUC 0.519\n",
      "standard deviation CV AUC 0.074\n"
     ]
    }
   ],
   "source": [
    "# SVM CV\n",
    "SVM_pipeline = make_pipeline(preprocessor, svm.NuSVC(gamma=\"auto\", probability=True))\n",
    "\n",
    "cross_validation =10\n",
    "score_f1 = cross_val_score(SVM_pipeline.steps[1][1], X_train, y_train, cv=cross_validation, scoring =\"f1\")\n",
    "score_auc = cross_val_score(SVM_pipeline.steps[1][1], X_train, y_train, cv=cross_validation, scoring =\"roc_auc\")\n",
    "print('score folds F1')\n",
    "print(score_f1)\n",
    "print('Mean CV F1', '{:.3f}'.format(score_f1.mean()))\n",
    "print('standard deviation CV F1', '{:.3f}'.format(np.std(score_f1)))\n",
    "print('####################################################################')\n",
    "\n",
    "print('score folds AUC')\n",
    "print(score_auc)\n",
    "print('Mean CV AUC', '{:.3f}'.format(score_auc.mean()))\n",
    "print('standard deviation CV AUC', '{:.3f}'.format(np.std(score_auc)))"
   ]
  },
  {
   "cell_type": "code",
   "execution_count": 20,
   "id": "8c9d67c8",
   "metadata": {},
   "outputs": [
    {
     "data": {
      "application/javascript": [
       "\n",
       "        if (window._pyforest_update_imports_cell) { window._pyforest_update_imports_cell('from sklearn.model_selection import cross_val_score'); }\n",
       "    "
      ],
      "text/plain": [
       "<IPython.core.display.Javascript object>"
      ]
     },
     "metadata": {},
     "output_type": "display_data"
    },
    {
     "data": {
      "application/javascript": [
       "\n",
       "        if (window._pyforest_update_imports_cell) { window._pyforest_update_imports_cell('from sklearn.model_selection import cross_val_score'); }\n",
       "    "
      ],
      "text/plain": [
       "<IPython.core.display.Javascript object>"
      ]
     },
     "metadata": {},
     "output_type": "display_data"
    },
    {
     "name": "stdout",
     "output_type": "stream",
     "text": [
      "score folds F1\n",
      "[0.85714286 0.82758621 0.84615385 0.75862069 0.74074074 0.77419355\n",
      " 0.75862069 0.66666667 0.81481481 0.8       ]\n",
      "Mean CV F1 0.784\n",
      "standard deviation CV F1 0.054\n",
      "####################################################################\n",
      "score folds AUC\n",
      "[0.8021978  0.67582418 0.79761905 0.56410256 0.55769231 0.52564103\n",
      " 0.59615385 0.50641026 0.68589744 0.78205128]\n",
      "Mean CV AUC 0.649\n",
      "standard deviation CV AUC 0.109\n"
     ]
    }
   ],
   "source": [
    "# KNN CV\n",
    "KNN_pipeline = make_pipeline(preprocessor, KNeighborsClassifier(n_neighbors=7))\n",
    "\n",
    "cross_validation =10\n",
    "score_f1 = cross_val_score(KNN_pipeline.steps[1][1], X_train, y_train, cv=cross_validation, scoring =\"f1\")\n",
    "score_auc = cross_val_score(KNN_pipeline.steps[1][1], X_train, y_train, cv=cross_validation, scoring =\"roc_auc\")\n",
    "print('score folds F1')\n",
    "print(score_f1)\n",
    "print('Mean CV F1', '{:.3f}'.format(score_f1.mean()))\n",
    "print('standard deviation CV F1', '{:.3f}'.format(np.std(score_f1)))\n",
    "print('####################################################################')\n",
    "\n",
    "print('score folds AUC')\n",
    "print(score_auc)\n",
    "print('Mean CV AUC', '{:.3f}'.format(score_auc.mean()))\n",
    "print('standard deviation CV AUC', '{:.3f}'.format(np.std(score_auc)))"
   ]
  },
  {
   "cell_type": "code",
   "execution_count": 22,
   "id": "07335d9e",
   "metadata": {},
   "outputs": [
    {
     "data": {
      "application/javascript": [
       "\n",
       "        if (window._pyforest_update_imports_cell) { window._pyforest_update_imports_cell('from sklearn.model_selection import cross_val_score'); }\n",
       "    "
      ],
      "text/plain": [
       "<IPython.core.display.Javascript object>"
      ]
     },
     "metadata": {},
     "output_type": "display_data"
    },
    {
     "data": {
      "application/javascript": [
       "\n",
       "        if (window._pyforest_update_imports_cell) { window._pyforest_update_imports_cell('from sklearn.model_selection import cross_val_score'); }\n",
       "    "
      ],
      "text/plain": [
       "<IPython.core.display.Javascript object>"
      ]
     },
     "metadata": {},
     "output_type": "display_data"
    },
    {
     "name": "stdout",
     "output_type": "stream",
     "text": [
      "score folds F1\n",
      "[0.75862069 0.89655172 0.84615385 0.83870968 0.86666667 0.86666667\n",
      " 0.78571429 0.86666667 0.82758621 0.74074074]\n",
      "Mean CV F1 0.829\n",
      "standard deviation CV F1 0.049\n",
      "####################################################################\n",
      "score folds AUC\n",
      "[0.71428571 0.92307692 0.85714286 0.74358974 0.91025641 0.78205128\n",
      " 0.56410256 0.82051282 0.73076923 0.74358974]\n",
      "Mean CV AUC 0.779\n",
      "standard deviation CV AUC 0.101\n"
     ]
    }
   ],
   "source": [
    "# Gaussian naive CV\n",
    "GNB_pipeline = make_pipeline(preprocessor, GaussianNB())\n",
    "\n",
    "cross_validation =10\n",
    "score_f1 = cross_val_score(GNB_pipeline.steps[1][1], X_train, y_train, cv=cross_validation, scoring =\"f1\")\n",
    "score_auc = cross_val_score(GNB_pipeline.steps[1][1], X_train, y_train, cv=cross_validation, scoring =\"roc_auc\")\n",
    "print('score folds F1')\n",
    "print(score_f1)\n",
    "print('Mean CV F1', '{:.3f}'.format(score_f1.mean()))\n",
    "print('standard deviation CV F1', '{:.3f}'.format(np.std(score_f1)))\n",
    "print('####################################################################')\n",
    "\n",
    "print('score folds AUC')\n",
    "print(score_auc)\n",
    "print('Mean CV AUC', '{:.3f}'.format(score_auc.mean()))\n",
    "print('standard deviation CV AUC', '{:.3f}'.format(np.std(score_auc)))"
   ]
  },
  {
   "cell_type": "code",
   "execution_count": 25,
   "id": "5b47595f",
   "metadata": {},
   "outputs": [
    {
     "name": "stdout",
     "output_type": "stream",
     "text": [
      "Stack model MLPC\n"
     ]
    },
    {
     "data": {
      "application/javascript": [
       "\n",
       "        if (window._pyforest_update_imports_cell) { window._pyforest_update_imports_cell('from sklearn.model_selection import cross_val_score'); }\n",
       "    "
      ],
      "text/plain": [
       "<IPython.core.display.Javascript object>"
      ]
     },
     "metadata": {},
     "output_type": "display_data"
    },
    {
     "data": {
      "application/javascript": [
       "\n",
       "        if (window._pyforest_update_imports_cell) { window._pyforest_update_imports_cell('from sklearn.model_selection import cross_val_score'); }\n",
       "    "
      ],
      "text/plain": [
       "<IPython.core.display.Javascript object>"
      ]
     },
     "metadata": {},
     "output_type": "display_data"
    },
    {
     "name": "stdout",
     "output_type": "stream",
     "text": [
      "score folds F1\n",
      "[0.82758621 0.84615385 0.76923077 0.81481481 0.81481481 0.89655172\n",
      " 0.75862069 0.76923077 0.86666667 0.8       ]\n",
      "Mean CV F1 0.816\n",
      "standard deviation CV F1 0.042\n",
      "####################################################################\n",
      "score folds AUC\n",
      "[0.74725275 0.93406593 0.78571429 0.70512821 0.79487179 0.75641026\n",
      " 0.76923077 0.75641026 0.93589744 0.75641026]\n",
      "Mean CV AUC 0.794\n",
      "standard deviation CV AUC 0.074\n"
     ]
    }
   ],
   "source": [
    "# For stack model\n",
    "print('Stack model MLPC')\n",
    "from sklearn.ensemble import StackingClassifier\n",
    "estimators = [\n",
    "    ('LR', LogisticRegression(C= 6, penalty=  'l2', max_iter=1000, random_state=1)),\n",
    "    ('MLPC', MLPClassifier(max_iter=1000,hidden_layer_sizes=157,\n",
    "                                                         activation= 'relu', random_state=1)),\n",
    "    ('KNN', KNeighborsClassifier(n_neighbors=5))\n",
    "]\n",
    "clf_stack_MLPC= StackingClassifier(estimators=estimators, final_estimator=RandomForestClassifier(n_estimators=507,max_depth=5, random_state=1)\n",
    ")\n",
    "clf_stack_MLPC_pipeline = make_pipeline(preprocessor,clf_stack_MLPC)\n",
    "\n",
    "cross_validation =10\n",
    "score_f1 = cross_val_score(clf_stack_MLPC_pipeline.steps[1][1], X_train, y_train, cv=cross_validation, scoring =\"f1\")\n",
    "score_auc = cross_val_score(clf_stack_MLPC_pipeline.steps[1][1], X_train, y_train, cv=cross_validation, scoring =\"roc_auc\")\n",
    "print('score folds F1')\n",
    "print(score_f1)\n",
    "print('Mean CV F1', '{:.3f}'.format(score_f1.mean()))\n",
    "print('standard deviation CV F1', '{:.3f}'.format(np.std(score_f1)))\n",
    "print('####################################################################')\n",
    "\n",
    "print('score folds AUC')\n",
    "print(score_auc)\n",
    "print('Mean CV AUC', '{:.3f}'.format(score_auc.mean()))\n",
    "print('standard deviation CV AUC', '{:.3f}'.format(np.std(score_auc)))"
   ]
  },
  {
   "cell_type": "code",
   "execution_count": 46,
   "id": "c0e88ad4",
   "metadata": {},
   "outputs": [
    {
     "name": "stdout",
     "output_type": "stream",
     "text": [
      "Stack model\n",
      "score folds F1\n",
      "[0.63157895 0.88888889 0.78571429 0.82758621 0.88888889 0.88888889\n",
      " 0.78571429 0.78571429 0.8        0.82758621]\n",
      "Mean CV F1 0.811\n",
      "standard deviation CV F1 0.073\n",
      "####################################################################\n",
      "score folds AUC\n",
      "[0.8021978  0.87912088 0.80357143 0.76923077 0.88461538 0.68589744\n",
      " 0.70512821 0.82051282 0.8974359  0.80769231]\n",
      "Mean CV AUC 0.806\n",
      "standard deviation CV AUC 0.068\n"
     ]
    }
   ],
   "source": [
    "# For stack model\n",
    "print('Stack model')\n",
    "from sklearn.ensemble import StackingClassifier\n",
    "estimators = [\n",
    "    ('LR', LogisticRegression(C= 6, penalty=  'l2', max_iter=1000, random_state=1)),\n",
    "    ('SVM', svm.NuSVC(gamma=\"auto\", probability=True)),\n",
    "    ('KNN', KNeighborsClassifier(n_neighbors=5))\n",
    "]\n",
    "clf_stack= StackingClassifier(estimators=estimators, final_estimator=RandomForestClassifier(n_estimators=507,max_depth=5, random_state=1)\n",
    ")\n",
    "clf_stack_pipeline = make_pipeline(preprocessor,clf_stack)\n",
    "\n",
    "cross_validation =10\n",
    "score_f1 = cross_val_score(clf_stack_pipeline.steps[1][1], X_train, y_train, cv=cross_validation, scoring =\"f1\")\n",
    "score_auc = cross_val_score(clf_stack_pipeline.steps[1][1], X_train, y_train, cv=cross_validation, scoring =\"roc_auc\")\n",
    "print('score folds F1')\n",
    "print(score_f1)\n",
    "print('Mean CV F1', '{:.3f}'.format(score_f1.mean()))\n",
    "print('standard deviation CV F1', '{:.3f}'.format(np.std(score_f1)))\n",
    "print('####################################################################')\n",
    "\n",
    "print('score folds AUC')\n",
    "print(score_auc)\n",
    "print('Mean CV AUC', '{:.3f}'.format(score_auc.mean()))\n",
    "print('standard deviation CV AUC', '{:.3f}'.format(np.std(score_auc)))"
   ]
  },
  {
   "cell_type": "code",
   "execution_count": 173,
   "id": "6821a32b",
   "metadata": {},
   "outputs": [
    {
     "name": "stdout",
     "output_type": "stream",
     "text": [
      "Stack model_2\n",
      "score folds F1\n",
      "[0.82758621 0.84615385 0.8        0.78571429 0.81481481 0.82758621\n",
      " 0.78571429 0.86666667 0.82758621 0.78571429]\n",
      "Mean CV F1 0.817\n",
      "standard deviation CV F1 0.026\n",
      "####################################################################\n",
      "score folds AUC\n",
      "[0.8021978  0.86813187 0.83928571 0.71794872 0.8974359  0.71794872\n",
      " 0.73076923 0.75641026 0.71794872 0.74358974]\n",
      "Mean CV AUC 0.779\n",
      "standard deviation CV AUC 0.064\n"
     ]
    }
   ],
   "source": [
    "# For stack model\n",
    "print('Stack model_2')\n",
    "from sklearn.ensemble import StackingClassifier\n",
    "estimators = [\n",
    "    ('LR', LogisticRegression(C= 6, penalty=  'l2', max_iter=1000, random_state=1)),\n",
    "    ('RiC',  RidgeClassifier(alpha=2, random_state=1)),\n",
    "    ('KNN', KNeighborsClassifier(n_neighbors=5))\n",
    "]\n",
    "clf_stack_2= StackingClassifier(estimators=estimators, final_estimator=RandomForestClassifier(n_estimators=507,max_depth=7, random_state=1)\n",
    ")\n",
    "clf_stack_2_pipeline = make_pipeline(preprocessor,clf_stack_2)\n",
    "\n",
    "cross_validation =10\n",
    "score_f1 = cross_val_score(clf_stack_2_pipeline.steps[1][1], X_train, y_train, cv=cross_validation, scoring =\"f1\")\n",
    "score_auc = cross_val_score(clf_stack_2_pipeline.steps[1][1], X_train, y_train, cv=cross_validation, scoring =\"roc_auc\")\n",
    "print('score folds F1')\n",
    "print(score_f1)\n",
    "print('Mean CV F1', '{:.3f}'.format(score_f1.mean()))\n",
    "print('standard deviation CV F1', '{:.3f}'.format(np.std(score_f1)))\n",
    "print('####################################################################')\n",
    "\n",
    "print('score folds AUC')\n",
    "print(score_auc)\n",
    "print('Mean CV AUC', '{:.3f}'.format(score_auc.mean()))\n",
    "print('standard deviation CV AUC', '{:.3f}'.format(np.std(score_auc)))"
   ]
  },
  {
   "cell_type": "code",
   "execution_count": 110,
   "id": "a7322cf1",
   "metadata": {},
   "outputs": [
    {
     "name": "stdout",
     "output_type": "stream",
     "text": [
      "Stack model 3\n",
      "score folds F1\n",
      "[0.82758621 0.84615385 0.72       0.78571429 0.81481481 0.85714286\n",
      " 0.75862069 0.66666667 0.89655172 0.8       ]\n",
      "Mean CV F1 0.797\n",
      "standard deviation CV F1 0.065\n",
      "####################################################################\n",
      "score folds AUC\n",
      "[0.78021978 0.9010989  0.78571429 0.64102564 0.78205128 0.69230769\n",
      " 0.76923077 0.69230769 0.88461538 0.74358974]\n",
      "Mean CV AUC 0.767\n",
      "standard deviation CV AUC 0.078\n"
     ]
    }
   ],
   "source": [
    "# For stack model\n",
    "print('Stack model 3')\n",
    "from sklearn.ensemble import StackingClassifier\n",
    "estimators = [\n",
    "    ('LR', LogisticRegression(C= 6, penalty=  'l2', max_iter=1000, random_state=1)),\n",
    "    ('MLP',MLPClassifier(max_iter=1000,hidden_layer_sizes=157,\n",
    "                                                         activation= 'relu', random_state=1) ),\n",
    "    ('KNN', KNeighborsClassifier(n_neighbors=5))\n",
    "]\n",
    "clf_stack_3= StackingClassifier(estimators=estimators, final_estimator=RandomForestClassifier(n_estimators=507,max_depth=7, random_state=1)\n",
    ")\n",
    "clf_stack_3_pipeline = make_pipeline(preprocessor,clf_stack_3)\n",
    "\n",
    "cross_validation =10\n",
    "score_f1 = cross_val_score(clf_stack_3_pipeline.steps[1][1], X_train, y_train, cv=cross_validation, scoring =\"f1\")\n",
    "score_auc = cross_val_score(clf_stack_3_pipeline.steps[1][1], X_train, y_train, cv=cross_validation, scoring =\"roc_auc\")\n",
    "print('score folds F1')\n",
    "print(score_f1)\n",
    "print('Mean CV F1', '{:.3f}'.format(score_f1.mean()))\n",
    "print('standard deviation CV F1', '{:.3f}'.format(np.std(score_f1)))\n",
    "print('####################################################################')\n",
    "\n",
    "print('score folds AUC')\n",
    "print(score_auc)\n",
    "print('Mean CV AUC', '{:.3f}'.format(score_auc.mean()))\n",
    "print('standard deviation CV AUC', '{:.3f}'.format(np.std(score_auc)))"
   ]
  },
  {
   "cell_type": "code",
   "execution_count": 52,
   "id": "d03e1757",
   "metadata": {},
   "outputs": [
    {
     "name": "stdout",
     "output_type": "stream",
     "text": [
      "Stack model_4\n",
      "score folds F1\n",
      "[0.85714286 0.8        0.83333333 0.8        0.89655172 0.8\n",
      " 0.74074074 0.66666667 0.86666667 0.75862069]\n",
      "Mean CV F1 0.802\n",
      "standard deviation CV F1 0.064\n",
      "####################################################################\n",
      "score folds AUC\n",
      "[0.79120879 0.86813187 0.85119048 0.74358974 0.85897436 0.6474359\n",
      " 0.65384615 0.64102564 0.62820513 0.69230769]\n",
      "Mean CV AUC 0.738\n",
      "standard deviation CV AUC 0.093\n"
     ]
    }
   ],
   "source": [
    "# For stack model\n",
    "print('Stack model_4')\n",
    "from sklearn.ensemble import StackingClassifier\n",
    "estimators = [\n",
    "    ('LR', LogisticRegression(C= 6, penalty=  'l2', max_iter=1000, random_state=1)),\n",
    "    ('KNN',  KNeighborsClassifier(n_neighbors=7))\n",
    "]\n",
    "clf_stack_4= StackingClassifier(estimators=estimators, final_estimator=RandomForestClassifier(n_estimators=507,max_depth=7, random_state=1)\n",
    ")\n",
    "clf_stack_4_pipeline = make_pipeline(preprocessor,clf_stack_4)\n",
    "\n",
    "cross_validation =10\n",
    "score_f1 = cross_val_score(clf_stack_4_pipeline.steps[1][1], X_train, y_train, cv=cross_validation, scoring =\"f1\")\n",
    "score_auc = cross_val_score(clf_stack_4_pipeline.steps[1][1], X_train, y_train, cv=cross_validation, scoring =\"roc_auc\")\n",
    "print('score folds F1')\n",
    "print(score_f1)\n",
    "print('Mean CV F1', '{:.3f}'.format(score_f1.mean()))\n",
    "print('standard deviation CV F1', '{:.3f}'.format(np.std(score_f1)))\n",
    "print('####################################################################')\n",
    "\n",
    "print('score folds AUC')\n",
    "print(score_auc)\n",
    "print('Mean CV AUC', '{:.3f}'.format(score_auc.mean()))\n",
    "print('standard deviation CV AUC', '{:.3f}'.format(np.std(score_auc)))"
   ]
  },
  {
   "cell_type": "code",
   "execution_count": 195,
   "id": "6616f794",
   "metadata": {},
   "outputs": [
    {
     "name": "stdout",
     "output_type": "stream",
     "text": [
      "Stack model 5\n",
      "score folds F1\n",
      "[0.85714286 0.84615385 0.83333333 0.75862069 0.88888889 0.86666667\n",
      " 0.75862069 0.82758621 0.8        0.78571429]\n",
      "Mean CV F1 0.822\n",
      "standard deviation CV F1 0.043\n",
      "####################################################################\n",
      "score folds AUC\n",
      "[0.82417582 0.89010989 0.83333333 0.67948718 0.92307692 0.69230769\n",
      " 0.69230769 0.69230769 0.78205128 0.74358974]\n",
      "Mean CV AUC 0.775\n",
      "standard deviation CV AUC 0.085\n"
     ]
    }
   ],
   "source": [
    "# For stack model\n",
    "print('Stack model 5')\n",
    "from sklearn.ensemble import StackingClassifier\n",
    "estimators = [\n",
    "    ('LR', LogisticRegression(C= 6, penalty=  'l2', max_iter=1000, random_state=1)),\n",
    "    ('RiC', RidgeClassifier(alpha=2, random_state=1)),\n",
    "    ('GNB', GaussianNB()),\n",
    "    ('KNN', KNeighborsClassifier(n_neighbors=5))\n",
    "]\n",
    "clf_stack_5= StackingClassifier(estimators=estimators, final_estimator=RandomForestClassifier(n_estimators=507,max_depth=7, random_state=1)\n",
    ")\n",
    "clf_stack_5_pipeline = make_pipeline(preprocessor,clf_stack_5)\n",
    "\n",
    "cross_validation =10\n",
    "score_f1 = cross_val_score(clf_stack_5_pipeline.steps[1][1], X_train, y_train, cv=cross_validation, scoring =\"f1\")\n",
    "score_auc = cross_val_score(clf_stack_5_pipeline.steps[1][1], X_train, y_train, cv=cross_validation, scoring =\"roc_auc\")\n",
    "print('score folds F1')\n",
    "print(score_f1)\n",
    "print('Mean CV F1', '{:.3f}'.format(score_f1.mean()))\n",
    "print('standard deviation CV F1', '{:.3f}'.format(np.std(score_f1)))\n",
    "print('####################################################################')\n",
    "\n",
    "print('score folds AUC')\n",
    "print(score_auc)\n",
    "print('Mean CV AUC', '{:.3f}'.format(score_auc.mean()))\n",
    "print('standard deviation CV AUC', '{:.3f}'.format(np.std(score_auc)))"
   ]
  },
  {
   "cell_type": "code",
   "execution_count": 189,
   "id": "f32bf276",
   "metadata": {},
   "outputs": [
    {
     "name": "stdout",
     "output_type": "stream",
     "text": [
      "Stack model 6\n",
      "score folds F1\n",
      "[0.8        0.76923077 0.88888889 0.78571429 0.89655172 0.83870968\n",
      " 0.71428571 0.8        0.74074074 0.74074074]\n",
      "Mean CV F1 0.797\n",
      "standard deviation CV F1 0.058\n",
      "####################################################################\n",
      "score folds AUC\n",
      "[0.7967033  0.83516484 0.78571429 0.72435897 0.92948718 0.69871795\n",
      " 0.59615385 0.57692308 0.57692308 0.73076923]\n",
      "Mean CV AUC 0.725\n",
      "standard deviation CV AUC 0.111\n"
     ]
    }
   ],
   "source": [
    "# For stack model\n",
    "print('Stack model 6')\n",
    "from sklearn.ensemble import StackingClassifier\n",
    "estimators = [\n",
    "    ('LR', LogisticRegression(C= 6, penalty=  'l2', max_iter=1000, random_state=1)),\n",
    "    ('Random Forest', RandomForestClassifier(n_estimators=507,max_depth=7, random_state=1)),\n",
    "    ('GNB', GaussianNB()),\n",
    "    ('RiC', RidgeClassifier(alpha=2, random_state=1))\n",
    "]\n",
    "clf_stack_6= StackingClassifier(estimators=estimators, final_estimator= KNeighborsClassifier(n_neighbors=5)\n",
    ")\n",
    "clf_stack_6_pipeline = make_pipeline(preprocessor,clf_stack_6)\n",
    "\n",
    "cross_validation =10\n",
    "score_f1 = cross_val_score(clf_stack_6_pipeline.steps[1][1], X_train, y_train, cv=cross_validation, scoring =\"f1\")\n",
    "score_auc = cross_val_score(clf_stack_6_pipeline.steps[1][1], X_train, y_train, cv=cross_validation, scoring =\"roc_auc\")\n",
    "print('score folds F1')\n",
    "print(score_f1)\n",
    "print('Mean CV F1', '{:.3f}'.format(score_f1.mean()))\n",
    "print('standard deviation CV F1', '{:.3f}'.format(np.std(score_f1)))\n",
    "print('####################################################################')\n",
    "\n",
    "print('score folds AUC')\n",
    "print(score_auc)\n",
    "print('Mean CV AUC', '{:.3f}'.format(score_auc.mean()))\n",
    "print('standard deviation CV AUC', '{:.3f}'.format(np.std(score_auc)))"
   ]
  },
  {
   "cell_type": "code",
   "execution_count": 197,
   "id": "a5c16408",
   "metadata": {},
   "outputs": [
    {
     "name": "stdout",
     "output_type": "stream",
     "text": [
      "Stack model 7\n",
      "score folds F1\n",
      "[0.8        0.76923077 0.88888889 0.78571429 0.89655172 0.83870968\n",
      " 0.71428571 0.8        0.74074074 0.74074074]\n",
      "Mean CV F1 0.797\n",
      "standard deviation CV F1 0.058\n",
      "####################################################################\n",
      "score folds AUC\n",
      "[0.7967033  0.83516484 0.78571429 0.72435897 0.92948718 0.69871795\n",
      " 0.59615385 0.57692308 0.57692308 0.73076923]\n",
      "Mean CV AUC 0.725\n",
      "standard deviation CV AUC 0.111\n"
     ]
    }
   ],
   "source": [
    "# For stack model\n",
    "print('Stack model 7')\n",
    "from sklearn.ensemble import StackingClassifier\n",
    "estimators = [\n",
    "    ('LR', LogisticRegression(C= 6, penalty=  'l2', max_iter=1000, random_state=1)),\n",
    "    ('Random Forest', RandomForestClassifier(n_estimators=507,max_depth=7, random_state=1)),\n",
    "    ('GNB', GaussianNB()),\n",
    "    ('RiC', RidgeClassifier(alpha=2, random_state=1)),\n",
    "    ('SVM', svm.NuSVC(gamma=\"auto\", probability=True))\n",
    "]\n",
    "clf_stack_7= StackingClassifier(estimators=estimators, final_estimator= KNeighborsClassifier(n_neighbors=5)\n",
    ")\n",
    "clf_stack_7_pipeline = make_pipeline(preprocessor,clf_stack_7)\n",
    "\n",
    "cross_validation =10\n",
    "score_f1 = cross_val_score(clf_stack_6_pipeline.steps[1][1], X_train, y_train, cv=cross_validation, scoring =\"f1\")\n",
    "score_auc = cross_val_score(clf_stack_6_pipeline.steps[1][1], X_train, y_train, cv=cross_validation, scoring =\"roc_auc\")\n",
    "print('score folds F1')\n",
    "print(score_f1)\n",
    "print('Mean CV F1', '{:.3f}'.format(score_f1.mean()))\n",
    "print('standard deviation CV F1', '{:.3f}'.format(np.std(score_f1)))\n",
    "print('####################################################################')\n",
    "\n",
    "print('score folds AUC')\n",
    "print(score_auc)\n",
    "print('Mean CV AUC', '{:.3f}'.format(score_auc.mean()))\n",
    "print('standard deviation CV AUC', '{:.3f}'.format(np.std(score_auc)))"
   ]
  },
  {
   "cell_type": "code",
   "execution_count": 50,
   "id": "e0e4b2f1",
   "metadata": {},
   "outputs": [
    {
     "name": "stdout",
     "output_type": "stream",
     "text": [
      "Stack model 8\n",
      "score folds F1\n",
      "[0.85714286 0.84615385 0.83333333 0.75862069 0.88888889 0.86666667\n",
      " 0.75862069 0.82758621 0.8        0.78571429]\n",
      "Mean CV F1 0.822\n",
      "standard deviation CV F1 0.043\n",
      "####################################################################\n",
      "score folds AUC\n",
      "[0.82417582 0.89010989 0.83333333 0.67948718 0.92307692 0.69230769\n",
      " 0.69230769 0.69230769 0.78205128 0.74358974]\n",
      "Mean CV AUC 0.775\n",
      "standard deviation CV AUC 0.085\n"
     ]
    }
   ],
   "source": [
    "# For stack model\n",
    "print('Stack model 8')\n",
    "from sklearn.ensemble import StackingClassifier\n",
    "estimators = [\n",
    "    ('LR', LogisticRegression(C= 6, penalty=  'l2', max_iter=1000, random_state=1)),\n",
    "    ('GNB', GaussianNB()),\n",
    "    ('KNN', KNeighborsClassifier(n_neighbors=5))\n",
    "]\n",
    "clf_stack_8= StackingClassifier(estimators=estimators, final_estimator=RandomForestClassifier(n_estimators=507,max_depth=7, random_state=1)\n",
    ")\n",
    "clf_stack_8_pipeline = make_pipeline(preprocessor,clf_stack_8)\n",
    "\n",
    "cross_validation =10\n",
    "score_f1 = cross_val_score(clf_stack_8_pipeline.steps[1][1], X_train, y_train, cv=cross_validation, scoring =\"f1\")\n",
    "score_auc = cross_val_score(clf_stack_8_pipeline.steps[1][1], X_train, y_train, cv=cross_validation, scoring =\"roc_auc\")\n",
    "print('score folds F1')\n",
    "print(score_f1)\n",
    "print('Mean CV F1', '{:.3f}'.format(score_f1.mean()))\n",
    "print('standard deviation CV F1', '{:.3f}'.format(np.std(score_f1)))\n",
    "print('####################################################################')\n",
    "\n",
    "print('score folds AUC')\n",
    "print(score_auc)\n",
    "print('Mean CV AUC', '{:.3f}'.format(score_auc.mean()))\n",
    "print('standard deviation CV AUC', '{:.3f}'.format(np.std(score_auc)))"
   ]
  },
  {
   "cell_type": "code",
   "execution_count": null,
   "id": "facea31e",
   "metadata": {},
   "outputs": [],
   "source": [
    "# A completer avec les modèles de pipeline\n",
    "plt.figure(figsize=(15, 10))\n",
    "plt.subplot(2,2,1)\n",
    "# Learning curve of Ridge Classifier\n",
    "\n",
    "N, train_score, val_score = learning_curve(RidgeClassifier(alpha= 2, random_state=1), X_train_scaled, y_train,  scoring='f1',\n",
    "                                           train_sizes=np.linspace(0.1, 1, 10), cv=10)\n",
    "\n",
    "plt.plot(N, train_score.mean(axis=1), label='training F1 score')\n",
    "plt.plot(N, val_score.mean(axis=1), label='cross-validation F1 score')\n",
    "plt.xlabel('')\n",
    "plt.title('Ridge classifier')\n",
    "\n",
    "\n",
    "plt.subplot(2,2,2)\n",
    "# Learning curve of Logistic regression\n",
    "N, train_score, val_score = learning_curve(LogisticRegression(C= 6, penalty=  'l2', random_state=1), X_train_scaled, y_train,  scoring='f1',\n",
    "                                           train_sizes=np.linspace(0.1, 1, 10), cv=10)\n",
    "\n",
    "plt.plot(N, train_score.mean(axis=1), label='training F1 score')\n",
    "plt.plot(N, val_score.mean(axis=1), label='cross-validation F1 score')\n",
    "plt.xlabel('')\n",
    "plt.title('Logistic regression')\n",
    "\n",
    "\n",
    "plt.subplot(2,2,3)\n",
    "# Learning curve for Random Forest\n",
    "\n",
    "N, train_score, val_score = learning_curve(RandomForestClassifier(n_estimators=93,max_depth=4, random_state=1), X_train_scaled, y_train,  scoring='f1',\n",
    "                                           train_sizes=np.linspace(0.1, 1, 10), cv=10)\n",
    "\n",
    "plt.plot(N, train_score.mean(axis=1), label='training F1 score')\n",
    "plt.plot(N, val_score.mean(axis=1), label='cross-validation F1 score')\n",
    "plt.xlabel('train sizes')\n",
    "plt.title('Random Forest')\n",
    "\n",
    "\n",
    "plt.subplot(2,2,4)\n",
    "\n",
    "# Learning curve for Gradient boosting \n",
    "\n",
    "N, train_score, val_score = learning_curve(GradientBoostingClassifier(n_estimators=499,max_depth=5, random_state=1), X_train_scaled, y_train,  scoring='f1',\n",
    "                                           train_sizes=np.linspace(0.1, 1, 10), cv=10)\n",
    "\n",
    "plt.plot(N, train_score.mean(axis=1), label='training F1 score')\n",
    "plt.plot(N, val_score.mean(axis=1), label='cross-validation F1 score')\n",
    "plt.xlabel('train sizes')\n",
    "plt.title('Gradient boosting')\n",
    "\n",
    "plt.savefig(\"learning curve block 1.png\")\n",
    "\n",
    "plt.show()\n"
   ]
  },
  {
   "cell_type": "code",
   "execution_count": 26,
   "id": "a266168a",
   "metadata": {},
   "outputs": [
    {
     "name": "stdout",
     "output_type": "stream",
     "text": [
      "CONFUSION MATRIX\n",
      "[[ 5 11]\n",
      " [ 1 31]]\n",
      "              precision    recall  f1-score   support\n",
      "\n",
      "           0       0.83      0.31      0.45        16\n",
      "           1       0.74      0.97      0.84        32\n",
      "\n",
      "    accuracy                           0.75        48\n",
      "   macro avg       0.79      0.64      0.65        48\n",
      "weighted avg       0.77      0.75      0.71        48\n",
      "\n",
      "SPECIFICITY\n",
      "[0.96875 0.3125 ]\n",
      "AUROC\n",
      "0.716796875\n"
     ]
    }
   ],
   "source": [
    "evaluation_test_pipeline(clf_stack_MLPC_pipeline)"
   ]
  },
  {
   "cell_type": "code",
   "execution_count": 124,
   "id": "9d1b7537",
   "metadata": {},
   "outputs": [
    {
     "name": "stdout",
     "output_type": "stream",
     "text": [
      "CONFUSION MATRIX\n",
      "[[11  5]\n",
      " [ 5 27]]\n",
      "              precision    recall  f1-score   support\n",
      "\n",
      "           0       0.69      0.69      0.69        16\n",
      "           1       0.84      0.84      0.84        32\n",
      "\n",
      "    accuracy                           0.79        48\n",
      "   macro avg       0.77      0.77      0.77        48\n",
      "weighted avg       0.79      0.79      0.79        48\n",
      "\n",
      "SPECIFICITY\n",
      "[0.84375 0.6875 ]\n",
      "AUROC\n",
      "0.775390625\n"
     ]
    }
   ],
   "source": [
    "evaluation_test_pipeline(make_pipeline(preprocessor, MLPClassifier(random_state=1)))"
   ]
  },
  {
   "cell_type": "code",
   "execution_count": 123,
   "id": "c56deb95",
   "metadata": {},
   "outputs": [
    {
     "name": "stdout",
     "output_type": "stream",
     "text": [
      "CONFUSION MATRIX\n",
      "[[ 8  8]\n",
      " [ 3 29]]\n",
      "              precision    recall  f1-score   support\n",
      "\n",
      "           0       0.73      0.50      0.59        16\n",
      "           1       0.78      0.91      0.84        32\n",
      "\n",
      "    accuracy                           0.77        48\n",
      "   macro avg       0.76      0.70      0.72        48\n",
      "weighted avg       0.76      0.77      0.76        48\n",
      "\n",
      "SPECIFICITY\n",
      "[0.90625 0.5    ]\n",
      "AUROC\n",
      "0.732421875\n"
     ]
    }
   ],
   "source": [
    "# MLP ussing best params\n",
    "evaluation_test_pipeline(MLP_pipeline)"
   ]
  },
  {
   "cell_type": "code",
   "execution_count": 153,
   "id": "91157245",
   "metadata": {
    "scrolled": true
   },
   "outputs": [
    {
     "name": "stdout",
     "output_type": "stream",
     "text": [
      "CONFUSION MATRIX\n",
      "[[ 9  7]\n",
      " [ 2 30]]\n",
      "              precision    recall  f1-score   support\n",
      "\n",
      "           0       0.82      0.56      0.67        16\n",
      "           1       0.81      0.94      0.87        32\n",
      "\n",
      "    accuracy                           0.81        48\n",
      "   macro avg       0.81      0.75      0.77        48\n",
      "weighted avg       0.81      0.81      0.80        48\n",
      "\n"
     ]
    }
   ],
   "source": [
    "evaluation_test_pipeline_RiC(RiC_pipeline)"
   ]
  },
  {
   "cell_type": "code",
   "execution_count": 38,
   "id": "38ff706a",
   "metadata": {},
   "outputs": [
    {
     "name": "stdout",
     "output_type": "stream",
     "text": [
      "CONFUSION MATRIX\n",
      "[[ 9  7]\n",
      " [ 3 29]]\n",
      "              precision    recall  f1-score   support\n",
      "\n",
      "           0       0.75      0.56      0.64        16\n",
      "           1       0.81      0.91      0.85        32\n",
      "\n",
      "    accuracy                           0.79        48\n",
      "   macro avg       0.78      0.73      0.75        48\n",
      "weighted avg       0.79      0.79      0.78        48\n",
      "\n",
      "SPECIFICITY\n",
      "[0.90625 0.5625 ]\n",
      "AUROC\n",
      "0.73046875\n"
     ]
    }
   ],
   "source": [
    "evaluation_test_pipeline(LR_pipeline)"
   ]
  },
  {
   "cell_type": "code",
   "execution_count": 39,
   "id": "49491733",
   "metadata": {},
   "outputs": [
    {
     "name": "stdout",
     "output_type": "stream",
     "text": [
      "CONFUSION MATRIX\n",
      "[[ 8  8]\n",
      " [ 4 28]]\n",
      "              precision    recall  f1-score   support\n",
      "\n",
      "           0       0.67      0.50      0.57        16\n",
      "           1       0.78      0.88      0.82        32\n",
      "\n",
      "    accuracy                           0.75        48\n",
      "   macro avg       0.72      0.69      0.70        48\n",
      "weighted avg       0.74      0.75      0.74        48\n",
      "\n",
      "SPECIFICITY\n",
      "[0.875 0.5  ]\n",
      "AUROC\n",
      "0.734375\n"
     ]
    }
   ],
   "source": [
    "evaluation_test_pipeline(RF_pipeline)"
   ]
  },
  {
   "cell_type": "code",
   "execution_count": 40,
   "id": "e1f1da40",
   "metadata": {},
   "outputs": [
    {
     "name": "stdout",
     "output_type": "stream",
     "text": [
      "CONFUSION MATRIX\n",
      "[[ 6 10]\n",
      " [ 6 26]]\n",
      "              precision    recall  f1-score   support\n",
      "\n",
      "           0       0.50      0.38      0.43        16\n",
      "           1       0.72      0.81      0.76        32\n",
      "\n",
      "    accuracy                           0.67        48\n",
      "   macro avg       0.61      0.59      0.60        48\n",
      "weighted avg       0.65      0.67      0.65        48\n",
      "\n",
      "SPECIFICITY\n",
      "[0.8125 0.375 ]\n",
      "AUROC\n",
      "0.65234375\n"
     ]
    }
   ],
   "source": [
    "evaluation_test_pipeline(GBC_pipeline)"
   ]
  },
  {
   "cell_type": "code",
   "execution_count": 41,
   "id": "79072634",
   "metadata": {},
   "outputs": [
    {
     "name": "stdout",
     "output_type": "stream",
     "text": [
      "CONFUSION MATRIX\n",
      "[[ 0 16]\n",
      " [ 0 32]]\n",
      "              precision    recall  f1-score   support\n",
      "\n",
      "           0       0.00      0.00      0.00        16\n",
      "           1       0.67      1.00      0.80        32\n",
      "\n",
      "    accuracy                           0.67        48\n",
      "   macro avg       0.33      0.50      0.40        48\n",
      "weighted avg       0.44      0.67      0.53        48\n",
      "\n",
      "SPECIFICITY\n",
      "[1. 0.]\n",
      "AUROC\n",
      "0.498046875\n"
     ]
    },
    {
     "name": "stderr",
     "output_type": "stream",
     "text": [
      "C:\\Users\\DDD\\anaconda3\\lib\\site-packages\\sklearn\\metrics\\_classification.py:1334: UndefinedMetricWarning: Precision and F-score are ill-defined and being set to 0.0 in labels with no predicted samples. Use `zero_division` parameter to control this behavior.\n",
      "  _warn_prf(average, modifier, msg_start, len(result))\n",
      "C:\\Users\\DDD\\anaconda3\\lib\\site-packages\\sklearn\\metrics\\_classification.py:1334: UndefinedMetricWarning: Precision and F-score are ill-defined and being set to 0.0 in labels with no predicted samples. Use `zero_division` parameter to control this behavior.\n",
      "  _warn_prf(average, modifier, msg_start, len(result))\n",
      "C:\\Users\\DDD\\anaconda3\\lib\\site-packages\\sklearn\\metrics\\_classification.py:1334: UndefinedMetricWarning: Precision and F-score are ill-defined and being set to 0.0 in labels with no predicted samples. Use `zero_division` parameter to control this behavior.\n",
      "  _warn_prf(average, modifier, msg_start, len(result))\n"
     ]
    }
   ],
   "source": [
    "evaluation_test_pipeline(SVM_pipeline)"
   ]
  },
  {
   "cell_type": "code",
   "execution_count": 42,
   "id": "574e4f8a",
   "metadata": {},
   "outputs": [
    {
     "name": "stdout",
     "output_type": "stream",
     "text": [
      "CONFUSION MATRIX\n",
      "[[ 7  9]\n",
      " [ 5 27]]\n",
      "              precision    recall  f1-score   support\n",
      "\n",
      "           0       0.58      0.44      0.50        16\n",
      "           1       0.75      0.84      0.79        32\n",
      "\n",
      "    accuracy                           0.71        48\n",
      "   macro avg       0.67      0.64      0.65        48\n",
      "weighted avg       0.69      0.71      0.70        48\n",
      "\n",
      "SPECIFICITY\n",
      "[0.84375 0.4375 ]\n",
      "AUROC\n",
      "0.7587890625\n"
     ]
    }
   ],
   "source": [
    "evaluation_test_pipeline(KNN_pipeline)"
   ]
  },
  {
   "cell_type": "code",
   "execution_count": 43,
   "id": "b58d39a9",
   "metadata": {},
   "outputs": [
    {
     "name": "stdout",
     "output_type": "stream",
     "text": [
      "CONFUSION MATRIX\n",
      "[[ 6 10]\n",
      " [ 0 32]]\n",
      "              precision    recall  f1-score   support\n",
      "\n",
      "           0       1.00      0.38      0.55        16\n",
      "           1       0.76      1.00      0.86        32\n",
      "\n",
      "    accuracy                           0.79        48\n",
      "   macro avg       0.88      0.69      0.71        48\n",
      "weighted avg       0.84      0.79      0.76        48\n",
      "\n",
      "SPECIFICITY\n",
      "[1.    0.375]\n",
      "AUROC\n",
      "0.765625\n"
     ]
    }
   ],
   "source": [
    "evaluation_test_pipeline(GNB_pipeline)"
   ]
  },
  {
   "cell_type": "code",
   "execution_count": 48,
   "id": "dca7df8e",
   "metadata": {},
   "outputs": [
    {
     "name": "stdout",
     "output_type": "stream",
     "text": [
      "CONFUSION MATRIX\n",
      "[[ 8  8]\n",
      " [ 3 29]]\n",
      "              precision    recall  f1-score   support\n",
      "\n",
      "           0       0.73      0.50      0.59        16\n",
      "           1       0.78      0.91      0.84        32\n",
      "\n",
      "    accuracy                           0.77        48\n",
      "   macro avg       0.76      0.70      0.72        48\n",
      "weighted avg       0.76      0.77      0.76        48\n",
      "\n",
      "SPECIFICITY\n",
      "[0.90625 0.5    ]\n",
      "AUROC\n",
      "0.751953125\n"
     ]
    }
   ],
   "source": [
    "evaluation_test_pipeline(clf_stack_pipeline)"
   ]
  },
  {
   "cell_type": "code",
   "execution_count": 182,
   "id": "c165c03e",
   "metadata": {},
   "outputs": [
    {
     "name": "stdout",
     "output_type": "stream",
     "text": [
      "CONFUSION MATRIX\n",
      "[[ 7  9]\n",
      " [ 1 31]]\n",
      "              precision    recall  f1-score   support\n",
      "\n",
      "           0       0.88      0.44      0.58        16\n",
      "           1       0.78      0.97      0.86        32\n",
      "\n",
      "    accuracy                           0.79        48\n",
      "   macro avg       0.82      0.70      0.72        48\n",
      "weighted avg       0.81      0.79      0.77        48\n",
      "\n",
      "SPECIFICITY\n",
      "[0.96875 0.4375 ]\n",
      "AUROC\n",
      "0.7626953125\n"
     ]
    }
   ],
   "source": [
    "evaluation_test_pipeline(clf_stack_2_pipeline)"
   ]
  },
  {
   "cell_type": "code",
   "execution_count": 111,
   "id": "31671954",
   "metadata": {
    "scrolled": true
   },
   "outputs": [
    {
     "name": "stdout",
     "output_type": "stream",
     "text": [
      "CONFUSION MATRIX\n",
      "[[ 4 12]\n",
      " [ 2 30]]\n",
      "              precision    recall  f1-score   support\n",
      "\n",
      "           0       0.67      0.25      0.36        16\n",
      "           1       0.71      0.94      0.81        32\n",
      "\n",
      "    accuracy                           0.71        48\n",
      "   macro avg       0.69      0.59      0.59        48\n",
      "weighted avg       0.70      0.71      0.66        48\n",
      "\n",
      "SPECIFICITY\n",
      "[0.9375 0.25  ]\n",
      "AUROC\n",
      "0.6826171875\n"
     ]
    }
   ],
   "source": [
    "evaluation_test_pipeline(clf_stack_3_pipeline)"
   ]
  },
  {
   "cell_type": "code",
   "execution_count": 53,
   "id": "2c2e4006",
   "metadata": {},
   "outputs": [
    {
     "name": "stdout",
     "output_type": "stream",
     "text": [
      "CONFUSION MATRIX\n",
      "[[ 7  9]\n",
      " [ 4 28]]\n",
      "              precision    recall  f1-score   support\n",
      "\n",
      "           0       0.64      0.44      0.52        16\n",
      "           1       0.76      0.88      0.81        32\n",
      "\n",
      "    accuracy                           0.73        48\n",
      "   macro avg       0.70      0.66      0.67        48\n",
      "weighted avg       0.72      0.73      0.71        48\n",
      "\n",
      "SPECIFICITY\n",
      "[0.875  0.4375]\n",
      "AUROC\n",
      "0.703125\n"
     ]
    }
   ],
   "source": [
    "evaluation_test_pipeline(clf_stack_4_pipeline)"
   ]
  },
  {
   "cell_type": "code",
   "execution_count": 196,
   "id": "e60a8ef5",
   "metadata": {},
   "outputs": [
    {
     "name": "stdout",
     "output_type": "stream",
     "text": [
      "CONFUSION MATRIX\n",
      "[[ 6 10]\n",
      " [ 3 29]]\n",
      "              precision    recall  f1-score   support\n",
      "\n",
      "           0       0.67      0.38      0.48        16\n",
      "           1       0.74      0.91      0.82        32\n",
      "\n",
      "    accuracy                           0.73        48\n",
      "   macro avg       0.71      0.64      0.65        48\n",
      "weighted avg       0.72      0.73      0.70        48\n",
      "\n",
      "SPECIFICITY\n",
      "[0.90625 0.375  ]\n",
      "AUROC\n",
      "0.68359375\n"
     ]
    }
   ],
   "source": [
    "evaluation_test_pipeline(clf_stack_5_pipeline)"
   ]
  },
  {
   "cell_type": "code",
   "execution_count": 194,
   "id": "a89bb3e9",
   "metadata": {},
   "outputs": [
    {
     "name": "stdout",
     "output_type": "stream",
     "text": [
      "CONFUSION MATRIX\n",
      "[[ 9  7]\n",
      " [ 2 30]]\n",
      "              precision    recall  f1-score   support\n",
      "\n",
      "           0       0.82      0.56      0.67        16\n",
      "           1       0.81      0.94      0.87        32\n",
      "\n",
      "    accuracy                           0.81        48\n",
      "   macro avg       0.81      0.75      0.77        48\n",
      "weighted avg       0.81      0.81      0.80        48\n",
      "\n"
     ]
    }
   ],
   "source": [
    "evaluation_test_pipeline_RiC(RiC_pipeline)"
   ]
  },
  {
   "cell_type": "code",
   "execution_count": 190,
   "id": "f6291cec",
   "metadata": {},
   "outputs": [
    {
     "name": "stdout",
     "output_type": "stream",
     "text": [
      "CONFUSION MATRIX\n",
      "[[ 5 11]\n",
      " [ 6 26]]\n",
      "              precision    recall  f1-score   support\n",
      "\n",
      "           0       0.45      0.31      0.37        16\n",
      "           1       0.70      0.81      0.75        32\n",
      "\n",
      "    accuracy                           0.65        48\n",
      "   macro avg       0.58      0.56      0.56        48\n",
      "weighted avg       0.62      0.65      0.63        48\n",
      "\n",
      "SPECIFICITY\n",
      "[0.8125 0.3125]\n",
      "AUROC\n",
      "0.6181640625\n"
     ]
    }
   ],
   "source": [
    "evaluation_test_pipeline(clf_stack_6_pipeline)"
   ]
  },
  {
   "cell_type": "code",
   "execution_count": 198,
   "id": "3020c4fd",
   "metadata": {},
   "outputs": [
    {
     "name": "stdout",
     "output_type": "stream",
     "text": [
      "CONFUSION MATRIX\n",
      "[[ 5 11]\n",
      " [ 6 26]]\n",
      "              precision    recall  f1-score   support\n",
      "\n",
      "           0       0.45      0.31      0.37        16\n",
      "           1       0.70      0.81      0.75        32\n",
      "\n",
      "    accuracy                           0.65        48\n",
      "   macro avg       0.58      0.56      0.56        48\n",
      "weighted avg       0.62      0.65      0.63        48\n",
      "\n",
      "SPECIFICITY\n",
      "[0.8125 0.3125]\n",
      "AUROC\n",
      "0.6181640625\n"
     ]
    }
   ],
   "source": [
    "evaluation_test_pipeline(clf_stack_7_pipeline)"
   ]
  },
  {
   "cell_type": "code",
   "execution_count": 51,
   "id": "fd6b1d04",
   "metadata": {},
   "outputs": [
    {
     "name": "stdout",
     "output_type": "stream",
     "text": [
      "CONFUSION MATRIX\n",
      "[[ 6 10]\n",
      " [ 3 29]]\n",
      "              precision    recall  f1-score   support\n",
      "\n",
      "           0       0.67      0.38      0.48        16\n",
      "           1       0.74      0.91      0.82        32\n",
      "\n",
      "    accuracy                           0.73        48\n",
      "   macro avg       0.71      0.64      0.65        48\n",
      "weighted avg       0.72      0.73      0.70        48\n",
      "\n",
      "SPECIFICITY\n",
      "[0.90625 0.375  ]\n",
      "AUROC\n",
      "0.68359375\n"
     ]
    }
   ],
   "source": [
    "evaluation_test_pipeline(clf_stack_8_pipeline)"
   ]
  },
  {
   "cell_type": "markdown",
   "id": "5c9d2aa3",
   "metadata": {},
   "source": [
    "## Cross-validation"
   ]
  },
  {
   "cell_type": "code",
   "execution_count": 27,
   "id": "12190db9",
   "metadata": {},
   "outputs": [
    {
     "name": "stdout",
     "output_type": "stream",
     "text": [
      "score folds F1\n",
      "[0.82758621 0.88888889 0.88       0.89655172 0.92857143 0.88888889\n",
      " 0.78571429 0.86666667 0.74074074 0.74074074]\n",
      "Mean CV F1 0.844\n",
      "standard deviation CV F1 0.064\n",
      "####################################################################\n",
      "score folds AUC\n",
      "[0.86813187 0.94505495 0.85714286 0.82051282 0.93589744 0.78205128\n",
      " 0.78205128 0.87179487 0.69230769 0.75641026]\n",
      "Mean CV AUC 0.831\n",
      "standard deviation CV AUC 0.076\n"
     ]
    }
   ],
   "source": [
    "from sklearn.pipeline import Pipeline\n",
    "from sklearn.model_selection import cross_val_score\n",
    "\n",
    "# Ridge Classifier CV\n",
    "cross_validation =10\n",
    "score_f1 = cross_val_score(RidgeClassifier(alpha= 2, random_state=1), X_train_scaled, y_train, cv=cross_validation, scoring =\"f1\")\n",
    "score_auc = cross_val_score(RidgeClassifier(alpha= 2, random_state=1), X_train_scaled, y_train, cv=cross_validation, scoring =\"roc_auc\")\n",
    "print('score folds F1')\n",
    "print(score_f1)\n",
    "print('Mean CV F1', '{:.3f}'.format(score_f1.mean()))\n",
    "print('standard deviation CV F1', '{:.3f}'.format(np.std(score_f1)))\n",
    "print('####################################################################')\n",
    "\n",
    "print('score folds AUC')\n",
    "print(score_auc)\n",
    "print('Mean CV AUC', '{:.3f}'.format(score_auc.mean()))\n",
    "print('standard deviation CV AUC', '{:.3f}'.format(np.std(score_auc)))"
   ]
  },
  {
   "cell_type": "code",
   "execution_count": 28,
   "id": "81a30abf",
   "metadata": {},
   "outputs": [
    {
     "name": "stdout",
     "output_type": "stream",
     "text": [
      "[ 17  34  51  68  86 103 120 137 154 172]\n"
     ]
    },
    {
     "data": {
      "application/javascript": [
       "\n",
       "        if (window._pyforest_update_imports_cell) { window._pyforest_update_imports_cell('from sklearn.model_selection import RandomizedSearchCV\\nimport matplotlib.pyplot as plt'); }\n",
       "    "
      ],
      "text/plain": [
       "<IPython.core.display.Javascript object>"
      ]
     },
     "metadata": {},
     "output_type": "display_data"
    },
    {
     "data": {
      "application/javascript": [
       "\n",
       "        if (window._pyforest_update_imports_cell) { window._pyforest_update_imports_cell('from sklearn.model_selection import RandomizedSearchCV\\nimport matplotlib.pyplot as plt'); }\n",
       "    "
      ],
      "text/plain": [
       "<IPython.core.display.Javascript object>"
      ]
     },
     "metadata": {},
     "output_type": "display_data"
    },
    {
     "data": {
      "application/javascript": [
       "\n",
       "        if (window._pyforest_update_imports_cell) { window._pyforest_update_imports_cell('from sklearn.model_selection import RandomizedSearchCV\\nimport matplotlib.pyplot as plt'); }\n",
       "    "
      ],
      "text/plain": [
       "<IPython.core.display.Javascript object>"
      ]
     },
     "metadata": {},
     "output_type": "display_data"
    },
    {
     "data": {
      "application/javascript": [
       "\n",
       "        if (window._pyforest_update_imports_cell) { window._pyforest_update_imports_cell('from sklearn.model_selection import RandomizedSearchCV\\nimport matplotlib.pyplot as plt'); }\n",
       "    "
      ],
      "text/plain": [
       "<IPython.core.display.Javascript object>"
      ]
     },
     "metadata": {},
     "output_type": "display_data"
    },
    {
     "data": {
      "application/javascript": [
       "\n",
       "        if (window._pyforest_update_imports_cell) { window._pyforest_update_imports_cell('from sklearn.model_selection import RandomizedSearchCV\\nimport matplotlib.pyplot as plt'); }\n",
       "    "
      ],
      "text/plain": [
       "<IPython.core.display.Javascript object>"
      ]
     },
     "metadata": {},
     "output_type": "display_data"
    },
    {
     "data": {
      "text/plain": [
       "<matplotlib.legend.Legend at 0x2184fab8c70>"
      ]
     },
     "execution_count": 28,
     "metadata": {},
     "output_type": "execute_result"
    },
    {
     "data": {
      "image/png": "[encoded data removed]",
      "text/plain": [
       "<Figure size 504x360 with 1 Axes>"
      ]
     },
     "metadata": {
      "needs_background": "light"
     },
     "output_type": "display_data"
    }
   ],
   "source": [
    "# Learning curve of Ridge Classifier\n",
    "\n",
    "N, train_score, val_score = learning_curve(RidgeClassifier(alpha= 2, random_state=1), X_train_scaled, y_train,  scoring='f1',\n",
    "                                           train_sizes=np.linspace(0.1, 1, 10), cv=10)\n",
    "\n",
    "print(N)\n",
    "plt.figure(figsize=(7, 5))\n",
    "plt.plot(N, train_score.mean(axis=1), label='training F1 score')\n",
    "plt.plot(N, val_score.mean(axis=1), label='cross-validation F1 score')\n",
    "plt.xlabel('train_sizes')\n",
    "plt.legend()"
   ]
  },
  {
   "cell_type": "code",
   "execution_count": 18,
   "id": "69e98e98",
   "metadata": {},
   "outputs": [
    {
     "name": "stdout",
     "output_type": "stream",
     "text": [
      "score folds F1\n",
      "[0.82758621 0.92307692 0.88       0.89655172 0.92857143 0.85714286\n",
      " 0.78571429 0.89655172 0.76923077 0.74074074]\n",
      "Mean CV F1 0.851\n",
      "standard deviation CV F1 0.063\n",
      "####################################################################\n",
      "score folds AUC\n",
      "[0.83516484 0.95604396 0.85714286 0.79487179 0.93589744 0.79487179\n",
      " 0.73076923 0.83333333 0.75641026 0.71794872]\n",
      "Mean CV AUC 0.821\n",
      "standard deviation CV AUC 0.076\n"
     ]
    }
   ],
   "source": [
    "from sklearn.pipeline import Pipeline\n",
    "from sklearn.model_selection import cross_val_score\n",
    "\n",
    "# Logistic Regression CV\n",
    "cross_validation =10\n",
    "score_f1 = cross_val_score(LogisticRegression(C= 6, penalty=  'l2', random_state=1), X_train_scaled, y_train, cv=cross_validation, scoring =\"f1\")\n",
    "score_auc = cross_val_score(LogisticRegression(C= 6, penalty=  'l2', random_state=1), X_train_scaled, y_train, cv=cross_validation, scoring =\"roc_auc\")\n",
    "print('score folds F1')\n",
    "print(score_f1)\n",
    "print('Mean CV F1', '{:.3f}'.format(score_f1.mean()))\n",
    "print('standard deviation CV F1', '{:.3f}'.format(np.std(score_f1)))\n",
    "print('####################################################################')\n",
    "\n",
    "print('score folds AUC')\n",
    "print(score_auc)\n",
    "print('Mean CV AUC', '{:.3f}'.format(score_auc.mean()))\n",
    "print('standard deviation CV AUC', '{:.3f}'.format(np.std(score_auc)))"
   ]
  },
  {
   "cell_type": "code",
   "execution_count": 85,
   "id": "d6f99a18",
   "metadata": {},
   "outputs": [],
   "source": [
    "from sklearn.model_selection import learning_curve\n",
    "import matplotlib.pyplot as plt"
   ]
  },
  {
   "cell_type": "code",
   "execution_count": 86,
   "id": "c4df34fe",
   "metadata": {},
   "outputs": [
    {
     "name": "stderr",
     "output_type": "stream",
     "text": [
      "C:\\Users\\DDD\\anaconda3\\lib\\site-packages\\sklearn\\neural_network\\_multilayer_perceptron.py:702: ConvergenceWarning: Stochastic Optimizer: Maximum iterations (200) reached and the optimization hasn't converged yet.\n",
      "  warnings.warn(\n",
      "C:\\Users\\DDD\\anaconda3\\lib\\site-packages\\sklearn\\neural_network\\_multilayer_perceptron.py:702: ConvergenceWarning: Stochastic Optimizer: Maximum iterations (200) reached and the optimization hasn't converged yet.\n",
      "  warnings.warn(\n",
      "C:\\Users\\DDD\\anaconda3\\lib\\site-packages\\sklearn\\neural_network\\_multilayer_perceptron.py:702: ConvergenceWarning: Stochastic Optimizer: Maximum iterations (200) reached and the optimization hasn't converged yet.\n",
      "  warnings.warn(\n",
      "C:\\Users\\DDD\\anaconda3\\lib\\site-packages\\sklearn\\neural_network\\_multilayer_perceptron.py:702: ConvergenceWarning: Stochastic Optimizer: Maximum iterations (200) reached and the optimization hasn't converged yet.\n",
      "  warnings.warn(\n",
      "C:\\Users\\DDD\\anaconda3\\lib\\site-packages\\sklearn\\neural_network\\_multilayer_perceptron.py:702: ConvergenceWarning: Stochastic Optimizer: Maximum iterations (200) reached and the optimization hasn't converged yet.\n",
      "  warnings.warn(\n",
      "C:\\Users\\DDD\\anaconda3\\lib\\site-packages\\sklearn\\neural_network\\_multilayer_perceptron.py:702: ConvergenceWarning: Stochastic Optimizer: Maximum iterations (200) reached and the optimization hasn't converged yet.\n",
      "  warnings.warn(\n",
      "C:\\Users\\DDD\\anaconda3\\lib\\site-packages\\sklearn\\neural_network\\_multilayer_perceptron.py:702: ConvergenceWarning: Stochastic Optimizer: Maximum iterations (200) reached and the optimization hasn't converged yet.\n",
      "  warnings.warn(\n",
      "C:\\Users\\DDD\\anaconda3\\lib\\site-packages\\sklearn\\neural_network\\_multilayer_perceptron.py:702: ConvergenceWarning: Stochastic Optimizer: Maximum iterations (200) reached and the optimization hasn't converged yet.\n",
      "  warnings.warn(\n",
      "C:\\Users\\DDD\\anaconda3\\lib\\site-packages\\sklearn\\neural_network\\_multilayer_perceptron.py:702: ConvergenceWarning: Stochastic Optimizer: Maximum iterations (200) reached and the optimization hasn't converged yet.\n",
      "  warnings.warn(\n",
      "C:\\Users\\DDD\\anaconda3\\lib\\site-packages\\sklearn\\neural_network\\_multilayer_perceptron.py:702: ConvergenceWarning: Stochastic Optimizer: Maximum iterations (200) reached and the optimization hasn't converged yet.\n",
      "  warnings.warn(\n",
      "C:\\Users\\DDD\\anaconda3\\lib\\site-packages\\sklearn\\neural_network\\_multilayer_perceptron.py:702: ConvergenceWarning: Stochastic Optimizer: Maximum iterations (200) reached and the optimization hasn't converged yet.\n",
      "  warnings.warn(\n",
      "C:\\Users\\DDD\\anaconda3\\lib\\site-packages\\sklearn\\neural_network\\_multilayer_perceptron.py:702: ConvergenceWarning: Stochastic Optimizer: Maximum iterations (200) reached and the optimization hasn't converged yet.\n",
      "  warnings.warn(\n",
      "C:\\Users\\DDD\\anaconda3\\lib\\site-packages\\sklearn\\neural_network\\_multilayer_perceptron.py:702: ConvergenceWarning: Stochastic Optimizer: Maximum iterations (200) reached and the optimization hasn't converged yet.\n",
      "  warnings.warn(\n",
      "C:\\Users\\DDD\\anaconda3\\lib\\site-packages\\sklearn\\neural_network\\_multilayer_perceptron.py:702: ConvergenceWarning: Stochastic Optimizer: Maximum iterations (200) reached and the optimization hasn't converged yet.\n",
      "  warnings.warn(\n",
      "C:\\Users\\DDD\\anaconda3\\lib\\site-packages\\sklearn\\neural_network\\_multilayer_perceptron.py:702: ConvergenceWarning: Stochastic Optimizer: Maximum iterations (200) reached and the optimization hasn't converged yet.\n",
      "  warnings.warn(\n",
      "C:\\Users\\DDD\\anaconda3\\lib\\site-packages\\sklearn\\neural_network\\_multilayer_perceptron.py:702: ConvergenceWarning: Stochastic Optimizer: Maximum iterations (200) reached and the optimization hasn't converged yet.\n",
      "  warnings.warn(\n",
      "C:\\Users\\DDD\\anaconda3\\lib\\site-packages\\sklearn\\neural_network\\_multilayer_perceptron.py:702: ConvergenceWarning: Stochastic Optimizer: Maximum iterations (200) reached and the optimization hasn't converged yet.\n",
      "  warnings.warn(\n",
      "C:\\Users\\DDD\\anaconda3\\lib\\site-packages\\sklearn\\neural_network\\_multilayer_perceptron.py:702: ConvergenceWarning: Stochastic Optimizer: Maximum iterations (200) reached and the optimization hasn't converged yet.\n",
      "  warnings.warn(\n",
      "C:\\Users\\DDD\\anaconda3\\lib\\site-packages\\sklearn\\neural_network\\_multilayer_perceptron.py:702: ConvergenceWarning: Stochastic Optimizer: Maximum iterations (200) reached and the optimization hasn't converged yet.\n",
      "  warnings.warn(\n",
      "C:\\Users\\DDD\\anaconda3\\lib\\site-packages\\sklearn\\neural_network\\_multilayer_perceptron.py:702: ConvergenceWarning: Stochastic Optimizer: Maximum iterations (200) reached and the optimization hasn't converged yet.\n",
      "  warnings.warn(\n",
      "C:\\Users\\DDD\\anaconda3\\lib\\site-packages\\sklearn\\neural_network\\_multilayer_perceptron.py:702: ConvergenceWarning: Stochastic Optimizer: Maximum iterations (200) reached and the optimization hasn't converged yet.\n",
      "  warnings.warn(\n",
      "C:\\Users\\DDD\\anaconda3\\lib\\site-packages\\sklearn\\neural_network\\_multilayer_perceptron.py:702: ConvergenceWarning: Stochastic Optimizer: Maximum iterations (200) reached and the optimization hasn't converged yet.\n",
      "  warnings.warn(\n",
      "C:\\Users\\DDD\\anaconda3\\lib\\site-packages\\sklearn\\neural_network\\_multilayer_perceptron.py:702: ConvergenceWarning: Stochastic Optimizer: Maximum iterations (200) reached and the optimization hasn't converged yet.\n",
      "  warnings.warn(\n",
      "C:\\Users\\DDD\\anaconda3\\lib\\site-packages\\sklearn\\neural_network\\_multilayer_perceptron.py:702: ConvergenceWarning: Stochastic Optimizer: Maximum iterations (200) reached and the optimization hasn't converged yet.\n",
      "  warnings.warn(\n",
      "C:\\Users\\DDD\\anaconda3\\lib\\site-packages\\sklearn\\neural_network\\_multilayer_perceptron.py:702: ConvergenceWarning: Stochastic Optimizer: Maximum iterations (200) reached and the optimization hasn't converged yet.\n",
      "  warnings.warn(\n",
      "C:\\Users\\DDD\\anaconda3\\lib\\site-packages\\sklearn\\neural_network\\_multilayer_perceptron.py:702: ConvergenceWarning: Stochastic Optimizer: Maximum iterations (200) reached and the optimization hasn't converged yet.\n",
      "  warnings.warn(\n",
      "C:\\Users\\DDD\\anaconda3\\lib\\site-packages\\sklearn\\neural_network\\_multilayer_perceptron.py:702: ConvergenceWarning: Stochastic Optimizer: Maximum iterations (200) reached and the optimization hasn't converged yet.\n",
      "  warnings.warn(\n",
      "C:\\Users\\DDD\\anaconda3\\lib\\site-packages\\sklearn\\neural_network\\_multilayer_perceptron.py:702: ConvergenceWarning: Stochastic Optimizer: Maximum iterations (200) reached and the optimization hasn't converged yet.\n",
      "  warnings.warn(\n",
      "C:\\Users\\DDD\\anaconda3\\lib\\site-packages\\sklearn\\neural_network\\_multilayer_perceptron.py:702: ConvergenceWarning: Stochastic Optimizer: Maximum iterations (200) reached and the optimization hasn't converged yet.\n",
      "  warnings.warn(\n",
      "C:\\Users\\DDD\\anaconda3\\lib\\site-packages\\sklearn\\neural_network\\_multilayer_perceptron.py:702: ConvergenceWarning: Stochastic Optimizer: Maximum iterations (200) reached and the optimization hasn't converged yet.\n",
      "  warnings.warn(\n",
      "C:\\Users\\DDD\\anaconda3\\lib\\site-packages\\sklearn\\neural_network\\_multilayer_perceptron.py:702: ConvergenceWarning: Stochastic Optimizer: Maximum iterations (200) reached and the optimization hasn't converged yet.\n",
      "  warnings.warn(\n",
      "C:\\Users\\DDD\\anaconda3\\lib\\site-packages\\sklearn\\neural_network\\_multilayer_perceptron.py:702: ConvergenceWarning: Stochastic Optimizer: Maximum iterations (200) reached and the optimization hasn't converged yet.\n",
      "  warnings.warn(\n",
      "C:\\Users\\DDD\\anaconda3\\lib\\site-packages\\sklearn\\neural_network\\_multilayer_perceptron.py:702: ConvergenceWarning: Stochastic Optimizer: Maximum iterations (200) reached and the optimization hasn't converged yet.\n",
      "  warnings.warn(\n",
      "C:\\Users\\DDD\\anaconda3\\lib\\site-packages\\sklearn\\neural_network\\_multilayer_perceptron.py:702: ConvergenceWarning: Stochastic Optimizer: Maximum iterations (200) reached and the optimization hasn't converged yet.\n",
      "  warnings.warn(\n",
      "C:\\Users\\DDD\\anaconda3\\lib\\site-packages\\sklearn\\neural_network\\_multilayer_perceptron.py:702: ConvergenceWarning: Stochastic Optimizer: Maximum iterations (200) reached and the optimization hasn't converged yet.\n",
      "  warnings.warn(\n",
      "C:\\Users\\DDD\\anaconda3\\lib\\site-packages\\sklearn\\neural_network\\_multilayer_perceptron.py:702: ConvergenceWarning: Stochastic Optimizer: Maximum iterations (200) reached and the optimization hasn't converged yet.\n",
      "  warnings.warn(\n",
      "C:\\Users\\DDD\\anaconda3\\lib\\site-packages\\sklearn\\neural_network\\_multilayer_perceptron.py:702: ConvergenceWarning: Stochastic Optimizer: Maximum iterations (200) reached and the optimization hasn't converged yet.\n",
      "  warnings.warn(\n",
      "C:\\Users\\DDD\\anaconda3\\lib\\site-packages\\sklearn\\neural_network\\_multilayer_perceptron.py:702: ConvergenceWarning: Stochastic Optimizer: Maximum iterations (200) reached and the optimization hasn't converged yet.\n",
      "  warnings.warn(\n",
      "C:\\Users\\DDD\\anaconda3\\lib\\site-packages\\sklearn\\neural_network\\_multilayer_perceptron.py:702: ConvergenceWarning: Stochastic Optimizer: Maximum iterations (200) reached and the optimization hasn't converged yet.\n",
      "  warnings.warn(\n",
      "C:\\Users\\DDD\\anaconda3\\lib\\site-packages\\sklearn\\neural_network\\_multilayer_perceptron.py:702: ConvergenceWarning: Stochastic Optimizer: Maximum iterations (200) reached and the optimization hasn't converged yet.\n",
      "  warnings.warn(\n",
      "C:\\Users\\DDD\\anaconda3\\lib\\site-packages\\sklearn\\neural_network\\_multilayer_perceptron.py:702: ConvergenceWarning: Stochastic Optimizer: Maximum iterations (200) reached and the optimization hasn't converged yet.\n",
      "  warnings.warn(\n",
      "C:\\Users\\DDD\\anaconda3\\lib\\site-packages\\sklearn\\neural_network\\_multilayer_perceptron.py:702: ConvergenceWarning: Stochastic Optimizer: Maximum iterations (200) reached and the optimization hasn't converged yet.\n",
      "  warnings.warn(\n",
      "C:\\Users\\DDD\\anaconda3\\lib\\site-packages\\sklearn\\neural_network\\_multilayer_perceptron.py:702: ConvergenceWarning: Stochastic Optimizer: Maximum iterations (200) reached and the optimization hasn't converged yet.\n",
      "  warnings.warn(\n",
      "C:\\Users\\DDD\\anaconda3\\lib\\site-packages\\sklearn\\neural_network\\_multilayer_perceptron.py:702: ConvergenceWarning: Stochastic Optimizer: Maximum iterations (200) reached and the optimization hasn't converged yet.\n",
      "  warnings.warn(\n",
      "C:\\Users\\DDD\\anaconda3\\lib\\site-packages\\sklearn\\neural_network\\_multilayer_perceptron.py:702: ConvergenceWarning: Stochastic Optimizer: Maximum iterations (200) reached and the optimization hasn't converged yet.\n",
      "  warnings.warn(\n",
      "C:\\Users\\DDD\\anaconda3\\lib\\site-packages\\sklearn\\neural_network\\_multilayer_perceptron.py:702: ConvergenceWarning: Stochastic Optimizer: Maximum iterations (200) reached and the optimization hasn't converged yet.\n",
      "  warnings.warn(\n",
      "C:\\Users\\DDD\\anaconda3\\lib\\site-packages\\sklearn\\neural_network\\_multilayer_perceptron.py:702: ConvergenceWarning: Stochastic Optimizer: Maximum iterations (200) reached and the optimization hasn't converged yet.\n",
      "  warnings.warn(\n",
      "C:\\Users\\DDD\\anaconda3\\lib\\site-packages\\sklearn\\neural_network\\_multilayer_perceptron.py:702: ConvergenceWarning: Stochastic Optimizer: Maximum iterations (200) reached and the optimization hasn't converged yet.\n",
      "  warnings.warn(\n",
      "C:\\Users\\DDD\\anaconda3\\lib\\site-packages\\sklearn\\neural_network\\_multilayer_perceptron.py:702: ConvergenceWarning: Stochastic Optimizer: Maximum iterations (200) reached and the optimization hasn't converged yet.\n",
      "  warnings.warn(\n",
      "C:\\Users\\DDD\\anaconda3\\lib\\site-packages\\sklearn\\neural_network\\_multilayer_perceptron.py:702: ConvergenceWarning: Stochastic Optimizer: Maximum iterations (200) reached and the optimization hasn't converged yet.\n",
      "  warnings.warn(\n",
      "C:\\Users\\DDD\\anaconda3\\lib\\site-packages\\sklearn\\neural_network\\_multilayer_perceptron.py:702: ConvergenceWarning: Stochastic Optimizer: Maximum iterations (200) reached and the optimization hasn't converged yet.\n",
      "  warnings.warn(\n",
      "C:\\Users\\DDD\\anaconda3\\lib\\site-packages\\sklearn\\neural_network\\_multilayer_perceptron.py:702: ConvergenceWarning: Stochastic Optimizer: Maximum iterations (200) reached and the optimization hasn't converged yet.\n",
      "  warnings.warn(\n",
      "C:\\Users\\DDD\\anaconda3\\lib\\site-packages\\sklearn\\neural_network\\_multilayer_perceptron.py:702: ConvergenceWarning: Stochastic Optimizer: Maximum iterations (200) reached and the optimization hasn't converged yet.\n",
      "  warnings.warn(\n",
      "C:\\Users\\DDD\\anaconda3\\lib\\site-packages\\sklearn\\neural_network\\_multilayer_perceptron.py:702: ConvergenceWarning: Stochastic Optimizer: Maximum iterations (200) reached and the optimization hasn't converged yet.\n",
      "  warnings.warn(\n",
      "C:\\Users\\DDD\\anaconda3\\lib\\site-packages\\sklearn\\neural_network\\_multilayer_perceptron.py:702: ConvergenceWarning: Stochastic Optimizer: Maximum iterations (200) reached and the optimization hasn't converged yet.\n",
      "  warnings.warn(\n",
      "C:\\Users\\DDD\\anaconda3\\lib\\site-packages\\sklearn\\neural_network\\_multilayer_perceptron.py:702: ConvergenceWarning: Stochastic Optimizer: Maximum iterations (200) reached and the optimization hasn't converged yet.\n",
      "  warnings.warn(\n",
      "C:\\Users\\DDD\\anaconda3\\lib\\site-packages\\sklearn\\neural_network\\_multilayer_perceptron.py:702: ConvergenceWarning: Stochastic Optimizer: Maximum iterations (200) reached and the optimization hasn't converged yet.\n",
      "  warnings.warn(\n",
      "C:\\Users\\DDD\\anaconda3\\lib\\site-packages\\sklearn\\neural_network\\_multilayer_perceptron.py:702: ConvergenceWarning: Stochastic Optimizer: Maximum iterations (200) reached and the optimization hasn't converged yet.\n",
      "  warnings.warn(\n",
      "C:\\Users\\DDD\\anaconda3\\lib\\site-packages\\sklearn\\neural_network\\_multilayer_perceptron.py:702: ConvergenceWarning: Stochastic Optimizer: Maximum iterations (200) reached and the optimization hasn't converged yet.\n",
      "  warnings.warn(\n",
      "C:\\Users\\DDD\\anaconda3\\lib\\site-packages\\sklearn\\neural_network\\_multilayer_perceptron.py:702: ConvergenceWarning: Stochastic Optimizer: Maximum iterations (200) reached and the optimization hasn't converged yet.\n",
      "  warnings.warn(\n",
      "C:\\Users\\DDD\\anaconda3\\lib\\site-packages\\sklearn\\neural_network\\_multilayer_perceptron.py:702: ConvergenceWarning: Stochastic Optimizer: Maximum iterations (200) reached and the optimization hasn't converged yet.\n",
      "  warnings.warn(\n",
      "C:\\Users\\DDD\\anaconda3\\lib\\site-packages\\sklearn\\neural_network\\_multilayer_perceptron.py:702: ConvergenceWarning: Stochastic Optimizer: Maximum iterations (200) reached and the optimization hasn't converged yet.\n",
      "  warnings.warn(\n",
      "C:\\Users\\DDD\\anaconda3\\lib\\site-packages\\sklearn\\neural_network\\_multilayer_perceptron.py:702: ConvergenceWarning: Stochastic Optimizer: Maximum iterations (200) reached and the optimization hasn't converged yet.\n",
      "  warnings.warn(\n",
      "C:\\Users\\DDD\\anaconda3\\lib\\site-packages\\sklearn\\neural_network\\_multilayer_perceptron.py:702: ConvergenceWarning: Stochastic Optimizer: Maximum iterations (200) reached and the optimization hasn't converged yet.\n",
      "  warnings.warn(\n",
      "C:\\Users\\DDD\\anaconda3\\lib\\site-packages\\sklearn\\neural_network\\_multilayer_perceptron.py:702: ConvergenceWarning: Stochastic Optimizer: Maximum iterations (200) reached and the optimization hasn't converged yet.\n",
      "  warnings.warn(\n",
      "C:\\Users\\DDD\\anaconda3\\lib\\site-packages\\sklearn\\neural_network\\_multilayer_perceptron.py:702: ConvergenceWarning: Stochastic Optimizer: Maximum iterations (200) reached and the optimization hasn't converged yet.\n",
      "  warnings.warn(\n",
      "C:\\Users\\DDD\\anaconda3\\lib\\site-packages\\sklearn\\neural_network\\_multilayer_perceptron.py:702: ConvergenceWarning: Stochastic Optimizer: Maximum iterations (200) reached and the optimization hasn't converged yet.\n",
      "  warnings.warn(\n",
      "C:\\Users\\DDD\\anaconda3\\lib\\site-packages\\sklearn\\neural_network\\_multilayer_perceptron.py:702: ConvergenceWarning: Stochastic Optimizer: Maximum iterations (200) reached and the optimization hasn't converged yet.\n",
      "  warnings.warn(\n",
      "C:\\Users\\DDD\\anaconda3\\lib\\site-packages\\sklearn\\neural_network\\_multilayer_perceptron.py:702: ConvergenceWarning: Stochastic Optimizer: Maximum iterations (200) reached and the optimization hasn't converged yet.\n",
      "  warnings.warn(\n",
      "C:\\Users\\DDD\\anaconda3\\lib\\site-packages\\sklearn\\neural_network\\_multilayer_perceptron.py:702: ConvergenceWarning: Stochastic Optimizer: Maximum iterations (200) reached and the optimization hasn't converged yet.\n",
      "  warnings.warn(\n",
      "C:\\Users\\DDD\\anaconda3\\lib\\site-packages\\sklearn\\neural_network\\_multilayer_perceptron.py:702: ConvergenceWarning: Stochastic Optimizer: Maximum iterations (200) reached and the optimization hasn't converged yet.\n",
      "  warnings.warn(\n",
      "C:\\Users\\DDD\\anaconda3\\lib\\site-packages\\sklearn\\neural_network\\_multilayer_perceptron.py:702: ConvergenceWarning: Stochastic Optimizer: Maximum iterations (200) reached and the optimization hasn't converged yet.\n",
      "  warnings.warn(\n",
      "C:\\Users\\DDD\\anaconda3\\lib\\site-packages\\sklearn\\neural_network\\_multilayer_perceptron.py:702: ConvergenceWarning: Stochastic Optimizer: Maximum iterations (200) reached and the optimization hasn't converged yet.\n",
      "  warnings.warn(\n",
      "C:\\Users\\DDD\\anaconda3\\lib\\site-packages\\sklearn\\neural_network\\_multilayer_perceptron.py:702: ConvergenceWarning: Stochastic Optimizer: Maximum iterations (200) reached and the optimization hasn't converged yet.\n",
      "  warnings.warn(\n",
      "C:\\Users\\DDD\\anaconda3\\lib\\site-packages\\sklearn\\neural_network\\_multilayer_perceptron.py:702: ConvergenceWarning: Stochastic Optimizer: Maximum iterations (200) reached and the optimization hasn't converged yet.\n",
      "  warnings.warn(\n",
      "C:\\Users\\DDD\\anaconda3\\lib\\site-packages\\sklearn\\neural_network\\_multilayer_perceptron.py:702: ConvergenceWarning: Stochastic Optimizer: Maximum iterations (200) reached and the optimization hasn't converged yet.\n",
      "  warnings.warn(\n",
      "C:\\Users\\DDD\\anaconda3\\lib\\site-packages\\sklearn\\neural_network\\_multilayer_perceptron.py:702: ConvergenceWarning: Stochastic Optimizer: Maximum iterations (200) reached and the optimization hasn't converged yet.\n",
      "  warnings.warn(\n",
      "C:\\Users\\DDD\\anaconda3\\lib\\site-packages\\sklearn\\neural_network\\_multilayer_perceptron.py:702: ConvergenceWarning: Stochastic Optimizer: Maximum iterations (200) reached and the optimization hasn't converged yet.\n",
      "  warnings.warn(\n",
      "C:\\Users\\DDD\\anaconda3\\lib\\site-packages\\sklearn\\neural_network\\_multilayer_perceptron.py:702: ConvergenceWarning: Stochastic Optimizer: Maximum iterations (200) reached and the optimization hasn't converged yet.\n",
      "  warnings.warn(\n",
      "C:\\Users\\DDD\\anaconda3\\lib\\site-packages\\sklearn\\neural_network\\_multilayer_perceptron.py:702: ConvergenceWarning: Stochastic Optimizer: Maximum iterations (200) reached and the optimization hasn't converged yet.\n",
      "  warnings.warn(\n",
      "C:\\Users\\DDD\\anaconda3\\lib\\site-packages\\sklearn\\neural_network\\_multilayer_perceptron.py:702: ConvergenceWarning: Stochastic Optimizer: Maximum iterations (200) reached and the optimization hasn't converged yet.\n",
      "  warnings.warn(\n",
      "C:\\Users\\DDD\\anaconda3\\lib\\site-packages\\sklearn\\neural_network\\_multilayer_perceptron.py:702: ConvergenceWarning: Stochastic Optimizer: Maximum iterations (200) reached and the optimization hasn't converged yet.\n",
      "  warnings.warn(\n",
      "C:\\Users\\DDD\\anaconda3\\lib\\site-packages\\sklearn\\neural_network\\_multilayer_perceptron.py:702: ConvergenceWarning: Stochastic Optimizer: Maximum iterations (200) reached and the optimization hasn't converged yet.\n",
      "  warnings.warn(\n",
      "C:\\Users\\DDD\\anaconda3\\lib\\site-packages\\sklearn\\neural_network\\_multilayer_perceptron.py:702: ConvergenceWarning: Stochastic Optimizer: Maximum iterations (200) reached and the optimization hasn't converged yet.\n",
      "  warnings.warn(\n",
      "C:\\Users\\DDD\\anaconda3\\lib\\site-packages\\sklearn\\neural_network\\_multilayer_perceptron.py:702: ConvergenceWarning: Stochastic Optimizer: Maximum iterations (200) reached and the optimization hasn't converged yet.\n",
      "  warnings.warn(\n",
      "C:\\Users\\DDD\\anaconda3\\lib\\site-packages\\sklearn\\neural_network\\_multilayer_perceptron.py:702: ConvergenceWarning: Stochastic Optimizer: Maximum iterations (200) reached and the optimization hasn't converged yet.\n",
      "  warnings.warn(\n",
      "C:\\Users\\DDD\\anaconda3\\lib\\site-packages\\sklearn\\neural_network\\_multilayer_perceptron.py:702: ConvergenceWarning: Stochastic Optimizer: Maximum iterations (200) reached and the optimization hasn't converged yet.\n",
      "  warnings.warn(\n",
      "C:\\Users\\DDD\\anaconda3\\lib\\site-packages\\sklearn\\neural_network\\_multilayer_perceptron.py:702: ConvergenceWarning: Stochastic Optimizer: Maximum iterations (200) reached and the optimization hasn't converged yet.\n",
      "  warnings.warn(\n",
      "C:\\Users\\DDD\\anaconda3\\lib\\site-packages\\sklearn\\neural_network\\_multilayer_perceptron.py:702: ConvergenceWarning: Stochastic Optimizer: Maximum iterations (200) reached and the optimization hasn't converged yet.\n",
      "  warnings.warn(\n",
      "C:\\Users\\DDD\\anaconda3\\lib\\site-packages\\sklearn\\neural_network\\_multilayer_perceptron.py:702: ConvergenceWarning: Stochastic Optimizer: Maximum iterations (200) reached and the optimization hasn't converged yet.\n",
      "  warnings.warn(\n",
      "C:\\Users\\DDD\\anaconda3\\lib\\site-packages\\sklearn\\neural_network\\_multilayer_perceptron.py:702: ConvergenceWarning: Stochastic Optimizer: Maximum iterations (200) reached and the optimization hasn't converged yet.\n",
      "  warnings.warn(\n",
      "C:\\Users\\DDD\\anaconda3\\lib\\site-packages\\sklearn\\neural_network\\_multilayer_perceptron.py:702: ConvergenceWarning: Stochastic Optimizer: Maximum iterations (200) reached and the optimization hasn't converged yet.\n",
      "  warnings.warn(\n",
      "C:\\Users\\DDD\\anaconda3\\lib\\site-packages\\sklearn\\neural_network\\_multilayer_perceptron.py:702: ConvergenceWarning: Stochastic Optimizer: Maximum iterations (200) reached and the optimization hasn't converged yet.\n",
      "  warnings.warn(\n",
      "C:\\Users\\DDD\\anaconda3\\lib\\site-packages\\sklearn\\neural_network\\_multilayer_perceptron.py:702: ConvergenceWarning: Stochastic Optimizer: Maximum iterations (200) reached and the optimization hasn't converged yet.\n",
      "  warnings.warn(\n",
      "C:\\Users\\DDD\\anaconda3\\lib\\site-packages\\sklearn\\neural_network\\_multilayer_perceptron.py:702: ConvergenceWarning: Stochastic Optimizer: Maximum iterations (200) reached and the optimization hasn't converged yet.\n",
      "  warnings.warn(\n",
      "C:\\Users\\DDD\\anaconda3\\lib\\site-packages\\sklearn\\neural_network\\_multilayer_perceptron.py:702: ConvergenceWarning: Stochastic Optimizer: Maximum iterations (200) reached and the optimization hasn't converged yet.\n",
      "  warnings.warn(\n",
      "C:\\Users\\DDD\\anaconda3\\lib\\site-packages\\sklearn\\neural_network\\_multilayer_perceptron.py:702: ConvergenceWarning: Stochastic Optimizer: Maximum iterations (200) reached and the optimization hasn't converged yet.\n",
      "  warnings.warn(\n",
      "C:\\Users\\DDD\\anaconda3\\lib\\site-packages\\sklearn\\neural_network\\_multilayer_perceptron.py:702: ConvergenceWarning: Stochastic Optimizer: Maximum iterations (200) reached and the optimization hasn't converged yet.\n",
      "  warnings.warn(\n",
      "C:\\Users\\DDD\\anaconda3\\lib\\site-packages\\sklearn\\neural_network\\_multilayer_perceptron.py:702: ConvergenceWarning: Stochastic Optimizer: Maximum iterations (200) reached and the optimization hasn't converged yet.\n",
      "  warnings.warn(\n"
     ]
    },
    {
     "name": "stdout",
     "output_type": "stream",
     "text": [
      "[ 17  34  51  68  86 103 120 137 154 172]\n"
     ]
    },
    {
     "name": "stderr",
     "output_type": "stream",
     "text": [
      "C:\\Users\\DDD\\anaconda3\\lib\\site-packages\\sklearn\\neural_network\\_multilayer_perceptron.py:702: ConvergenceWarning: Stochastic Optimizer: Maximum iterations (200) reached and the optimization hasn't converged yet.\n",
      "  warnings.warn(\n"
     ]
    },
    {
     "data": {
      "text/plain": [
       "<matplotlib.legend.Legend at 0x24eae494a90>"
      ]
     },
     "execution_count": 86,
     "metadata": {},
     "output_type": "execute_result"
    },
    {
     "data": {
      "image/png": "[encoded data removed]",
      "text/plain": [
       "<Figure size 504x360 with 1 Axes>"
      ]
     },
     "metadata": {
      "needs_background": "light"
     },
     "output_type": "display_data"
    }
   ],
   "source": [
    "# Learning curve of MLP\n",
    "\n",
    "N, train_score, val_score = learning_curve(MLPClassifier(hidden_layer_sizes=157, activation='relu', random_state=1), X_train_scaled, y_train,  scoring='f1',\n",
    "                                           train_sizes=np.linspace(0.1, 1, 10), cv=10)\n",
    "\n",
    "print(N)\n",
    "plt.figure(figsize=(7, 5))\n",
    "plt.plot(N, train_score.mean(axis=1), label='training F1 score')\n",
    "plt.plot(N, val_score.mean(axis=1), label='cross-validation F1 score')\n",
    "plt.xlabel('train_sizes')\n",
    "plt.legend()"
   ]
  },
  {
   "cell_type": "code",
   "execution_count": 32,
   "id": "1f4beb62",
   "metadata": {},
   "outputs": [
    {
     "name": "stdout",
     "output_type": "stream",
     "text": [
      "[ 17  34  51  68  86 103 120 137 154 172]\n"
     ]
    },
    {
     "data": {
      "text/plain": [
       "<matplotlib.legend.Legend at 0x18de64ce5e0>"
      ]
     },
     "execution_count": 32,
     "metadata": {},
     "output_type": "execute_result"
    },
    {
     "data": {
      "image/png": "[encoded data removed]",
      "text/plain": [
       "<Figure size 504x360 with 1 Axes>"
      ]
     },
     "metadata": {
      "needs_background": "light"
     },
     "output_type": "display_data"
    }
   ],
   "source": [
    "# Learning curve of Logistic regression\n",
    "\n",
    "N, train_score, val_score = learning_curve(LogisticRegression(C= 6, penalty=  'l2', random_state=1), X_train_scaled, y_train,  scoring='f1',\n",
    "                                           train_sizes=np.linspace(0.1, 1, 10), cv=10)\n",
    "\n",
    "print(N)\n",
    "plt.figure(figsize=(7, 5))\n",
    "plt.plot(N, train_score.mean(axis=1), label='training F1 score')\n",
    "plt.plot(N, val_score.mean(axis=1), label='cross-validation F1 score')\n",
    "plt.xlabel('train_sizes')\n",
    "plt.legend()"
   ]
  },
  {
   "cell_type": "code",
   "execution_count": 25,
   "id": "b2fd5d0e",
   "metadata": {},
   "outputs": [
    {
     "name": "stdout",
     "output_type": "stream",
     "text": [
      "score folds F1\n",
      "[0.89655172 0.86666667 0.88       0.82758621 0.96296296 0.89655172\n",
      " 0.86666667 0.86666667 0.85714286 0.75862069]\n",
      "Mean CV F1 0.868\n",
      "standard deviation CV F1 0.050\n",
      "####################################################################\n",
      "score folds AUC\n",
      "[0.87912088 0.95604396 0.80952381 0.74358974 0.92307692 0.78205128\n",
      " 0.84615385 0.83333333 0.74358974 0.70512821]\n",
      "Mean CV AUC 0.822\n",
      "standard deviation CV AUC 0.077\n"
     ]
    }
   ],
   "source": [
    "# Random Forest CV\n",
    "cross_validation =10\n",
    "score_f1 = cross_val_score(RandomForestClassifier(n_estimators=93,max_depth=4, random_state=1), X_train_scaled, y_train, cv=cross_validation, scoring =\"f1\")\n",
    "score_auc = cross_val_score(RandomForestClassifier(n_estimators=93,max_depth=4, random_state=1), X_train_scaled, y_train, cv=cross_validation, scoring =\"roc_auc\")\n",
    "print('score folds F1')\n",
    "print(score_f1)\n",
    "print('Mean CV F1', '{:.3f}'.format(score_f1.mean()))\n",
    "print('standard deviation CV F1', '{:.3f}'.format(np.std(score_f1)))\n",
    "print('####################################################################')\n",
    "\n",
    "print('score folds AUC')\n",
    "print(score_auc)\n",
    "print('Mean CV AUC', '{:.3f}'.format(score_auc.mean()))\n",
    "print('standard deviation CV AUC', '{:.3f}'.format(np.std(score_auc)))"
   ]
  },
  {
   "cell_type": "code",
   "execution_count": 33,
   "id": "5bbd7483",
   "metadata": {},
   "outputs": [
    {
     "name": "stdout",
     "output_type": "stream",
     "text": [
      "[ 17  34  51  68  86 103 120 137 154 172]\n"
     ]
    },
    {
     "data": {
      "text/plain": [
       "<matplotlib.legend.Legend at 0x18df8e90a00>"
      ]
     },
     "execution_count": 33,
     "metadata": {},
     "output_type": "execute_result"
    },
    {
     "data": {
      "image/png": "[encoded data removed]",
      "text/plain": [
       "<Figure size 504x360 with 1 Axes>"
      ]
     },
     "metadata": {
      "needs_background": "light"
     },
     "output_type": "display_data"
    }
   ],
   "source": [
    "# Learning curve for Random Forest\n",
    "\n",
    "N, train_score, val_score = learning_curve(RandomForestClassifier(n_estimators=93,max_depth=4, random_state=1), X_train_scaled, y_train,  scoring='f1',\n",
    "                                           train_sizes=np.linspace(0.1, 1, 10), cv=10)\n",
    "\n",
    "print(N)\n",
    "plt.figure(figsize=(7, 5))\n",
    "plt.plot(N, train_score.mean(axis=1), label='training F1 score')\n",
    "plt.plot(N, val_score.mean(axis=1), label='cross-validation F1 score')\n",
    "plt.xlabel('train_sizes')\n",
    "plt.legend()"
   ]
  },
  {
   "cell_type": "code",
   "execution_count": 26,
   "id": "d30e1731",
   "metadata": {},
   "outputs": [
    {
     "name": "stdout",
     "output_type": "stream",
     "text": [
      "score folds F1\n",
      "[0.84615385 0.89655172 0.7826087  0.81481481 0.88       0.78571429\n",
      " 0.84615385 0.86666667 0.74074074 0.75862069]\n",
      "Mean CV F1 0.822\n",
      "standard deviation CV F1 0.051\n",
      "####################################################################\n",
      "score folds AUC\n",
      "[0.91208791 0.87912088 0.73809524 0.69230769 0.87179487 0.64102564\n",
      " 0.8974359  0.76923077 0.61538462 0.6025641 ]\n",
      "Mean CV AUC 0.762\n",
      "standard deviation CV AUC 0.116\n"
     ]
    }
   ],
   "source": [
    "# Gradient Boosting CV\n",
    "cross_validation =10\n",
    "score_f1 = cross_val_score(GradientBoostingClassifier(n_estimators=499,max_depth=5, random_state=1), X_train_scaled, y_train, cv=cross_validation, scoring =\"f1\")\n",
    "score_auc = cross_val_score(GradientBoostingClassifier(n_estimators=499,max_depth=5, random_state=1), X_train_scaled, y_train, cv=cross_validation, scoring =\"roc_auc\")\n",
    "print('score folds F1')\n",
    "print(score_f1)\n",
    "print('Mean CV F1', '{:.3f}'.format(score_f1.mean()))\n",
    "print('standard deviation CV F1', '{:.3f}'.format(np.std(score_f1)))\n",
    "print('####################################################################')\n",
    "\n",
    "print('score folds AUC')\n",
    "print(score_auc)\n",
    "print('Mean CV AUC', '{:.3f}'.format(score_auc.mean()))\n",
    "print('standard deviation CV AUC', '{:.3f}'.format(np.std(score_auc)))"
   ]
  },
  {
   "cell_type": "code",
   "execution_count": 34,
   "id": "acd32c40",
   "metadata": {},
   "outputs": [
    {
     "name": "stdout",
     "output_type": "stream",
     "text": [
      "[ 17  34  51  68  86 103 120 137 154 172]\n"
     ]
    },
    {
     "data": {
      "text/plain": [
       "<matplotlib.legend.Legend at 0x18df94a6970>"
      ]
     },
     "execution_count": 34,
     "metadata": {},
     "output_type": "execute_result"
    },
    {
     "data": {
      "image/png": "[encoded data removed]",
      "text/plain": [
       "<Figure size 504x360 with 1 Axes>"
      ]
     },
     "metadata": {
      "needs_background": "light"
     },
     "output_type": "display_data"
    }
   ],
   "source": [
    "# Learning curve for Gradient boosting \n",
    "\n",
    "N, train_score, val_score = learning_curve(GradientBoostingClassifier(n_estimators=499,max_depth=5, random_state=1), X_train_scaled, y_train,  scoring='f1',\n",
    "                                           train_sizes=np.linspace(0.1, 1, 10), cv=10)\n",
    "\n",
    "print(N)\n",
    "plt.figure(figsize=(7, 5))\n",
    "plt.plot(N, train_score.mean(axis=1), label='training F1 score')\n",
    "plt.plot(N, val_score.mean(axis=1), label='cross-validation F1 score')\n",
    "plt.xlabel('train_sizes')\n",
    "plt.legend()"
   ]
  },
  {
   "cell_type": "code",
   "execution_count": 27,
   "id": "d3c98652",
   "metadata": {},
   "outputs": [
    {
     "name": "stdout",
     "output_type": "stream",
     "text": [
      "SUPPORT VECTOR MACHINE\n",
      "score folds F1\n",
      "[0.88888889 0.83333333 0.88       0.89655172 0.92857143 0.84615385\n",
      " 0.81481481 0.86666667 0.76923077 0.69230769]\n",
      "Mean CV F1 0.842\n",
      "standard deviation CV F1 0.066\n",
      "####################################################################\n",
      "score folds AUC\n",
      "[0.86813187 0.91208791 0.76190476 0.96153846 0.85897436 0.76923077\n",
      " 0.75641026 0.80769231 0.74358974 0.6025641 ]\n",
      "Mean CV AUC 0.804\n",
      "standard deviation CV AUC 0.096\n"
     ]
    }
   ],
   "source": [
    "# For support vector machine\n",
    "print('SUPPORT VECTOR MACHINE')\n",
    "cross_validation =10\n",
    "score_f1 = cross_val_score(svm.NuSVC(gamma=\"auto\", probability=True), X_train_scaled, y_train, cv=cross_validation, scoring =\"f1\")\n",
    "score_auc = cross_val_score(svm.NuSVC(gamma=\"auto\", probability=True), X_train_scaled, y_train, cv=cross_validation, scoring =\"roc_auc\")\n",
    "print('score folds F1')\n",
    "print(score_f1)\n",
    "print('Mean CV F1', '{:.3f}'.format(score_f1.mean()))\n",
    "print('standard deviation CV F1', '{:.3f}'.format(np.std(score_f1)))\n",
    "print('####################################################################')\n",
    "\n",
    "print('score folds AUC')\n",
    "print(score_auc)\n",
    "print('Mean CV AUC', '{:.3f}'.format(score_auc.mean()))\n",
    "print('standard deviation CV AUC', '{:.3f}'.format(np.std(score_auc)))\n"
   ]
  },
  {
   "cell_type": "code",
   "execution_count": 35,
   "id": "4cf962ea",
   "metadata": {},
   "outputs": [
    {
     "name": "stdout",
     "output_type": "stream",
     "text": [
      "[ 17  34  51  68  86 103 120 137 154 172]\n"
     ]
    },
    {
     "data": {
      "text/plain": [
       "<matplotlib.legend.Legend at 0x18df99d5460>"
      ]
     },
     "execution_count": 35,
     "metadata": {},
     "output_type": "execute_result"
    },
    {
     "data": {
      "image/png": "[encoded data removed]",
      "text/plain": [
       "<Figure size 504x360 with 1 Axes>"
      ]
     },
     "metadata": {
      "needs_background": "light"
     },
     "output_type": "display_data"
    }
   ],
   "source": [
    "# Learning curve for SVM\n",
    "\n",
    "N, train_score, val_score = learning_curve(svm.NuSVC(gamma=\"auto\", probability=True), X_train_scaled, y_train,  scoring='f1',\n",
    "                                           train_sizes=np.linspace(0.1, 1, 10), cv=10)\n",
    "\n",
    "print(N)\n",
    "plt.figure(figsize=(7, 5))\n",
    "plt.plot(N, train_score.mean(axis=1), label='training F1 score')\n",
    "plt.plot(N, val_score.mean(axis=1), label='cross-validation F1 score')\n",
    "plt.xlabel('train_sizes')\n",
    "plt.legend()"
   ]
  },
  {
   "cell_type": "code",
   "execution_count": 28,
   "id": "775f8d54",
   "metadata": {},
   "outputs": [
    {
     "name": "stdout",
     "output_type": "stream",
     "text": [
      "KNN\n",
      "score folds F1\n",
      "[0.84615385 0.88888889 0.8        0.96296296 0.84615385 0.78571429\n",
      " 0.78571429 0.82758621 0.76923077 0.74074074]\n",
      "Mean CV F1 0.825\n",
      "standard deviation CV F1 0.062\n",
      "####################################################################\n",
      "score folds AUC\n",
      "[0.84615385 0.90659341 0.76785714 0.94230769 0.76282051 0.67948718\n",
      " 0.73717949 0.65384615 0.66025641 0.63461538]\n",
      "Mean CV AUC 0.759\n",
      "standard deviation CV AUC 0.103\n"
     ]
    }
   ],
   "source": [
    "# KNeighbors CV\n",
    "print('KNN')\n",
    "cross_validation =10\n",
    "score_f1 = cross_val_score(KNeighborsClassifier(n_neighbors=5), X_train_scaled, y_train, cv=cross_validation, scoring =\"f1\")\n",
    "score_auc = cross_val_score(KNeighborsClassifier(n_neighbors=5), X_train_scaled, y_train, cv=cross_validation, scoring =\"roc_auc\")\n",
    "print('score folds F1')\n",
    "print(score_f1)\n",
    "print('Mean CV F1', '{:.3f}'.format(score_f1.mean()))\n",
    "print('standard deviation CV F1', '{:.3f}'.format(np.std(score_f1)))\n",
    "print('####################################################################')\n",
    "\n",
    "print('score folds AUC')\n",
    "print(score_auc)\n",
    "print('Mean CV AUC', '{:.3f}'.format(score_auc.mean()))\n",
    "print('standard deviation CV AUC', '{:.3f}'.format(np.std(score_auc)))"
   ]
  },
  {
   "cell_type": "code",
   "execution_count": 36,
   "id": "00ba4979",
   "metadata": {},
   "outputs": [
    {
     "name": "stdout",
     "output_type": "stream",
     "text": [
      "[ 17  34  51  68  86 103 120 137 154 172]\n"
     ]
    },
    {
     "data": {
      "text/plain": [
       "<matplotlib.legend.Legend at 0x18df974b970>"
      ]
     },
     "execution_count": 36,
     "metadata": {},
     "output_type": "execute_result"
    },
    {
     "data": {
      "image/png": "[encoded data removed]",
      "text/plain": [
       "<Figure size 504x360 with 1 Axes>"
      ]
     },
     "metadata": {
      "needs_background": "light"
     },
     "output_type": "display_data"
    }
   ],
   "source": [
    "# Learning curve for KNN\n",
    "\n",
    "N, train_score, val_score = learning_curve(KNeighborsClassifier(n_neighbors=5), X_train_scaled, y_train,  scoring='f1',\n",
    "                                           train_sizes=np.linspace(0.1, 1, 10), cv=10)\n",
    "\n",
    "print(N)\n",
    "plt.figure(figsize=(7, 5))\n",
    "plt.plot(N, train_score.mean(axis=1), label='training F1 score')\n",
    "plt.plot(N, val_score.mean(axis=1), label='cross-validation F1 score')\n",
    "plt.xlabel('train_sizes')\n",
    "plt.legend()"
   ]
  },
  {
   "cell_type": "code",
   "execution_count": 29,
   "id": "2f37aae2",
   "metadata": {},
   "outputs": [
    {
     "name": "stdout",
     "output_type": "stream",
     "text": [
      "Naive Bayes\n",
      "score folds F1\n",
      "[0.8125     0.83870968 0.82758621 0.8125     0.83870968 0.83870968\n",
      " 0.83870968 0.83870968 0.8125     0.8125    ]\n",
      "Mean CV F1 0.827\n",
      "standard deviation CV F1 0.012\n",
      "####################################################################\n",
      "score folds AUC\n",
      "[0.62637363 0.87912088 0.89285714 0.80769231 0.93589744 0.76923077\n",
      " 0.53846154 0.82051282 0.78205128 0.66666667]\n",
      "Mean CV AUC 0.772\n",
      "standard deviation CV AUC 0.120\n"
     ]
    }
   ],
   "source": [
    "# For Naive bayes\n",
    "print('Naive Bayes')\n",
    "cross_validation =10\n",
    "score_f1 = cross_val_score(GaussianNB(), X_train_scaled, y_train, cv=cross_validation, scoring =\"f1\")\n",
    "score_auc = cross_val_score(GaussianNB(), X_train_scaled, y_train, cv=cross_validation, scoring =\"roc_auc\")\n",
    "print('score folds F1')\n",
    "print(score_f1)\n",
    "print('Mean CV F1', '{:.3f}'.format(score_f1.mean()))\n",
    "print('standard deviation CV F1', '{:.3f}'.format(np.std(score_f1)))\n",
    "print('####################################################################')\n",
    "\n",
    "print('score folds AUC')\n",
    "print(score_auc)\n",
    "print('Mean CV AUC', '{:.3f}'.format(score_auc.mean()))\n",
    "print('standard deviation CV AUC', '{:.3f}'.format(np.std(score_auc)))"
   ]
  },
  {
   "cell_type": "code",
   "execution_count": 37,
   "id": "51d1fe3c",
   "metadata": {},
   "outputs": [
    {
     "name": "stdout",
     "output_type": "stream",
     "text": [
      "[ 17  34  51  68  86 103 120 137 154 172]\n"
     ]
    },
    {
     "data": {
      "text/plain": [
       "<matplotlib.legend.Legend at 0x18dfb99c940>"
      ]
     },
     "execution_count": 37,
     "metadata": {},
     "output_type": "execute_result"
    },
    {
     "data": {
      "image/png": "[encoded data removed]",
      "text/plain": [
       "<Figure size 504x360 with 1 Axes>"
      ]
     },
     "metadata": {
      "needs_background": "light"
     },
     "output_type": "display_data"
    }
   ],
   "source": [
    "# Learning curve for Naive Bayes\n",
    "\n",
    "N, train_score, val_score = learning_curve(GaussianNB(), X_train_scaled, y_train,  scoring='f1',\n",
    "                                           train_sizes=np.linspace(0.1, 1, 10), cv=10)\n",
    "\n",
    "print(N)\n",
    "plt.figure(figsize=(7, 5))\n",
    "plt.plot(N, train_score.mean(axis=1), label='training F1 score')\n",
    "plt.plot(N, val_score.mean(axis=1), label='cross-validation F1 score')\n",
    "plt.xlabel('train_sizes')\n",
    "plt.legend()"
   ]
  },
  {
   "cell_type": "code",
   "execution_count": 29,
   "id": "310b2eb7",
   "metadata": {},
   "outputs": [
    {
     "name": "stdout",
     "output_type": "stream",
     "text": [
      "Stack model\n",
      "score folds F1\n",
      "[0.82758621 0.84615385 0.84615385 0.92307692 0.92857143 0.81481481\n",
      " 0.78571429 0.83870968 0.76923077 0.74074074]\n",
      "Mean CV F1 0.832\n",
      "standard deviation CV F1 0.057\n",
      "####################################################################\n",
      "score folds AUC\n",
      "[0.81318681 0.92307692 0.79761905 0.88461538 0.92307692 0.80769231\n",
      " 0.87179487 0.78205128 0.74358974 0.71794872]\n",
      "Mean CV AUC 0.826\n",
      "standard deviation CV AUC 0.068\n"
     ]
    }
   ],
   "source": [
    "# For stack model\n",
    "print('Stack model')\n",
    "from sklearn.ensemble import StackingClassifier\n",
    "estimators = [\n",
    "    ('LR', LogisticRegression(C= 6, penalty=  'l2', random_state=1)),\n",
    "    ('SVM', svm.NuSVC(gamma=\"auto\", probability=True)),\n",
    "    ('KNN', KNeighborsClassifier(n_neighbors=5))\n",
    "]\n",
    "clf_stack= StackingClassifier(estimators=estimators, final_estimator=RandomForestClassifier(n_estimators=93,max_depth=4, random_state=1)\n",
    ")\n",
    "\n",
    "cross_validation =10\n",
    "score_f1 = cross_val_score(clf_stack, X_train_scaled, y_train, cv=cross_validation, scoring =\"f1\")\n",
    "score_auc = cross_val_score(clf_stack, X_train_scaled, y_train, cv=cross_validation, scoring =\"roc_auc\")\n",
    "print('score folds F1')\n",
    "print(score_f1)\n",
    "print('Mean CV F1', '{:.3f}'.format(score_f1.mean()))\n",
    "print('standard deviation CV F1', '{:.3f}'.format(np.std(score_f1)))\n",
    "print('####################################################################')\n",
    "\n",
    "print('score folds AUC')\n",
    "print(score_auc)\n",
    "print('Mean CV AUC', '{:.3f}'.format(score_auc.mean()))\n",
    "print('standard deviation CV AUC', '{:.3f}'.format(np.std(score_auc)))"
   ]
  },
  {
   "cell_type": "code",
   "execution_count": 92,
   "id": "ad0f7275",
   "metadata": {},
   "outputs": [
    {
     "name": "stdout",
     "output_type": "stream",
     "text": [
      "[ 17  34  51  68  86 103 120 137 154 172]\n"
     ]
    },
    {
     "data": {
      "application/javascript": [
       "\n",
       "        if (window._pyforest_update_imports_cell) { window._pyforest_update_imports_cell('from sklearn.model_selection import RandomizedSearchCV\\nimport matplotlib.pyplot as plt'); }\n",
       "    "
      ],
      "text/plain": [
       "<IPython.core.display.Javascript object>"
      ]
     },
     "metadata": {},
     "output_type": "display_data"
    },
    {
     "data": {
      "application/javascript": [
       "\n",
       "        if (window._pyforest_update_imports_cell) { window._pyforest_update_imports_cell('from sklearn.model_selection import RandomizedSearchCV\\nimport matplotlib.pyplot as plt'); }\n",
       "    "
      ],
      "text/plain": [
       "<IPython.core.display.Javascript object>"
      ]
     },
     "metadata": {},
     "output_type": "display_data"
    },
    {
     "data": {
      "application/javascript": [
       "\n",
       "        if (window._pyforest_update_imports_cell) { window._pyforest_update_imports_cell('from sklearn.model_selection import RandomizedSearchCV\\nimport matplotlib.pyplot as plt'); }\n",
       "    "
      ],
      "text/plain": [
       "<IPython.core.display.Javascript object>"
      ]
     },
     "metadata": {},
     "output_type": "display_data"
    },
    {
     "data": {
      "application/javascript": [
       "\n",
       "        if (window._pyforest_update_imports_cell) { window._pyforest_update_imports_cell('from sklearn.model_selection import RandomizedSearchCV\\nimport matplotlib.pyplot as plt'); }\n",
       "    "
      ],
      "text/plain": [
       "<IPython.core.display.Javascript object>"
      ]
     },
     "metadata": {},
     "output_type": "display_data"
    },
    {
     "data": {
      "application/javascript": [
       "\n",
       "        if (window._pyforest_update_imports_cell) { window._pyforest_update_imports_cell('from sklearn.model_selection import RandomizedSearchCV\\nimport matplotlib.pyplot as plt'); }\n",
       "    "
      ],
      "text/plain": [
       "<IPython.core.display.Javascript object>"
      ]
     },
     "metadata": {},
     "output_type": "display_data"
    },
    {
     "data": {
      "text/plain": [
       "<matplotlib.legend.Legend at 0x21853e39d90>"
      ]
     },
     "execution_count": 92,
     "metadata": {},
     "output_type": "execute_result"
    },
    {
     "data": {
      "image/png": "[encoded data removed]",
      "text/plain": [
       "<Figure size 504x360 with 1 Axes>"
      ]
     },
     "metadata": {
      "needs_background": "light"
     },
     "output_type": "display_data"
    }
   ],
   "source": [
    "# Learning curve for Stack\n",
    "estimators = [\n",
    "    ('LR', LogisticRegression(C= 6, penalty=  'l2', random_state=1)),\n",
    "    ('SVM', svm.NuSVC(gamma=\"auto\", probability=True)),\n",
    "    ('KNN', KNeighborsClassifier(n_neighbors=5))\n",
    "]\n",
    "clf_stack= StackingClassifier(estimators=estimators, final_estimator=RandomForestClassifier(n_estimators=93,max_depth=4, random_state=1)\n",
    ")\n",
    "\n",
    "N, train_score, val_score = learning_curve(clf_stack, X_train_scaled, y_train,  scoring='f1',\n",
    "                                           train_sizes=np.linspace(0.1, 1, 10), cv=10)\n",
    "\n",
    "print(N)\n",
    "plt.figure(figsize=(7, 5))\n",
    "plt.plot(N, train_score.mean(axis=1), label='training F1 score')\n",
    "plt.plot(N, val_score.mean(axis=1), label='cross-validation F1 score')\n",
    "plt.xlabel('train_sizes')\n",
    "plt.legend()"
   ]
  },
  {
   "cell_type": "code",
   "execution_count": 99,
   "id": "84b2d06c",
   "metadata": {},
   "outputs": [
    {
     "data": {
      "application/javascript": [
       "\n",
       "        if (window._pyforest_update_imports_cell) { window._pyforest_update_imports_cell('from sklearn.model_selection import RandomizedSearchCV\\nimport matplotlib.pyplot as plt'); }\n",
       "    "
      ],
      "text/plain": [
       "<IPython.core.display.Javascript object>"
      ]
     },
     "metadata": {},
     "output_type": "display_data"
    },
    {
     "data": {
      "application/javascript": [
       "\n",
       "        if (window._pyforest_update_imports_cell) { window._pyforest_update_imports_cell('from sklearn.model_selection import RandomizedSearchCV\\nimport matplotlib.pyplot as plt'); }\n",
       "    "
      ],
      "text/plain": [
       "<IPython.core.display.Javascript object>"
      ]
     },
     "metadata": {},
     "output_type": "display_data"
    },
    {
     "data": {
      "application/javascript": [
       "\n",
       "        if (window._pyforest_update_imports_cell) { window._pyforest_update_imports_cell('from sklearn.model_selection import RandomizedSearchCV\\nimport matplotlib.pyplot as plt'); }\n",
       "    "
      ],
      "text/plain": [
       "<IPython.core.display.Javascript object>"
      ]
     },
     "metadata": {},
     "output_type": "display_data"
    },
    {
     "data": {
      "application/javascript": [
       "\n",
       "        if (window._pyforest_update_imports_cell) { window._pyforest_update_imports_cell('from sklearn.model_selection import RandomizedSearchCV\\nimport matplotlib.pyplot as plt'); }\n",
       "    "
      ],
      "text/plain": [
       "<IPython.core.display.Javascript object>"
      ]
     },
     "metadata": {},
     "output_type": "display_data"
    },
    {
     "data": {
      "application/javascript": [
       "\n",
       "        if (window._pyforest_update_imports_cell) { window._pyforest_update_imports_cell('from sklearn.model_selection import RandomizedSearchCV\\nimport matplotlib.pyplot as plt'); }\n",
       "    "
      ],
      "text/plain": [
       "<IPython.core.display.Javascript object>"
      ]
     },
     "metadata": {},
     "output_type": "display_data"
    },
    {
     "data": {
      "application/javascript": [
       "\n",
       "        if (window._pyforest_update_imports_cell) { window._pyforest_update_imports_cell('from sklearn.model_selection import RandomizedSearchCV\\nimport matplotlib.pyplot as plt'); }\n",
       "    "
      ],
      "text/plain": [
       "<IPython.core.display.Javascript object>"
      ]
     },
     "metadata": {},
     "output_type": "display_data"
    },
    {
     "data": {
      "application/javascript": [
       "\n",
       "        if (window._pyforest_update_imports_cell) { window._pyforest_update_imports_cell('from sklearn.model_selection import RandomizedSearchCV\\nimport matplotlib.pyplot as plt'); }\n",
       "    "
      ],
      "text/plain": [
       "<IPython.core.display.Javascript object>"
      ]
     },
     "metadata": {},
     "output_type": "display_data"
    },
    {
     "data": {
      "application/javascript": [
       "\n",
       "        if (window._pyforest_update_imports_cell) { window._pyforest_update_imports_cell('from sklearn.model_selection import RandomizedSearchCV\\nimport matplotlib.pyplot as plt'); }\n",
       "    "
      ],
      "text/plain": [
       "<IPython.core.display.Javascript object>"
      ]
     },
     "metadata": {},
     "output_type": "display_data"
    },
    {
     "data": {
      "application/javascript": [
       "\n",
       "        if (window._pyforest_update_imports_cell) { window._pyforest_update_imports_cell('from sklearn.model_selection import RandomizedSearchCV\\nimport matplotlib.pyplot as plt'); }\n",
       "    "
      ],
      "text/plain": [
       "<IPython.core.display.Javascript object>"
      ]
     },
     "metadata": {},
     "output_type": "display_data"
    },
    {
     "data": {
      "application/javascript": [
       "\n",
       "        if (window._pyforest_update_imports_cell) { window._pyforest_update_imports_cell('from sklearn.model_selection import RandomizedSearchCV\\nimport matplotlib.pyplot as plt'); }\n",
       "    "
      ],
      "text/plain": [
       "<IPython.core.display.Javascript object>"
      ]
     },
     "metadata": {},
     "output_type": "display_data"
    },
    {
     "data": {
      "application/javascript": [
       "\n",
       "        if (window._pyforest_update_imports_cell) { window._pyforest_update_imports_cell('from sklearn.model_selection import RandomizedSearchCV\\nimport matplotlib.pyplot as plt'); }\n",
       "    "
      ],
      "text/plain": [
       "<IPython.core.display.Javascript object>"
      ]
     },
     "metadata": {},
     "output_type": "display_data"
    },
    {
     "data": {
      "application/javascript": [
       "\n",
       "        if (window._pyforest_update_imports_cell) { window._pyforest_update_imports_cell('from sklearn.model_selection import RandomizedSearchCV\\nimport matplotlib.pyplot as plt'); }\n",
       "    "
      ],
      "text/plain": [
       "<IPython.core.display.Javascript object>"
      ]
     },
     "metadata": {},
     "output_type": "display_data"
    },
    {
     "data": {
      "application/javascript": [
       "\n",
       "        if (window._pyforest_update_imports_cell) { window._pyforest_update_imports_cell('from sklearn.model_selection import RandomizedSearchCV\\nimport matplotlib.pyplot as plt'); }\n",
       "    "
      ],
      "text/plain": [
       "<IPython.core.display.Javascript object>"
      ]
     },
     "metadata": {},
     "output_type": "display_data"
    },
    {
     "data": {
      "application/javascript": [
       "\n",
       "        if (window._pyforest_update_imports_cell) { window._pyforest_update_imports_cell('from sklearn.model_selection import RandomizedSearchCV\\nimport matplotlib.pyplot as plt'); }\n",
       "    "
      ],
      "text/plain": [
       "<IPython.core.display.Javascript object>"
      ]
     },
     "metadata": {},
     "output_type": "display_data"
    },
    {
     "data": {
      "application/javascript": [
       "\n",
       "        if (window._pyforest_update_imports_cell) { window._pyforest_update_imports_cell('from sklearn.model_selection import RandomizedSearchCV\\nimport matplotlib.pyplot as plt'); }\n",
       "    "
      ],
      "text/plain": [
       "<IPython.core.display.Javascript object>"
      ]
     },
     "metadata": {},
     "output_type": "display_data"
    },
    {
     "data": {
      "application/javascript": [
       "\n",
       "        if (window._pyforest_update_imports_cell) { window._pyforest_update_imports_cell('from sklearn.model_selection import RandomizedSearchCV\\nimport matplotlib.pyplot as plt'); }\n",
       "    "
      ],
      "text/plain": [
       "<IPython.core.display.Javascript object>"
      ]
     },
     "metadata": {},
     "output_type": "display_data"
    },
    {
     "data": {
      "application/javascript": [
       "\n",
       "        if (window._pyforest_update_imports_cell) { window._pyforest_update_imports_cell('from sklearn.model_selection import RandomizedSearchCV\\nimport matplotlib.pyplot as plt'); }\n",
       "    "
      ],
      "text/plain": [
       "<IPython.core.display.Javascript object>"
      ]
     },
     "metadata": {},
     "output_type": "display_data"
    },
    {
     "data": {
      "application/javascript": [
       "\n",
       "        if (window._pyforest_update_imports_cell) { window._pyforest_update_imports_cell('from sklearn.model_selection import RandomizedSearchCV\\nimport matplotlib.pyplot as plt'); }\n",
       "    "
      ],
      "text/plain": [
       "<IPython.core.display.Javascript object>"
      ]
     },
     "metadata": {},
     "output_type": "display_data"
    },
    {
     "data": {
      "application/javascript": [
       "\n",
       "        if (window._pyforest_update_imports_cell) { window._pyforest_update_imports_cell('from sklearn.model_selection import RandomizedSearchCV\\nimport matplotlib.pyplot as plt'); }\n",
       "    "
      ],
      "text/plain": [
       "<IPython.core.display.Javascript object>"
      ]
     },
     "metadata": {},
     "output_type": "display_data"
    },
    {
     "data": {
      "application/javascript": [
       "\n",
       "        if (window._pyforest_update_imports_cell) { window._pyforest_update_imports_cell('from sklearn.model_selection import RandomizedSearchCV\\nimport matplotlib.pyplot as plt'); }\n",
       "    "
      ],
      "text/plain": [
       "<IPython.core.display.Javascript object>"
      ]
     },
     "metadata": {},
     "output_type": "display_data"
    },
    {
     "data": {
      "application/javascript": [
       "\n",
       "        if (window._pyforest_update_imports_cell) { window._pyforest_update_imports_cell('from sklearn.model_selection import RandomizedSearchCV\\nimport matplotlib.pyplot as plt'); }\n",
       "    "
      ],
      "text/plain": [
       "<IPython.core.display.Javascript object>"
      ]
     },
     "metadata": {},
     "output_type": "display_data"
    },
    {
     "data": {
      "application/javascript": [
       "\n",
       "        if (window._pyforest_update_imports_cell) { window._pyforest_update_imports_cell('from sklearn.model_selection import RandomizedSearchCV\\nimport matplotlib.pyplot as plt'); }\n",
       "    "
      ],
      "text/plain": [
       "<IPython.core.display.Javascript object>"
      ]
     },
     "metadata": {},
     "output_type": "display_data"
    },
    {
     "data": {
      "application/javascript": [
       "\n",
       "        if (window._pyforest_update_imports_cell) { window._pyforest_update_imports_cell('from sklearn.model_selection import RandomizedSearchCV\\nimport matplotlib.pyplot as plt'); }\n",
       "    "
      ],
      "text/plain": [
       "<IPython.core.display.Javascript object>"
      ]
     },
     "metadata": {},
     "output_type": "display_data"
    },
    {
     "data": {
      "image/png": "[encoded data removed]",
      "text/plain": [
       "<Figure size 1080x720 with 4 Axes>"
      ]
     },
     "metadata": {
      "needs_background": "light"
     },
     "output_type": "display_data"
    }
   ],
   "source": [
    "plt.figure(figsize=(15, 10))\n",
    "plt.subplot(2,2,1)\n",
    "# Learning curve of Ridge Classifier\n",
    "\n",
    "N, train_score, val_score = learning_curve(RidgeClassifier(alpha= 2, random_state=1), X_train_scaled, y_train,  scoring='f1',\n",
    "                                           train_sizes=np.linspace(0.1, 1, 10), cv=10)\n",
    "\n",
    "plt.plot(N, train_score.mean(axis=1), label='training F1 score')\n",
    "plt.plot(N, val_score.mean(axis=1), label='cross-validation F1 score')\n",
    "plt.xlabel('')\n",
    "plt.title('Ridge classifier')\n",
    "\n",
    "\n",
    "plt.subplot(2,2,2)\n",
    "# Learning curve of Logistic regression\n",
    "N, train_score, val_score = learning_curve(LogisticRegression(C= 6, penalty=  'l2', random_state=1), X_train_scaled, y_train,  scoring='f1',\n",
    "                                           train_sizes=np.linspace(0.1, 1, 10), cv=10)\n",
    "\n",
    "plt.plot(N, train_score.mean(axis=1), label='training F1 score')\n",
    "plt.plot(N, val_score.mean(axis=1), label='cross-validation F1 score')\n",
    "plt.xlabel('')\n",
    "plt.title('Logistic regression')\n",
    "\n",
    "\n",
    "plt.subplot(2,2,3)\n",
    "# Learning curve for Random Forest\n",
    "\n",
    "N, train_score, val_score = learning_curve(RandomForestClassifier(n_estimators=93,max_depth=4, random_state=1), X_train_scaled, y_train,  scoring='f1',\n",
    "                                           train_sizes=np.linspace(0.1, 1, 10), cv=10)\n",
    "\n",
    "plt.plot(N, train_score.mean(axis=1), label='training F1 score')\n",
    "plt.plot(N, val_score.mean(axis=1), label='cross-validation F1 score')\n",
    "plt.xlabel('train sizes')\n",
    "plt.title('Random Forest')\n",
    "\n",
    "\n",
    "plt.subplot(2,2,4)\n",
    "\n",
    "# Learning curve for Gradient boosting \n",
    "\n",
    "N, train_score, val_score = learning_curve(GradientBoostingClassifier(n_estimators=499,max_depth=5, random_state=1), X_train_scaled, y_train,  scoring='f1',\n",
    "                                           train_sizes=np.linspace(0.1, 1, 10), cv=10)\n",
    "\n",
    "plt.plot(N, train_score.mean(axis=1), label='training F1 score')\n",
    "plt.plot(N, val_score.mean(axis=1), label='cross-validation F1 score')\n",
    "plt.xlabel('train sizes')\n",
    "plt.title('Gradient boosting')\n",
    "\n",
    "plt.savefig(\"learning curve block 1.png\")\n",
    "\n",
    "plt.show()\n"
   ]
  },
  {
   "cell_type": "markdown",
   "id": "60294ec4",
   "metadata": {},
   "source": [
    "## Validation curve with SKlearn preprocessor"
   ]
  },
  {
   "cell_type": "code",
   "execution_count": 133,
   "id": "e6193d53",
   "metadata": {},
   "outputs": [
    {
     "data": {
      "image/png": "[encoded data removed]",
      "text/plain": [
       "<Figure size 1080x720 with 3 Axes>"
      ]
     },
     "metadata": {
      "needs_background": "light"
     },
     "output_type": "display_data"
    }
   ],
   "source": [
    "plt.figure(figsize=(15, 10))\n",
    "plt.subplot(2,2,1)\n",
    "# Learning curve of Logistic regression\n",
    "N, train_score, val_score = learning_curve(LR_pipeline.steps[1][1], X_train, y_train,  scoring='f1',\n",
    "                                           train_sizes=np.linspace(0.1, 1, 10), cv=10)\n",
    "\n",
    "plt.plot(N, train_score.mean(axis=1), label='training F1 score')\n",
    "plt.plot(N, val_score.mean(axis=1), label='cross-validation F1 score')\n",
    "plt.xlabel('')\n",
    "plt.title('Logistic regression')\n",
    "\n",
    "\n",
    "plt.subplot(2,2,2)\n",
    "# Learning curve for Random Forest\n",
    "\n",
    "N, train_score, val_score = learning_curve(RF_pipeline.steps[1][1], X_train, y_train,  scoring='f1',\n",
    "                                           train_sizes=np.linspace(0.1, 1, 10), cv=10)\n",
    "\n",
    "plt.plot(N, train_score.mean(axis=1), label='training F1 score')\n",
    "plt.plot(N, val_score.mean(axis=1), label='cross-validation F1 score')\n",
    "plt.xlabel('train sizes')\n",
    "plt.title('Random Forest')\n",
    "\n",
    "\n",
    "plt.subplot(2,2,3)\n",
    "\n",
    "# Learning curve for Gradient boosting \n",
    "\n",
    "N, train_score, val_score = learning_curve(GBC_pipeline.steps[1][1], X_train, y_train,  scoring='f1',\n",
    "                                           train_sizes=np.linspace(0.1, 1, 10), cv=10)\n",
    "\n",
    "plt.plot(N, train_score.mean(axis=1), label='training F1 score')\n",
    "plt.plot(N, val_score.mean(axis=1), label='cross-validation F1 score')\n",
    "plt.xlabel('train sizes')\n",
    "plt.title('Gradient boosting')\n",
    "\n",
    "plt.savefig(\"learning curve block 1.png\")\n",
    "\n",
    "plt.show()\n"
   ]
  },
  {
   "cell_type": "code",
   "execution_count": 135,
   "id": "cb08ba2a",
   "metadata": {},
   "outputs": [
    {
     "name": "stderr",
     "output_type": "stream",
     "text": [
      "C:\\Users\\DDD\\anaconda3\\lib\\site-packages\\sklearn\\neural_network\\_multilayer_perceptron.py:702: ConvergenceWarning: Stochastic Optimizer: Maximum iterations (1000) reached and the optimization hasn't converged yet.\n",
      "  warnings.warn(\n"
     ]
    },
    {
     "data": {
      "image/png": "[encoded data removed]",
      "text/plain": [
       "<Figure size 1080x720 with 4 Axes>"
      ]
     },
     "metadata": {
      "needs_background": "light"
     },
     "output_type": "display_data"
    }
   ],
   "source": [
    "plt.figure(figsize=(15, 10))\n",
    "plt.subplot(2,2,1)\n",
    "# Learning curve of SVM\n",
    "N, train_score, val_score = learning_curve(SVM_pipeline.steps[1][1], X_train, y_train,  scoring='f1',\n",
    "                                           train_sizes=np.linspace(0.1, 1, 10), cv=10)\n",
    "\n",
    "plt.plot(N, train_score.mean(axis=1), label='training F1 score')\n",
    "plt.plot(N, val_score.mean(axis=1), label='cross-validation F1 score')\n",
    "plt.xlabel('')\n",
    "plt.title('Support vector machine')\n",
    "\n",
    "\n",
    "plt.subplot(2,2,2)\n",
    "# Learning curve for KNN\n",
    "\n",
    "N, train_score, val_score = learning_curve(KNN_pipeline.steps[1][1], X_train, y_train,  scoring='f1',\n",
    "                                           train_sizes=np.linspace(0.1, 1, 10), cv=10)\n",
    "\n",
    "plt.plot(N, train_score.mean(axis=1), label='training F1 score')\n",
    "plt.plot(N, val_score.mean(axis=1), label='cross-validation F1 score')\n",
    "plt.xlabel('train sizes')\n",
    "plt.title('KNN')\n",
    "\n",
    "\n",
    "plt.subplot(2,2,3)\n",
    "\n",
    "# Learning curve for Naive Bayes\n",
    "\n",
    "N, train_score, val_score = learning_curve(GNB_pipeline.steps[1][1], X_train, y_train,  scoring='f1',\n",
    "                                           train_sizes=np.linspace(0.1, 1, 10), cv=10)\n",
    "\n",
    "plt.plot(N, train_score.mean(axis=1), label='training F1 score')\n",
    "plt.plot(N, val_score.mean(axis=1), label='cross-validation F1 score')\n",
    "plt.xlabel('train sizes')\n",
    "plt.title(' Naive Bayes')\n",
    "\n",
    "# Learning curve for MLP\n",
    "plt.subplot(2,2,4)\n",
    "N, train_score, val_score = learning_curve(MLP_pipeline.steps[1][1], X_train, y_train,  scoring='f1',\n",
    "                                           train_sizes=np.linspace(0.1, 1, 10), cv=10)\n",
    "\n",
    "plt.plot(N, train_score.mean(axis=1), label='training F1 score')\n",
    "plt.plot(N, val_score.mean(axis=1), label='cross-validation F1 score')\n",
    "plt.xlabel('train sizes')\n",
    "plt.title('ANN')\n",
    "\n",
    "plt.savefig(\"learning curve block 2 original.png\")\n",
    "\n",
    "plt.show()"
   ]
  },
  {
   "cell_type": "markdown",
   "id": "cf2ec366",
   "metadata": {},
   "source": [
    "## END OF valiadation curve with SKlearn preprocessor "
   ]
  },
  {
   "cell_type": "code",
   "execution_count": 98,
   "id": "481df02d",
   "metadata": {},
   "outputs": [
    {
     "data": {
      "application/javascript": [
       "\n",
       "        if (window._pyforest_update_imports_cell) { window._pyforest_update_imports_cell('from sklearn.model_selection import RandomizedSearchCV\\nimport matplotlib.pyplot as plt'); }\n",
       "    "
      ],
      "text/plain": [
       "<IPython.core.display.Javascript object>"
      ]
     },
     "metadata": {},
     "output_type": "display_data"
    },
    {
     "data": {
      "application/javascript": [
       "\n",
       "        if (window._pyforest_update_imports_cell) { window._pyforest_update_imports_cell('from sklearn.model_selection import RandomizedSearchCV\\nimport matplotlib.pyplot as plt'); }\n",
       "    "
      ],
      "text/plain": [
       "<IPython.core.display.Javascript object>"
      ]
     },
     "metadata": {},
     "output_type": "display_data"
    },
    {
     "data": {
      "application/javascript": [
       "\n",
       "        if (window._pyforest_update_imports_cell) { window._pyforest_update_imports_cell('from sklearn.model_selection import RandomizedSearchCV\\nimport matplotlib.pyplot as plt'); }\n",
       "    "
      ],
      "text/plain": [
       "<IPython.core.display.Javascript object>"
      ]
     },
     "metadata": {},
     "output_type": "display_data"
    },
    {
     "data": {
      "application/javascript": [
       "\n",
       "        if (window._pyforest_update_imports_cell) { window._pyforest_update_imports_cell('from sklearn.model_selection import RandomizedSearchCV\\nimport matplotlib.pyplot as plt'); }\n",
       "    "
      ],
      "text/plain": [
       "<IPython.core.display.Javascript object>"
      ]
     },
     "metadata": {},
     "output_type": "display_data"
    },
    {
     "data": {
      "application/javascript": [
       "\n",
       "        if (window._pyforest_update_imports_cell) { window._pyforest_update_imports_cell('from sklearn.model_selection import RandomizedSearchCV\\nimport matplotlib.pyplot as plt'); }\n",
       "    "
      ],
      "text/plain": [
       "<IPython.core.display.Javascript object>"
      ]
     },
     "metadata": {},
     "output_type": "display_data"
    },
    {
     "data": {
      "application/javascript": [
       "\n",
       "        if (window._pyforest_update_imports_cell) { window._pyforest_update_imports_cell('from sklearn.model_selection import RandomizedSearchCV\\nimport matplotlib.pyplot as plt'); }\n",
       "    "
      ],
      "text/plain": [
       "<IPython.core.display.Javascript object>"
      ]
     },
     "metadata": {},
     "output_type": "display_data"
    },
    {
     "data": {
      "application/javascript": [
       "\n",
       "        if (window._pyforest_update_imports_cell) { window._pyforest_update_imports_cell('from sklearn.model_selection import RandomizedSearchCV\\nimport matplotlib.pyplot as plt'); }\n",
       "    "
      ],
      "text/plain": [
       "<IPython.core.display.Javascript object>"
      ]
     },
     "metadata": {},
     "output_type": "display_data"
    },
    {
     "data": {
      "application/javascript": [
       "\n",
       "        if (window._pyforest_update_imports_cell) { window._pyforest_update_imports_cell('from sklearn.model_selection import RandomizedSearchCV\\nimport matplotlib.pyplot as plt'); }\n",
       "    "
      ],
      "text/plain": [
       "<IPython.core.display.Javascript object>"
      ]
     },
     "metadata": {},
     "output_type": "display_data"
    },
    {
     "data": {
      "application/javascript": [
       "\n",
       "        if (window._pyforest_update_imports_cell) { window._pyforest_update_imports_cell('from sklearn.model_selection import RandomizedSearchCV\\nimport matplotlib.pyplot as plt'); }\n",
       "    "
      ],
      "text/plain": [
       "<IPython.core.display.Javascript object>"
      ]
     },
     "metadata": {},
     "output_type": "display_data"
    },
    {
     "data": {
      "application/javascript": [
       "\n",
       "        if (window._pyforest_update_imports_cell) { window._pyforest_update_imports_cell('from sklearn.model_selection import RandomizedSearchCV\\nimport matplotlib.pyplot as plt'); }\n",
       "    "
      ],
      "text/plain": [
       "<IPython.core.display.Javascript object>"
      ]
     },
     "metadata": {},
     "output_type": "display_data"
    },
    {
     "data": {
      "application/javascript": [
       "\n",
       "        if (window._pyforest_update_imports_cell) { window._pyforest_update_imports_cell('from sklearn.model_selection import RandomizedSearchCV\\nimport matplotlib.pyplot as plt'); }\n",
       "    "
      ],
      "text/plain": [
       "<IPython.core.display.Javascript object>"
      ]
     },
     "metadata": {},
     "output_type": "display_data"
    },
    {
     "data": {
      "application/javascript": [
       "\n",
       "        if (window._pyforest_update_imports_cell) { window._pyforest_update_imports_cell('from sklearn.model_selection import RandomizedSearchCV\\nimport matplotlib.pyplot as plt'); }\n",
       "    "
      ],
      "text/plain": [
       "<IPython.core.display.Javascript object>"
      ]
     },
     "metadata": {},
     "output_type": "display_data"
    },
    {
     "data": {
      "application/javascript": [
       "\n",
       "        if (window._pyforest_update_imports_cell) { window._pyforest_update_imports_cell('from sklearn.model_selection import RandomizedSearchCV\\nimport matplotlib.pyplot as plt'); }\n",
       "    "
      ],
      "text/plain": [
       "<IPython.core.display.Javascript object>"
      ]
     },
     "metadata": {},
     "output_type": "display_data"
    },
    {
     "data": {
      "application/javascript": [
       "\n",
       "        if (window._pyforest_update_imports_cell) { window._pyforest_update_imports_cell('from sklearn.model_selection import RandomizedSearchCV\\nimport matplotlib.pyplot as plt'); }\n",
       "    "
      ],
      "text/plain": [
       "<IPython.core.display.Javascript object>"
      ]
     },
     "metadata": {},
     "output_type": "display_data"
    },
    {
     "data": {
      "application/javascript": [
       "\n",
       "        if (window._pyforest_update_imports_cell) { window._pyforest_update_imports_cell('from sklearn.model_selection import RandomizedSearchCV\\nimport matplotlib.pyplot as plt'); }\n",
       "    "
      ],
      "text/plain": [
       "<IPython.core.display.Javascript object>"
      ]
     },
     "metadata": {},
     "output_type": "display_data"
    },
    {
     "data": {
      "application/javascript": [
       "\n",
       "        if (window._pyforest_update_imports_cell) { window._pyforest_update_imports_cell('from sklearn.model_selection import RandomizedSearchCV\\nimport matplotlib.pyplot as plt'); }\n",
       "    "
      ],
      "text/plain": [
       "<IPython.core.display.Javascript object>"
      ]
     },
     "metadata": {},
     "output_type": "display_data"
    },
    {
     "data": {
      "application/javascript": [
       "\n",
       "        if (window._pyforest_update_imports_cell) { window._pyforest_update_imports_cell('from sklearn.model_selection import RandomizedSearchCV\\nimport matplotlib.pyplot as plt'); }\n",
       "    "
      ],
      "text/plain": [
       "<IPython.core.display.Javascript object>"
      ]
     },
     "metadata": {},
     "output_type": "display_data"
    },
    {
     "data": {
      "application/javascript": [
       "\n",
       "        if (window._pyforest_update_imports_cell) { window._pyforest_update_imports_cell('from sklearn.model_selection import RandomizedSearchCV\\nimport matplotlib.pyplot as plt'); }\n",
       "    "
      ],
      "text/plain": [
       "<IPython.core.display.Javascript object>"
      ]
     },
     "metadata": {},
     "output_type": "display_data"
    },
    {
     "data": {
      "application/javascript": [
       "\n",
       "        if (window._pyforest_update_imports_cell) { window._pyforest_update_imports_cell('from sklearn.model_selection import RandomizedSearchCV\\nimport matplotlib.pyplot as plt'); }\n",
       "    "
      ],
      "text/plain": [
       "<IPython.core.display.Javascript object>"
      ]
     },
     "metadata": {},
     "output_type": "display_data"
    },
    {
     "data": {
      "application/javascript": [
       "\n",
       "        if (window._pyforest_update_imports_cell) { window._pyforest_update_imports_cell('from sklearn.model_selection import RandomizedSearchCV\\nimport matplotlib.pyplot as plt'); }\n",
       "    "
      ],
      "text/plain": [
       "<IPython.core.display.Javascript object>"
      ]
     },
     "metadata": {},
     "output_type": "display_data"
    },
    {
     "data": {
      "application/javascript": [
       "\n",
       "        if (window._pyforest_update_imports_cell) { window._pyforest_update_imports_cell('from sklearn.model_selection import RandomizedSearchCV\\nimport matplotlib.pyplot as plt'); }\n",
       "    "
      ],
      "text/plain": [
       "<IPython.core.display.Javascript object>"
      ]
     },
     "metadata": {},
     "output_type": "display_data"
    },
    {
     "data": {
      "application/javascript": [
       "\n",
       "        if (window._pyforest_update_imports_cell) { window._pyforest_update_imports_cell('from sklearn.model_selection import RandomizedSearchCV\\nimport matplotlib.pyplot as plt'); }\n",
       "    "
      ],
      "text/plain": [
       "<IPython.core.display.Javascript object>"
      ]
     },
     "metadata": {},
     "output_type": "display_data"
    },
    {
     "data": {
      "application/javascript": [
       "\n",
       "        if (window._pyforest_update_imports_cell) { window._pyforest_update_imports_cell('from sklearn.model_selection import RandomizedSearchCV\\nimport matplotlib.pyplot as plt'); }\n",
       "    "
      ],
      "text/plain": [
       "<IPython.core.display.Javascript object>"
      ]
     },
     "metadata": {},
     "output_type": "display_data"
    },
    {
     "data": {
      "image/png": "[encoded data removed]",
      "text/plain": [
       "<Figure size 1080x720 with 4 Axes>"
      ]
     },
     "metadata": {
      "needs_background": "light"
     },
     "output_type": "display_data"
    }
   ],
   "source": [
    "plt.figure(figsize=(15, 10))\n",
    "plt.subplot(2,2,1)\n",
    "# Learning SVM\n",
    "N, train_score, val_score = learning_curve(svm.NuSVC(gamma=\"auto\", probability=True), X_train_scaled, y_train,  scoring='f1',\n",
    "                                           train_sizes=np.linspace(0.1, 1, 10), cv=10)\n",
    "\n",
    "plt.plot(N, train_score.mean(axis=1), label='training F1 score')\n",
    "plt.plot(N, val_score.mean(axis=1), label='cross-validation F1 score')\n",
    "plt.xlabel('')\n",
    "plt.title('Support vector machine')\n",
    "\n",
    "\n",
    "plt.subplot(2,2,2)\n",
    "# Learning curve of KNN\n",
    "N, train_score, val_score = learning_curve(KNeighborsClassifier(n_neighbors=5), X_train_scaled, y_train,  scoring='f1',\n",
    "                                           train_sizes=np.linspace(0.1, 1, 10), cv=10)\n",
    "\n",
    "plt.plot(N, train_score.mean(axis=1), label='training F1 score')\n",
    "plt.plot(N, val_score.mean(axis=1), label='cross-validation F1 score')\n",
    "plt.xlabel('')\n",
    "plt.title('K nearest neighbors')\n",
    "\n",
    "\n",
    "plt.subplot(2,2,3)\n",
    "# Learning curve for Naive Bayes\n",
    "\n",
    "N, train_score, val_score = learning_curve(GaussianNB(), X_train_scaled, y_train,  scoring='f1',\n",
    "                                           train_sizes=np.linspace(0.1, 1, 10), cv=10)\n",
    "\n",
    "plt.plot(N, train_score.mean(axis=1), label='training F1 score')\n",
    "plt.plot(N, val_score.mean(axis=1), label='cross-validation F1 score')\n",
    "plt.xlabel('train sizes')\n",
    "plt.title('Naive Bayes')\n",
    "\n",
    "\n",
    "plt.subplot(2,2,4)\n",
    "\n",
    "# Learning curve for stack model \n",
    "\n",
    "N, train_score, val_score = learning_curve(clf_stack, X_train_scaled, y_train,  scoring='f1',\n",
    "                                           train_sizes=np.linspace(0.1, 1, 10), cv=10)\n",
    "\n",
    "plt.plot(N, train_score.mean(axis=1), label='training F1 score')\n",
    "plt.plot(N, val_score.mean(axis=1), label='cross-validation F1 score')\n",
    "plt.xlabel('train sizes')\n",
    "plt.title('Stacking ensemble')\n",
    "\n",
    "plt.savefig(\"learning curve block 2.png\")\n",
    "plt.show()"
   ]
  },
  {
   "cell_type": "markdown",
   "id": "02bc0e86",
   "metadata": {},
   "source": [
    "## Evaluation on test set"
   ]
  },
  {
   "cell_type": "code",
   "execution_count": 32,
   "id": "86d5846e",
   "metadata": {},
   "outputs": [
    {
     "name": "stdout",
     "output_type": "stream",
     "text": [
      "RIDGE CLASSIFIER\n",
      "CONFUSION MATRIX\n",
      "[[ 9  7]\n",
      " [ 2 30]]\n",
      "              precision    recall  f1-score   support\n",
      "\n",
      "           0       0.82      0.56      0.67        16\n",
      "           1       0.81      0.94      0.87        32\n",
      "\n",
      "    accuracy                           0.81        48\n",
      "   macro avg       0.81      0.75      0.77        48\n",
      "weighted avg       0.81      0.81      0.80        48\n",
      "\n"
     ]
    }
   ],
   "source": [
    "# Evaluation Ridge Classifier\n",
    "def evaluation_test_scaled_RiC(model):\n",
    "\n",
    "    model.fit(X_train_scaled, y_train)\n",
    "    ypred = model.predict(X_test_scaled)\n",
    "    \n",
    "    print(\"CONFUSION MATRIX\")\n",
    "    print(confusion_matrix(y_test, ypred))\n",
    "    print(classification_report(y_test, ypred))\n",
    "  \n",
    "print('RIDGE CLASSIFIER')\n",
    "evaluation_test_scaled_RiC(RidgeClassifier(alpha= 2, random_state=1))"
   ]
  },
  {
   "cell_type": "code",
   "execution_count": 118,
   "id": "f282b146",
   "metadata": {},
   "outputs": [
    {
     "name": "stdout",
     "output_type": "stream",
     "text": [
      "CONFUSION MATRIX\n",
      "[[ 9  7]\n",
      " [ 2 30]]\n",
      "              precision    recall  f1-score   support\n",
      "\n",
      "           0       0.82      0.56      0.67        16\n",
      "           1       0.81      0.94      0.87        32\n",
      "\n",
      "    accuracy                           0.81        48\n",
      "   macro avg       0.81      0.75      0.77        48\n",
      "weighted avg       0.81      0.81      0.80        48\n",
      "\n"
     ]
    }
   ],
   "source": [
    "def evaluation_test_pipeline_RiC(model):\n",
    "    model_1= model.steps[1][1]\n",
    "    model_1.fit(X_train, y_train)\n",
    "    ypred = model_1.predict(X_test)\n",
    "\n",
    "    print(\"CONFUSION MATRIX\")\n",
    "    print(confusion_matrix(y_test, ypred))\n",
    "    print(classification_report(y_test, ypred))\n",
    "    \n",
    "\n",
    "evaluation_test_pipeline_RiC(RiC_pipeline)"
   ]
  },
  {
   "cell_type": "code",
   "execution_count": 31,
   "id": "8cf087ec",
   "metadata": {},
   "outputs": [
    {
     "name": "stdout",
     "output_type": "stream",
     "text": [
      "LOGISTIC REGRESSION\n",
      "CONFUSION MATRIX\n",
      "[[ 9  7]\n",
      " [ 3 29]]\n",
      "              precision    recall  f1-score   support\n",
      "\n",
      "           0       0.75      0.56      0.64        16\n",
      "           1       0.81      0.91      0.85        32\n",
      "\n",
      "    accuracy                           0.79        48\n",
      "   macro avg       0.78      0.73      0.75        48\n",
      "weighted avg       0.79      0.79      0.78        48\n",
      "\n",
      "SPECIFICITY\n",
      "[0.90625 0.5625 ]\n",
      "AUROC\n",
      "0.736328125\n"
     ]
    }
   ],
   "source": [
    "# Evaluation Logistric regression\n",
    "print('LOGISTIC REGRESSION')\n",
    "evaluation_test_scaled(LogisticRegression(C= 6, penalty=  'l2', random_state=1))"
   ]
  },
  {
   "cell_type": "code",
   "execution_count": 117,
   "id": "21022bdb",
   "metadata": {},
   "outputs": [
    {
     "name": "stdout",
     "output_type": "stream",
     "text": [
      "CONFUSION MATRIX\n",
      "[[ 9  7]\n",
      " [ 3 29]]\n",
      "              precision    recall  f1-score   support\n",
      "\n",
      "           0       0.75      0.56      0.64        16\n",
      "           1       0.81      0.91      0.85        32\n",
      "\n",
      "    accuracy                           0.79        48\n",
      "   macro avg       0.78      0.73      0.75        48\n",
      "weighted avg       0.79      0.79      0.78        48\n",
      "\n",
      "SPECIFICITY\n",
      "[0.90625 0.5625 ]\n",
      "AUROC\n",
      "0.7421875\n"
     ]
    }
   ],
   "source": [
    "evaluation_test_pipeline(LR_pipeline)"
   ]
  },
  {
   "cell_type": "code",
   "execution_count": 32,
   "id": "f56ebb2c",
   "metadata": {},
   "outputs": [
    {
     "name": "stdout",
     "output_type": "stream",
     "text": [
      "Random Forest\n",
      "CONFUSION MATRIX\n",
      "[[ 6 10]\n",
      " [ 4 28]]\n",
      "              precision    recall  f1-score   support\n",
      "\n",
      "           0       0.60      0.38      0.46        16\n",
      "           1       0.74      0.88      0.80        32\n",
      "\n",
      "    accuracy                           0.71        48\n",
      "   macro avg       0.67      0.62      0.63        48\n",
      "weighted avg       0.69      0.71      0.69        48\n",
      "\n",
      "SPECIFICITY\n",
      "[0.875 0.375]\n",
      "AUROC\n",
      "0.736328125\n"
     ]
    }
   ],
   "source": [
    "# Evaluation Random Forest\n",
    "print('Random Forest')\n",
    "evaluation_test_scaled(RandomForestClassifier(n_estimators=93,max_depth=4, random_state=1))\n"
   ]
  },
  {
   "cell_type": "code",
   "execution_count": 33,
   "id": "3272e33f",
   "metadata": {},
   "outputs": [
    {
     "name": "stdout",
     "output_type": "stream",
     "text": [
      "GRADIENT BOOSTING\n",
      "CONFUSION MATRIX\n",
      "[[ 6 10]\n",
      " [ 7 25]]\n",
      "              precision    recall  f1-score   support\n",
      "\n",
      "           0       0.46      0.38      0.41        16\n",
      "           1       0.71      0.78      0.75        32\n",
      "\n",
      "    accuracy                           0.65        48\n",
      "   macro avg       0.59      0.58      0.58        48\n",
      "weighted avg       0.63      0.65      0.64        48\n",
      "\n",
      "SPECIFICITY\n",
      "[0.78125 0.375  ]\n",
      "AUROC\n",
      "0.693359375\n"
     ]
    }
   ],
   "source": [
    "# Evaluation gradient boosting\n",
    "print('GRADIENT BOOSTING')\n",
    "evaluation_test_scaled(GradientBoostingClassifier(n_estimators=499,max_depth=5, random_state=1))"
   ]
  },
  {
   "cell_type": "code",
   "execution_count": 34,
   "id": "4874192a",
   "metadata": {},
   "outputs": [
    {
     "name": "stdout",
     "output_type": "stream",
     "text": [
      "SUPPORT VECTOR MACHINE\n",
      "CONFUSION MATRIX\n",
      "[[ 8  8]\n",
      " [ 6 26]]\n",
      "              precision    recall  f1-score   support\n",
      "\n",
      "           0       0.57      0.50      0.53        16\n",
      "           1       0.76      0.81      0.79        32\n",
      "\n",
      "    accuracy                           0.71        48\n",
      "   macro avg       0.67      0.66      0.66        48\n",
      "weighted avg       0.70      0.71      0.70        48\n",
      "\n",
      "SPECIFICITY\n",
      "[0.8125 0.5   ]\n",
      "AUROC\n",
      "0.794921875\n"
     ]
    }
   ],
   "source": [
    "# Evaluation support vector machine\n",
    "print('SUPPORT VECTOR MACHINE')\n",
    "evaluation_test_scaled(svm.NuSVC(gamma=\"auto\", probability=True))"
   ]
  },
  {
   "cell_type": "code",
   "execution_count": 35,
   "id": "6b52a14e",
   "metadata": {},
   "outputs": [
    {
     "name": "stdout",
     "output_type": "stream",
     "text": [
      "KNN\n",
      "CONFUSION MATRIX\n",
      "[[ 8  8]\n",
      " [ 2 30]]\n",
      "              precision    recall  f1-score   support\n",
      "\n",
      "           0       0.80      0.50      0.62        16\n",
      "           1       0.79      0.94      0.86        32\n",
      "\n",
      "    accuracy                           0.79        48\n",
      "   macro avg       0.79      0.72      0.74        48\n",
      "weighted avg       0.79      0.79      0.78        48\n",
      "\n",
      "SPECIFICITY\n",
      "[0.9375 0.5   ]\n",
      "AUROC\n",
      "0.73828125\n"
     ]
    }
   ],
   "source": [
    "# Evaluation KNN\n",
    "print('KNN')\n",
    "evaluation_test_scaled(KNeighborsClassifier(n_neighbors=5))"
   ]
  },
  {
   "cell_type": "code",
   "execution_count": 36,
   "id": "c00fed5a",
   "metadata": {},
   "outputs": [
    {
     "name": "stdout",
     "output_type": "stream",
     "text": [
      "NAIVE BAYES\n",
      "CONFUSION MATRIX\n",
      "[[ 1 15]\n",
      " [ 0 32]]\n",
      "              precision    recall  f1-score   support\n",
      "\n",
      "           0       1.00      0.06      0.12        16\n",
      "           1       0.68      1.00      0.81        32\n",
      "\n",
      "    accuracy                           0.69        48\n",
      "   macro avg       0.84      0.53      0.46        48\n",
      "weighted avg       0.79      0.69      0.58        48\n",
      "\n",
      "SPECIFICITY\n",
      "[1.     0.0625]\n",
      "AUROC\n",
      "0.787109375\n"
     ]
    }
   ],
   "source": [
    "# Evaluation Naive Bayes\n",
    "print('NAIVE BAYES')\n",
    "evaluation_test_scaled(GaussianNB())"
   ]
  },
  {
   "cell_type": "markdown",
   "id": "257c2411",
   "metadata": {},
   "source": [
    "## Stacking"
   ]
  },
  {
   "cell_type": "code",
   "execution_count": 40,
   "id": "ab06f7ee",
   "metadata": {},
   "outputs": [
    {
     "data": {
      "text/html": [
       "<style>#sk-container-id-5 {color: black;background-color: white;}#sk-container-id-5 pre{padding: 0;}#sk-container-id-5 div.sk-toggleable {background-color: white;}#sk-container-id-5 label.sk-toggleable__label {cursor: pointer;display: block;width: 100%;margin-bottom: 0;padding: 0.3em;box-sizing: border-box;text-align: center;}#sk-container-id-5 label.sk-toggleable__label-arrow:before {content: \"▸\";float: left;margin-right: 0.25em;color: #696969;}#sk-container-id-5 label.sk-toggleable__label-arrow:hover:before {color: black;}#sk-container-id-5 div.sk-estimator:hover label.sk-toggleable__label-arrow:before {color: black;}#sk-container-id-5 div.sk-toggleable__content {max-height: 0;max-width: 0;overflow: hidden;text-align: left;background-color: #f0f8ff;}#sk-container-id-5 div.sk-toggleable__content pre {margin: 0.2em;color: black;border-radius: 0.25em;background-color: #f0f8ff;}#sk-container-id-5 input.sk-toggleable__control:checked~div.sk-toggleable__content {max-height: 200px;max-width: 100%;overflow: auto;}#sk-container-id-5 input.sk-toggleable__control:checked~label.sk-toggleable__label-arrow:before {content: \"▾\";}#sk-container-id-5 div.sk-estimator input.sk-toggleable__control:checked~label.sk-toggleable__label {background-color: #d4ebff;}#sk-container-id-5 div.sk-label input.sk-toggleable__control:checked~label.sk-toggleable__label {background-color: #d4ebff;}#sk-container-id-5 input.sk-hidden--visually {border: 0;clip: rect(1px 1px 1px 1px);clip: rect(1px, 1px, 1px, 1px);height: 1px;margin: -1px;overflow: hidden;padding: 0;position: absolute;width: 1px;}#sk-container-id-5 div.sk-estimator {font-family: monospace;background-color: #f0f8ff;border: 1px dotted black;border-radius: 0.25em;box-sizing: border-box;margin-bottom: 0.5em;}#sk-container-id-5 div.sk-estimator:hover {background-color: #d4ebff;}#sk-container-id-5 div.sk-parallel-item::after {content: \"\";width: 100%;border-bottom: 1px solid gray;flex-grow: 1;}#sk-container-id-5 div.sk-label:hover label.sk-toggleable__label {background-color: #d4ebff;}#sk-container-id-5 div.sk-serial::before {content: \"\";position: absolute;border-left: 1px solid gray;box-sizing: border-box;top: 0;bottom: 0;left: 50%;z-index: 0;}#sk-container-id-5 div.sk-serial {display: flex;flex-direction: column;align-items: center;background-color: white;padding-right: 0.2em;padding-left: 0.2em;position: relative;}#sk-container-id-5 div.sk-item {position: relative;z-index: 1;}#sk-container-id-5 div.sk-parallel {display: flex;align-items: stretch;justify-content: center;background-color: white;position: relative;}#sk-container-id-5 div.sk-item::before, #sk-container-id-5 div.sk-parallel-item::before {content: \"\";position: absolute;border-left: 1px solid gray;box-sizing: border-box;top: 0;bottom: 0;left: 50%;z-index: -1;}#sk-container-id-5 div.sk-parallel-item {display: flex;flex-direction: column;z-index: 1;position: relative;background-color: white;}#sk-container-id-5 div.sk-parallel-item:first-child::after {align-self: flex-end;width: 50%;}#sk-container-id-5 div.sk-parallel-item:last-child::after {align-self: flex-start;width: 50%;}#sk-container-id-5 div.sk-parallel-item:only-child::after {width: 0;}#sk-container-id-5 div.sk-dashed-wrapped {border: 1px dashed gray;margin: 0 0.4em 0.5em 0.4em;box-sizing: border-box;padding-bottom: 0.4em;background-color: white;}#sk-container-id-5 div.sk-label label {font-family: monospace;font-weight: bold;display: inline-block;line-height: 1.2em;}#sk-container-id-5 div.sk-label-container {text-align: center;}#sk-container-id-5 div.sk-container {/* jupyter's `normalize.less` sets `[hidden] { display: none; }` but bootstrap.min.css set `[hidden] { display: none !important; }` so we also need the `!important` here to be able to override the default hidden behavior on the sphinx rendered scikit-learn.org. See: https://github.com/scikit-learn/scikit-learn/issues/21755 */display: inline-block !important;position: relative;}#sk-container-id-5 div.sk-text-repr-fallback {display: none;}</style><div id=\"sk-container-id-5\" class=\"sk-top-container\"><div class=\"sk-text-repr-fallback\"><pre>StackingClassifier(estimators=[(&#x27;SVM&#x27;, NuSVC(gamma=&#x27;auto&#x27;, probability=True)),\n",
       "                               (&#x27;KNN&#x27;, KNeighborsClassifier()),\n",
       "                               (&#x27;RiC&#x27;, RidgeClassifier(alpha=2))],\n",
       "                   final_estimator=RandomForestClassifier(max_depth=4,\n",
       "                                                          n_estimators=93,\n",
       "                                                          random_state=1))</pre><b>In a Jupyter environment, please rerun this cell to show the HTML representation or trust the notebook. <br />On GitHub, the HTML representation is unable to render, please try loading this page with nbviewer.org.</b></div><div class=\"sk-container\" hidden><div class=\"sk-item sk-dashed-wrapped\"><div class=\"sk-label-container\"><div class=\"sk-label sk-toggleable\"><input class=\"sk-toggleable__control sk-hidden--visually\" id=\"sk-estimator-id-22\" type=\"checkbox\" ><label for=\"sk-estimator-id-22\" class=\"sk-toggleable__label sk-toggleable__label-arrow\">StackingClassifier</label><div class=\"sk-toggleable__content\"><pre>StackingClassifier(estimators=[(&#x27;SVM&#x27;, NuSVC(gamma=&#x27;auto&#x27;, probability=True)),\n",
       "                               (&#x27;KNN&#x27;, KNeighborsClassifier()),\n",
       "                               (&#x27;RiC&#x27;, RidgeClassifier(alpha=2))],\n",
       "                   final_estimator=RandomForestClassifier(max_depth=4,\n",
       "                                                          n_estimators=93,\n",
       "                                                          random_state=1))</pre></div></div></div><div class=\"sk-serial\"><div class=\"sk-item\"><div class=\"sk-parallel\"><div class=\"sk-parallel-item\"><div class=\"sk-item\"><div class=\"sk-label-container\"><div class=\"sk-label sk-toggleable\"><label>SVM</label></div></div><div class=\"sk-serial\"><div class=\"sk-item\"><div class=\"sk-estimator sk-toggleable\"><input class=\"sk-toggleable__control sk-hidden--visually\" id=\"sk-estimator-id-23\" type=\"checkbox\" ><label for=\"sk-estimator-id-23\" class=\"sk-toggleable__label sk-toggleable__label-arrow\">NuSVC</label><div class=\"sk-toggleable__content\"><pre>NuSVC(gamma=&#x27;auto&#x27;, probability=True)</pre></div></div></div></div></div></div><div class=\"sk-parallel-item\"><div class=\"sk-item\"><div class=\"sk-label-container\"><div class=\"sk-label sk-toggleable\"><label>KNN</label></div></div><div class=\"sk-serial\"><div class=\"sk-item\"><div class=\"sk-estimator sk-toggleable\"><input class=\"sk-toggleable__control sk-hidden--visually\" id=\"sk-estimator-id-24\" type=\"checkbox\" ><label for=\"sk-estimator-id-24\" class=\"sk-toggleable__label sk-toggleable__label-arrow\">KNeighborsClassifier</label><div class=\"sk-toggleable__content\"><pre>KNeighborsClassifier()</pre></div></div></div></div></div></div><div class=\"sk-parallel-item\"><div class=\"sk-item\"><div class=\"sk-label-container\"><div class=\"sk-label sk-toggleable\"><label>RiC</label></div></div><div class=\"sk-serial\"><div class=\"sk-item\"><div class=\"sk-estimator sk-toggleable\"><input class=\"sk-toggleable__control sk-hidden--visually\" id=\"sk-estimator-id-25\" type=\"checkbox\" ><label for=\"sk-estimator-id-25\" class=\"sk-toggleable__label sk-toggleable__label-arrow\">RidgeClassifier</label><div class=\"sk-toggleable__content\"><pre>RidgeClassifier(alpha=2)</pre></div></div></div></div></div></div></div></div><div class=\"sk-item\"><div class=\"sk-parallel\"><div class=\"sk-parallel-item\"><div class=\"sk-item\"><div class=\"sk-label-container\"><div class=\"sk-label sk-toggleable\"><label>final_estimator</label></div></div><div class=\"sk-serial\"><div class=\"sk-item\"><div class=\"sk-estimator sk-toggleable\"><input class=\"sk-toggleable__control sk-hidden--visually\" id=\"sk-estimator-id-26\" type=\"checkbox\" ><label for=\"sk-estimator-id-26\" class=\"sk-toggleable__label sk-toggleable__label-arrow\">RandomForestClassifier</label><div class=\"sk-toggleable__content\"><pre>RandomForestClassifier(max_depth=4, n_estimators=93, random_state=1)</pre></div></div></div></div></div></div></div></div></div></div></div></div>"
      ],
      "text/plain": [
       "StackingClassifier(estimators=[('SVM', NuSVC(gamma='auto', probability=True)),\n",
       "                               ('KNN', KNeighborsClassifier()),\n",
       "                               ('RiC', RidgeClassifier(alpha=2))],\n",
       "                   final_estimator=RandomForestClassifier(max_depth=4,\n",
       "                                                          n_estimators=93,\n",
       "                                                          random_state=1))"
      ]
     },
     "execution_count": 40,
     "metadata": {},
     "output_type": "execute_result"
    }
   ],
   "source": [
    "# Seems to be the most efficicient stack model\n",
    "from sklearn.ensemble import StackingClassifier\n",
    "estimators = [\n",
    " \n",
    "    ('SVM', svm.NuSVC(gamma=\"auto\", probability=True)),\n",
    "    ('KNN', KNeighborsClassifier(n_neighbors=5)),\n",
    "    ('RiC', RidgeClassifier(alpha=2))\n",
    "]\n",
    "clf_stack_RiC= StackingClassifier(estimators=estimators, final_estimator=RandomForestClassifier(n_estimators=93,max_depth=4, random_state=1)\n",
    ")\n",
    "clf_stack_RiC"
   ]
  },
  {
   "cell_type": "code",
   "execution_count": 41,
   "id": "2b3f8144",
   "metadata": {},
   "outputs": [
    {
     "name": "stdout",
     "output_type": "stream",
     "text": [
      "CONFUSION MATRIX\n",
      "[[ 9  7]\n",
      " [ 4 28]]\n",
      "              precision    recall  f1-score   support\n",
      "\n",
      "           0       0.69      0.56      0.62        16\n",
      "           1       0.80      0.88      0.84        32\n",
      "\n",
      "    accuracy                           0.77        48\n",
      "   macro avg       0.75      0.72      0.73        48\n",
      "weighted avg       0.76      0.77      0.76        48\n",
      "\n",
      "SPECIFICITY\n",
      "[0.875  0.5625]\n",
      "AUROC\n",
      "0.783203125\n"
     ]
    }
   ],
   "source": [
    "evaluation_test_scaled(clf_stack_RiC)"
   ]
  },
  {
   "cell_type": "code",
   "execution_count": 109,
   "id": "5d7fde1e",
   "metadata": {},
   "outputs": [
    {
     "name": "stdout",
     "output_type": "stream",
     "text": [
      "CONFUSION MATRIX\n",
      "[[10  6]\n",
      " [ 4 28]]\n",
      "              precision    recall  f1-score   support\n",
      "\n",
      "           0       0.71      0.62      0.67        16\n",
      "           1       0.82      0.88      0.85        32\n",
      "\n",
      "    accuracy                           0.79        48\n",
      "   macro avg       0.77      0.75      0.76        48\n",
      "weighted avg       0.79      0.79      0.79        48\n",
      "\n",
      "SPECIFICITY\n",
      "[0.875 0.625]\n",
      "AUROC\n",
      "0.76953125\n"
     ]
    }
   ],
   "source": [
    "stack_RiC_pipeline = make_pipeline(preprocessor,clf_stack_RiC )\n",
    "evaluation_test_pipeline(stack_RiC_pipeline)"
   ]
  },
  {
   "cell_type": "code",
   "execution_count": 104,
   "id": "cdef251a",
   "metadata": {
    "scrolled": true
   },
   "outputs": [
    {
     "data": {
      "text/html": [
       "<style>#sk-container-id-6 {color: black;background-color: white;}#sk-container-id-6 pre{padding: 0;}#sk-container-id-6 div.sk-toggleable {background-color: white;}#sk-container-id-6 label.sk-toggleable__label {cursor: pointer;display: block;width: 100%;margin-bottom: 0;padding: 0.3em;box-sizing: border-box;text-align: center;}#sk-container-id-6 label.sk-toggleable__label-arrow:before {content: \"▸\";float: left;margin-right: 0.25em;color: #696969;}#sk-container-id-6 label.sk-toggleable__label-arrow:hover:before {color: black;}#sk-container-id-6 div.sk-estimator:hover label.sk-toggleable__label-arrow:before {color: black;}#sk-container-id-6 div.sk-toggleable__content {max-height: 0;max-width: 0;overflow: hidden;text-align: left;background-color: #f0f8ff;}#sk-container-id-6 div.sk-toggleable__content pre {margin: 0.2em;color: black;border-radius: 0.25em;background-color: #f0f8ff;}#sk-container-id-6 input.sk-toggleable__control:checked~div.sk-toggleable__content {max-height: 200px;max-width: 100%;overflow: auto;}#sk-container-id-6 input.sk-toggleable__control:checked~label.sk-toggleable__label-arrow:before {content: \"▾\";}#sk-container-id-6 div.sk-estimator input.sk-toggleable__control:checked~label.sk-toggleable__label {background-color: #d4ebff;}#sk-container-id-6 div.sk-label input.sk-toggleable__control:checked~label.sk-toggleable__label {background-color: #d4ebff;}#sk-container-id-6 input.sk-hidden--visually {border: 0;clip: rect(1px 1px 1px 1px);clip: rect(1px, 1px, 1px, 1px);height: 1px;margin: -1px;overflow: hidden;padding: 0;position: absolute;width: 1px;}#sk-container-id-6 div.sk-estimator {font-family: monospace;background-color: #f0f8ff;border: 1px dotted black;border-radius: 0.25em;box-sizing: border-box;margin-bottom: 0.5em;}#sk-container-id-6 div.sk-estimator:hover {background-color: #d4ebff;}#sk-container-id-6 div.sk-parallel-item::after {content: \"\";width: 100%;border-bottom: 1px solid gray;flex-grow: 1;}#sk-container-id-6 div.sk-label:hover label.sk-toggleable__label {background-color: #d4ebff;}#sk-container-id-6 div.sk-serial::before {content: \"\";position: absolute;border-left: 1px solid gray;box-sizing: border-box;top: 0;bottom: 0;left: 50%;z-index: 0;}#sk-container-id-6 div.sk-serial {display: flex;flex-direction: column;align-items: center;background-color: white;padding-right: 0.2em;padding-left: 0.2em;position: relative;}#sk-container-id-6 div.sk-item {position: relative;z-index: 1;}#sk-container-id-6 div.sk-parallel {display: flex;align-items: stretch;justify-content: center;background-color: white;position: relative;}#sk-container-id-6 div.sk-item::before, #sk-container-id-6 div.sk-parallel-item::before {content: \"\";position: absolute;border-left: 1px solid gray;box-sizing: border-box;top: 0;bottom: 0;left: 50%;z-index: -1;}#sk-container-id-6 div.sk-parallel-item {display: flex;flex-direction: column;z-index: 1;position: relative;background-color: white;}#sk-container-id-6 div.sk-parallel-item:first-child::after {align-self: flex-end;width: 50%;}#sk-container-id-6 div.sk-parallel-item:last-child::after {align-self: flex-start;width: 50%;}#sk-container-id-6 div.sk-parallel-item:only-child::after {width: 0;}#sk-container-id-6 div.sk-dashed-wrapped {border: 1px dashed gray;margin: 0 0.4em 0.5em 0.4em;box-sizing: border-box;padding-bottom: 0.4em;background-color: white;}#sk-container-id-6 div.sk-label label {font-family: monospace;font-weight: bold;display: inline-block;line-height: 1.2em;}#sk-container-id-6 div.sk-label-container {text-align: center;}#sk-container-id-6 div.sk-container {/* jupyter's `normalize.less` sets `[hidden] { display: none; }` but bootstrap.min.css set `[hidden] { display: none !important; }` so we also need the `!important` here to be able to override the default hidden behavior on the sphinx rendered scikit-learn.org. See: https://github.com/scikit-learn/scikit-learn/issues/21755 */display: inline-block !important;position: relative;}#sk-container-id-6 div.sk-text-repr-fallback {display: none;}</style><div id=\"sk-container-id-6\" class=\"sk-top-container\"><div class=\"sk-text-repr-fallback\"><pre>StackingClassifier(estimators=[(&#x27;LR&#x27;,\n",
       "                                LogisticRegression(C=6, max_iter=1000,\n",
       "                                                   random_state=1)),\n",
       "                               (&#x27;SVM&#x27;, NuSVC(gamma=&#x27;auto&#x27;, probability=True)),\n",
       "                               (&#x27;KNN&#x27;, KNeighborsClassifier())],\n",
       "                   final_estimator=RandomForestClassifier(max_depth=4,\n",
       "                                                          n_estimators=93,\n",
       "                                                          random_state=1))</pre><b>In a Jupyter environment, please rerun this cell to show the HTML representation or trust the notebook. <br />On GitHub, the HTML representation is unable to render, please try loading this page with nbviewer.org.</b></div><div class=\"sk-container\" hidden><div class=\"sk-item sk-dashed-wrapped\"><div class=\"sk-label-container\"><div class=\"sk-label sk-toggleable\"><input class=\"sk-toggleable__control sk-hidden--visually\" id=\"sk-estimator-id-27\" type=\"checkbox\" ><label for=\"sk-estimator-id-27\" class=\"sk-toggleable__label sk-toggleable__label-arrow\">StackingClassifier</label><div class=\"sk-toggleable__content\"><pre>StackingClassifier(estimators=[(&#x27;LR&#x27;,\n",
       "                                LogisticRegression(C=6, max_iter=1000,\n",
       "                                                   random_state=1)),\n",
       "                               (&#x27;SVM&#x27;, NuSVC(gamma=&#x27;auto&#x27;, probability=True)),\n",
       "                               (&#x27;KNN&#x27;, KNeighborsClassifier())],\n",
       "                   final_estimator=RandomForestClassifier(max_depth=4,\n",
       "                                                          n_estimators=93,\n",
       "                                                          random_state=1))</pre></div></div></div><div class=\"sk-serial\"><div class=\"sk-item\"><div class=\"sk-parallel\"><div class=\"sk-parallel-item\"><div class=\"sk-item\"><div class=\"sk-label-container\"><div class=\"sk-label sk-toggleable\"><label>LR</label></div></div><div class=\"sk-serial\"><div class=\"sk-item\"><div class=\"sk-estimator sk-toggleable\"><input class=\"sk-toggleable__control sk-hidden--visually\" id=\"sk-estimator-id-28\" type=\"checkbox\" ><label for=\"sk-estimator-id-28\" class=\"sk-toggleable__label sk-toggleable__label-arrow\">LogisticRegression</label><div class=\"sk-toggleable__content\"><pre>LogisticRegression(C=6, max_iter=1000, random_state=1)</pre></div></div></div></div></div></div><div class=\"sk-parallel-item\"><div class=\"sk-item\"><div class=\"sk-label-container\"><div class=\"sk-label sk-toggleable\"><label>SVM</label></div></div><div class=\"sk-serial\"><div class=\"sk-item\"><div class=\"sk-estimator sk-toggleable\"><input class=\"sk-toggleable__control sk-hidden--visually\" id=\"sk-estimator-id-29\" type=\"checkbox\" ><label for=\"sk-estimator-id-29\" class=\"sk-toggleable__label sk-toggleable__label-arrow\">NuSVC</label><div class=\"sk-toggleable__content\"><pre>NuSVC(gamma=&#x27;auto&#x27;, probability=True)</pre></div></div></div></div></div></div><div class=\"sk-parallel-item\"><div class=\"sk-item\"><div class=\"sk-label-container\"><div class=\"sk-label sk-toggleable\"><label>KNN</label></div></div><div class=\"sk-serial\"><div class=\"sk-item\"><div class=\"sk-estimator sk-toggleable\"><input class=\"sk-toggleable__control sk-hidden--visually\" id=\"sk-estimator-id-30\" type=\"checkbox\" ><label for=\"sk-estimator-id-30\" class=\"sk-toggleable__label sk-toggleable__label-arrow\">KNeighborsClassifier</label><div class=\"sk-toggleable__content\"><pre>KNeighborsClassifier()</pre></div></div></div></div></div></div></div></div><div class=\"sk-item\"><div class=\"sk-parallel\"><div class=\"sk-parallel-item\"><div class=\"sk-item\"><div class=\"sk-label-container\"><div class=\"sk-label sk-toggleable\"><label>final_estimator</label></div></div><div class=\"sk-serial\"><div class=\"sk-item\"><div class=\"sk-estimator sk-toggleable\"><input class=\"sk-toggleable__control sk-hidden--visually\" id=\"sk-estimator-id-31\" type=\"checkbox\" ><label for=\"sk-estimator-id-31\" class=\"sk-toggleable__label sk-toggleable__label-arrow\">RandomForestClassifier</label><div class=\"sk-toggleable__content\"><pre>RandomForestClassifier(max_depth=4, n_estimators=93, random_state=1)</pre></div></div></div></div></div></div></div></div></div></div></div></div>"
      ],
      "text/plain": [
       "StackingClassifier(estimators=[('LR',\n",
       "                                LogisticRegression(C=6, max_iter=1000,\n",
       "                                                   random_state=1)),\n",
       "                               ('SVM', NuSVC(gamma='auto', probability=True)),\n",
       "                               ('KNN', KNeighborsClassifier())],\n",
       "                   final_estimator=RandomForestClassifier(max_depth=4,\n",
       "                                                          n_estimators=93,\n",
       "                                                          random_state=1))"
      ]
     },
     "execution_count": 104,
     "metadata": {},
     "output_type": "execute_result"
    }
   ],
   "source": [
    "# Seems to be the most efficicient stack model\n",
    "from sklearn.ensemble import StackingClassifier\n",
    "estimators = [\n",
    "    ('LR', LogisticRegression(C= 6, penalty=  'l2',max_iter=1000, random_state=1)),\n",
    "    ('SVM', svm.NuSVC(gamma=\"auto\", probability=True)),\n",
    "    ('KNN', KNeighborsClassifier(n_neighbors=5))\n",
    "]\n",
    "clf_stack= StackingClassifier(estimators=estimators, final_estimator=RandomForestClassifier(n_estimators=93,max_depth=4, random_state=1)\n",
    ")\n",
    "clf_stack"
   ]
  },
  {
   "cell_type": "code",
   "execution_count": 105,
   "id": "233fc552",
   "metadata": {
    "scrolled": true
   },
   "outputs": [
    {
     "name": "stdout",
     "output_type": "stream",
     "text": [
      "CONFUSION MATRIX\n",
      "[[ 9  7]\n",
      " [ 4 28]]\n",
      "              precision    recall  f1-score   support\n",
      "\n",
      "           0       0.69      0.56      0.62        16\n",
      "           1       0.80      0.88      0.84        32\n",
      "\n",
      "    accuracy                           0.77        48\n",
      "   macro avg       0.75      0.72      0.73        48\n",
      "weighted avg       0.76      0.77      0.76        48\n",
      "\n",
      "SPECIFICITY\n",
      "[0.875  0.5625]\n",
      "AUROC\n",
      "0.7607421875\n"
     ]
    }
   ],
   "source": [
    "evaluation_test_scaled(clf_stack)"
   ]
  },
  {
   "cell_type": "code",
   "execution_count": 106,
   "id": "51da5082",
   "metadata": {},
   "outputs": [
    {
     "name": "stdout",
     "output_type": "stream",
     "text": [
      "CONFUSION MATRIX\n",
      "[[ 7  9]\n",
      " [ 1 31]]\n",
      "              precision    recall  f1-score   support\n",
      "\n",
      "           0       0.88      0.44      0.58        16\n",
      "           1       0.78      0.97      0.86        32\n",
      "\n",
      "    accuracy                           0.79        48\n",
      "   macro avg       0.82      0.70      0.72        48\n",
      "weighted avg       0.81      0.79      0.77        48\n",
      "\n",
      "SPECIFICITY\n",
      "[0.96875 0.4375 ]\n",
      "AUROC\n",
      "0.759765625\n"
     ]
    }
   ],
   "source": [
    "stack_pipeline = make_pipeline(preprocessor,clf_stack )\n",
    "evaluation_test_pipeline(stack_pipeline)"
   ]
  },
  {
   "cell_type": "code",
   "execution_count": 107,
   "id": "3258b405",
   "metadata": {},
   "outputs": [
    {
     "data": {
      "text/html": [
       "<style>#sk-container-id-7 {color: black;background-color: white;}#sk-container-id-7 pre{padding: 0;}#sk-container-id-7 div.sk-toggleable {background-color: white;}#sk-container-id-7 label.sk-toggleable__label {cursor: pointer;display: block;width: 100%;margin-bottom: 0;padding: 0.3em;box-sizing: border-box;text-align: center;}#sk-container-id-7 label.sk-toggleable__label-arrow:before {content: \"▸\";float: left;margin-right: 0.25em;color: #696969;}#sk-container-id-7 label.sk-toggleable__label-arrow:hover:before {color: black;}#sk-container-id-7 div.sk-estimator:hover label.sk-toggleable__label-arrow:before {color: black;}#sk-container-id-7 div.sk-toggleable__content {max-height: 0;max-width: 0;overflow: hidden;text-align: left;background-color: #f0f8ff;}#sk-container-id-7 div.sk-toggleable__content pre {margin: 0.2em;color: black;border-radius: 0.25em;background-color: #f0f8ff;}#sk-container-id-7 input.sk-toggleable__control:checked~div.sk-toggleable__content {max-height: 200px;max-width: 100%;overflow: auto;}#sk-container-id-7 input.sk-toggleable__control:checked~label.sk-toggleable__label-arrow:before {content: \"▾\";}#sk-container-id-7 div.sk-estimator input.sk-toggleable__control:checked~label.sk-toggleable__label {background-color: #d4ebff;}#sk-container-id-7 div.sk-label input.sk-toggleable__control:checked~label.sk-toggleable__label {background-color: #d4ebff;}#sk-container-id-7 input.sk-hidden--visually {border: 0;clip: rect(1px 1px 1px 1px);clip: rect(1px, 1px, 1px, 1px);height: 1px;margin: -1px;overflow: hidden;padding: 0;position: absolute;width: 1px;}#sk-container-id-7 div.sk-estimator {font-family: monospace;background-color: #f0f8ff;border: 1px dotted black;border-radius: 0.25em;box-sizing: border-box;margin-bottom: 0.5em;}#sk-container-id-7 div.sk-estimator:hover {background-color: #d4ebff;}#sk-container-id-7 div.sk-parallel-item::after {content: \"\";width: 100%;border-bottom: 1px solid gray;flex-grow: 1;}#sk-container-id-7 div.sk-label:hover label.sk-toggleable__label {background-color: #d4ebff;}#sk-container-id-7 div.sk-serial::before {content: \"\";position: absolute;border-left: 1px solid gray;box-sizing: border-box;top: 0;bottom: 0;left: 50%;z-index: 0;}#sk-container-id-7 div.sk-serial {display: flex;flex-direction: column;align-items: center;background-color: white;padding-right: 0.2em;padding-left: 0.2em;position: relative;}#sk-container-id-7 div.sk-item {position: relative;z-index: 1;}#sk-container-id-7 div.sk-parallel {display: flex;align-items: stretch;justify-content: center;background-color: white;position: relative;}#sk-container-id-7 div.sk-item::before, #sk-container-id-7 div.sk-parallel-item::before {content: \"\";position: absolute;border-left: 1px solid gray;box-sizing: border-box;top: 0;bottom: 0;left: 50%;z-index: -1;}#sk-container-id-7 div.sk-parallel-item {display: flex;flex-direction: column;z-index: 1;position: relative;background-color: white;}#sk-container-id-7 div.sk-parallel-item:first-child::after {align-self: flex-end;width: 50%;}#sk-container-id-7 div.sk-parallel-item:last-child::after {align-self: flex-start;width: 50%;}#sk-container-id-7 div.sk-parallel-item:only-child::after {width: 0;}#sk-container-id-7 div.sk-dashed-wrapped {border: 1px dashed gray;margin: 0 0.4em 0.5em 0.4em;box-sizing: border-box;padding-bottom: 0.4em;background-color: white;}#sk-container-id-7 div.sk-label label {font-family: monospace;font-weight: bold;display: inline-block;line-height: 1.2em;}#sk-container-id-7 div.sk-label-container {text-align: center;}#sk-container-id-7 div.sk-container {/* jupyter's `normalize.less` sets `[hidden] { display: none; }` but bootstrap.min.css set `[hidden] { display: none !important; }` so we also need the `!important` here to be able to override the default hidden behavior on the sphinx rendered scikit-learn.org. See: https://github.com/scikit-learn/scikit-learn/issues/21755 */display: inline-block !important;position: relative;}#sk-container-id-7 div.sk-text-repr-fallback {display: none;}</style><div id=\"sk-container-id-7\" class=\"sk-top-container\"><div class=\"sk-text-repr-fallback\"><pre>StackingClassifier(estimators=[(&#x27;LR&#x27;, LogisticRegression(C=6, random_state=1)),\n",
       "                               (&#x27;SVM&#x27;, NuSVC(gamma=&#x27;auto&#x27;, probability=True)),\n",
       "                               (&#x27;KNN&#x27;, KNeighborsClassifier()),\n",
       "                               (&#x27;GBC&#x27;,\n",
       "                                GradientBoostingClassifier(max_depth=5,\n",
       "                                                           n_estimators=499,\n",
       "                                                           random_state=1)),\n",
       "                               (&#x27;GNB&#x27;, GaussianNB())],\n",
       "                   final_estimator=RandomForestClassifier(max_depth=4,\n",
       "                                                          n_estimators=93,\n",
       "                                                          random_state=1))</pre><b>In a Jupyter environment, please rerun this cell to show the HTML representation or trust the notebook. <br />On GitHub, the HTML representation is unable to render, please try loading this page with nbviewer.org.</b></div><div class=\"sk-container\" hidden><div class=\"sk-item sk-dashed-wrapped\"><div class=\"sk-label-container\"><div class=\"sk-label sk-toggleable\"><input class=\"sk-toggleable__control sk-hidden--visually\" id=\"sk-estimator-id-32\" type=\"checkbox\" ><label for=\"sk-estimator-id-32\" class=\"sk-toggleable__label sk-toggleable__label-arrow\">StackingClassifier</label><div class=\"sk-toggleable__content\"><pre>StackingClassifier(estimators=[(&#x27;LR&#x27;, LogisticRegression(C=6, random_state=1)),\n",
       "                               (&#x27;SVM&#x27;, NuSVC(gamma=&#x27;auto&#x27;, probability=True)),\n",
       "                               (&#x27;KNN&#x27;, KNeighborsClassifier()),\n",
       "                               (&#x27;GBC&#x27;,\n",
       "                                GradientBoostingClassifier(max_depth=5,\n",
       "                                                           n_estimators=499,\n",
       "                                                           random_state=1)),\n",
       "                               (&#x27;GNB&#x27;, GaussianNB())],\n",
       "                   final_estimator=RandomForestClassifier(max_depth=4,\n",
       "                                                          n_estimators=93,\n",
       "                                                          random_state=1))</pre></div></div></div><div class=\"sk-serial\"><div class=\"sk-item\"><div class=\"sk-parallel\"><div class=\"sk-parallel-item\"><div class=\"sk-item\"><div class=\"sk-label-container\"><div class=\"sk-label sk-toggleable\"><label>LR</label></div></div><div class=\"sk-serial\"><div class=\"sk-item\"><div class=\"sk-estimator sk-toggleable\"><input class=\"sk-toggleable__control sk-hidden--visually\" id=\"sk-estimator-id-33\" type=\"checkbox\" ><label for=\"sk-estimator-id-33\" class=\"sk-toggleable__label sk-toggleable__label-arrow\">LogisticRegression</label><div class=\"sk-toggleable__content\"><pre>LogisticRegression(C=6, random_state=1)</pre></div></div></div></div></div></div><div class=\"sk-parallel-item\"><div class=\"sk-item\"><div class=\"sk-label-container\"><div class=\"sk-label sk-toggleable\"><label>SVM</label></div></div><div class=\"sk-serial\"><div class=\"sk-item\"><div class=\"sk-estimator sk-toggleable\"><input class=\"sk-toggleable__control sk-hidden--visually\" id=\"sk-estimator-id-34\" type=\"checkbox\" ><label for=\"sk-estimator-id-34\" class=\"sk-toggleable__label sk-toggleable__label-arrow\">NuSVC</label><div class=\"sk-toggleable__content\"><pre>NuSVC(gamma=&#x27;auto&#x27;, probability=True)</pre></div></div></div></div></div></div><div class=\"sk-parallel-item\"><div class=\"sk-item\"><div class=\"sk-label-container\"><div class=\"sk-label sk-toggleable\"><label>KNN</label></div></div><div class=\"sk-serial\"><div class=\"sk-item\"><div class=\"sk-estimator sk-toggleable\"><input class=\"sk-toggleable__control sk-hidden--visually\" id=\"sk-estimator-id-35\" type=\"checkbox\" ><label for=\"sk-estimator-id-35\" class=\"sk-toggleable__label sk-toggleable__label-arrow\">KNeighborsClassifier</label><div class=\"sk-toggleable__content\"><pre>KNeighborsClassifier()</pre></div></div></div></div></div></div><div class=\"sk-parallel-item\"><div class=\"sk-item\"><div class=\"sk-label-container\"><div class=\"sk-label sk-toggleable\"><label>GBC</label></div></div><div class=\"sk-serial\"><div class=\"sk-item\"><div class=\"sk-estimator sk-toggleable\"><input class=\"sk-toggleable__control sk-hidden--visually\" id=\"sk-estimator-id-36\" type=\"checkbox\" ><label for=\"sk-estimator-id-36\" class=\"sk-toggleable__label sk-toggleable__label-arrow\">GradientBoostingClassifier</label><div class=\"sk-toggleable__content\"><pre>GradientBoostingClassifier(max_depth=5, n_estimators=499, random_state=1)</pre></div></div></div></div></div></div><div class=\"sk-parallel-item\"><div class=\"sk-item\"><div class=\"sk-label-container\"><div class=\"sk-label sk-toggleable\"><label>GNB</label></div></div><div class=\"sk-serial\"><div class=\"sk-item\"><div class=\"sk-estimator sk-toggleable\"><input class=\"sk-toggleable__control sk-hidden--visually\" id=\"sk-estimator-id-37\" type=\"checkbox\" ><label for=\"sk-estimator-id-37\" class=\"sk-toggleable__label sk-toggleable__label-arrow\">GaussianNB</label><div class=\"sk-toggleable__content\"><pre>GaussianNB()</pre></div></div></div></div></div></div></div></div><div class=\"sk-item\"><div class=\"sk-parallel\"><div class=\"sk-parallel-item\"><div class=\"sk-item\"><div class=\"sk-label-container\"><div class=\"sk-label sk-toggleable\"><label>final_estimator</label></div></div><div class=\"sk-serial\"><div class=\"sk-item\"><div class=\"sk-estimator sk-toggleable\"><input class=\"sk-toggleable__control sk-hidden--visually\" id=\"sk-estimator-id-38\" type=\"checkbox\" ><label for=\"sk-estimator-id-38\" class=\"sk-toggleable__label sk-toggleable__label-arrow\">RandomForestClassifier</label><div class=\"sk-toggleable__content\"><pre>RandomForestClassifier(max_depth=4, n_estimators=93, random_state=1)</pre></div></div></div></div></div></div></div></div></div></div></div></div>"
      ],
      "text/plain": [
       "StackingClassifier(estimators=[('LR', LogisticRegression(C=6, random_state=1)),\n",
       "                               ('SVM', NuSVC(gamma='auto', probability=True)),\n",
       "                               ('KNN', KNeighborsClassifier()),\n",
       "                               ('GBC',\n",
       "                                GradientBoostingClassifier(max_depth=5,\n",
       "                                                           n_estimators=499,\n",
       "                                                           random_state=1)),\n",
       "                               ('GNB', GaussianNB())],\n",
       "                   final_estimator=RandomForestClassifier(max_depth=4,\n",
       "                                                          n_estimators=93,\n",
       "                                                          random_state=1))"
      ]
     },
     "execution_count": 107,
     "metadata": {},
     "output_type": "execute_result"
    }
   ],
   "source": [
    "from sklearn.ensemble import StackingClassifier\n",
    "estimators = [\n",
    "    ('LR', LogisticRegression(C= 6, penalty=  'l2', random_state=1)),\n",
    "    ('SVM', svm.NuSVC(gamma=\"auto\", probability=True)),\n",
    "    ('KNN', KNeighborsClassifier(n_neighbors=5)),\n",
    "    ('GBC', GradientBoostingClassifier(n_estimators=499,max_depth=5, random_state=1)),\n",
    "    ('GNB', GaussianNB())\n",
    "]\n",
    "clf_stack_1= StackingClassifier(estimators=estimators, final_estimator=RandomForestClassifier(n_estimators=93,max_depth=4, random_state=1)\n",
    ")\n",
    "clf_stack_1"
   ]
  },
  {
   "cell_type": "code",
   "execution_count": 108,
   "id": "e5e89389",
   "metadata": {},
   "outputs": [
    {
     "name": "stdout",
     "output_type": "stream",
     "text": [
      "CONFUSION MATRIX\n",
      "[[ 7  9]\n",
      " [ 7 25]]\n",
      "              precision    recall  f1-score   support\n",
      "\n",
      "           0       0.50      0.44      0.47        16\n",
      "           1       0.74      0.78      0.76        32\n",
      "\n",
      "    accuracy                           0.67        48\n",
      "   macro avg       0.62      0.61      0.61        48\n",
      "weighted avg       0.66      0.67      0.66        48\n",
      "\n",
      "SPECIFICITY\n",
      "[0.78125 0.4375 ]\n",
      "AUROC\n",
      "0.69140625\n"
     ]
    }
   ],
   "source": [
    "evaluation_test_scaled(clf_stack_1)"
   ]
  },
  {
   "cell_type": "code",
   "execution_count": 25,
   "id": "faa6893a",
   "metadata": {},
   "outputs": [
    {
     "data": {
      "text/html": [
       "<style>#sk-container-id-4 {color: black;background-color: white;}#sk-container-id-4 pre{padding: 0;}#sk-container-id-4 div.sk-toggleable {background-color: white;}#sk-container-id-4 label.sk-toggleable__label {cursor: pointer;display: block;width: 100%;margin-bottom: 0;padding: 0.3em;box-sizing: border-box;text-align: center;}#sk-container-id-4 label.sk-toggleable__label-arrow:before {content: \"▸\";float: left;margin-right: 0.25em;color: #696969;}#sk-container-id-4 label.sk-toggleable__label-arrow:hover:before {color: black;}#sk-container-id-4 div.sk-estimator:hover label.sk-toggleable__label-arrow:before {color: black;}#sk-container-id-4 div.sk-toggleable__content {max-height: 0;max-width: 0;overflow: hidden;text-align: left;background-color: #f0f8ff;}#sk-container-id-4 div.sk-toggleable__content pre {margin: 0.2em;color: black;border-radius: 0.25em;background-color: #f0f8ff;}#sk-container-id-4 input.sk-toggleable__control:checked~div.sk-toggleable__content {max-height: 200px;max-width: 100%;overflow: auto;}#sk-container-id-4 input.sk-toggleable__control:checked~label.sk-toggleable__label-arrow:before {content: \"▾\";}#sk-container-id-4 div.sk-estimator input.sk-toggleable__control:checked~label.sk-toggleable__label {background-color: #d4ebff;}#sk-container-id-4 div.sk-label input.sk-toggleable__control:checked~label.sk-toggleable__label {background-color: #d4ebff;}#sk-container-id-4 input.sk-hidden--visually {border: 0;clip: rect(1px 1px 1px 1px);clip: rect(1px, 1px, 1px, 1px);height: 1px;margin: -1px;overflow: hidden;padding: 0;position: absolute;width: 1px;}#sk-container-id-4 div.sk-estimator {font-family: monospace;background-color: #f0f8ff;border: 1px dotted black;border-radius: 0.25em;box-sizing: border-box;margin-bottom: 0.5em;}#sk-container-id-4 div.sk-estimator:hover {background-color: #d4ebff;}#sk-container-id-4 div.sk-parallel-item::after {content: \"\";width: 100%;border-bottom: 1px solid gray;flex-grow: 1;}#sk-container-id-4 div.sk-label:hover label.sk-toggleable__label {background-color: #d4ebff;}#sk-container-id-4 div.sk-serial::before {content: \"\";position: absolute;border-left: 1px solid gray;box-sizing: border-box;top: 0;bottom: 0;left: 50%;z-index: 0;}#sk-container-id-4 div.sk-serial {display: flex;flex-direction: column;align-items: center;background-color: white;padding-right: 0.2em;padding-left: 0.2em;position: relative;}#sk-container-id-4 div.sk-item {position: relative;z-index: 1;}#sk-container-id-4 div.sk-parallel {display: flex;align-items: stretch;justify-content: center;background-color: white;position: relative;}#sk-container-id-4 div.sk-item::before, #sk-container-id-4 div.sk-parallel-item::before {content: \"\";position: absolute;border-left: 1px solid gray;box-sizing: border-box;top: 0;bottom: 0;left: 50%;z-index: -1;}#sk-container-id-4 div.sk-parallel-item {display: flex;flex-direction: column;z-index: 1;position: relative;background-color: white;}#sk-container-id-4 div.sk-parallel-item:first-child::after {align-self: flex-end;width: 50%;}#sk-container-id-4 div.sk-parallel-item:last-child::after {align-self: flex-start;width: 50%;}#sk-container-id-4 div.sk-parallel-item:only-child::after {width: 0;}#sk-container-id-4 div.sk-dashed-wrapped {border: 1px dashed gray;margin: 0 0.4em 0.5em 0.4em;box-sizing: border-box;padding-bottom: 0.4em;background-color: white;}#sk-container-id-4 div.sk-label label {font-family: monospace;font-weight: bold;display: inline-block;line-height: 1.2em;}#sk-container-id-4 div.sk-label-container {text-align: center;}#sk-container-id-4 div.sk-container {/* jupyter's `normalize.less` sets `[hidden] { display: none; }` but bootstrap.min.css set `[hidden] { display: none !important; }` so we also need the `!important` here to be able to override the default hidden behavior on the sphinx rendered scikit-learn.org. See: https://github.com/scikit-learn/scikit-learn/issues/21755 */display: inline-block !important;position: relative;}#sk-container-id-4 div.sk-text-repr-fallback {display: none;}</style><div id=\"sk-container-id-4\" class=\"sk-top-container\"><div class=\"sk-text-repr-fallback\"><pre>StackingClassifier(estimators=[(&#x27;LR&#x27;, LogisticRegression(C=6, random_state=1)),\n",
       "                               (&#x27;SVM&#x27;, NuSVC(gamma=&#x27;auto&#x27;, probability=True)),\n",
       "                               (&#x27;KNN&#x27;, KNeighborsClassifier()),\n",
       "                               (&#x27;GNB&#x27;, GaussianNB())],\n",
       "                   final_estimator=RandomForestClassifier(max_depth=4,\n",
       "                                                          n_estimators=93,\n",
       "                                                          random_state=1))</pre><b>In a Jupyter environment, please rerun this cell to show the HTML representation or trust the notebook. <br />On GitHub, the HTML representation is unable to render, please try loading this page with nbviewer.org.</b></div><div class=\"sk-container\" hidden><div class=\"sk-item sk-dashed-wrapped\"><div class=\"sk-label-container\"><div class=\"sk-label sk-toggleable\"><input class=\"sk-toggleable__control sk-hidden--visually\" id=\"sk-estimator-id-17\" type=\"checkbox\" ><label for=\"sk-estimator-id-17\" class=\"sk-toggleable__label sk-toggleable__label-arrow\">StackingClassifier</label><div class=\"sk-toggleable__content\"><pre>StackingClassifier(estimators=[(&#x27;LR&#x27;, LogisticRegression(C=6, random_state=1)),\n",
       "                               (&#x27;SVM&#x27;, NuSVC(gamma=&#x27;auto&#x27;, probability=True)),\n",
       "                               (&#x27;KNN&#x27;, KNeighborsClassifier()),\n",
       "                               (&#x27;GNB&#x27;, GaussianNB())],\n",
       "                   final_estimator=RandomForestClassifier(max_depth=4,\n",
       "                                                          n_estimators=93,\n",
       "                                                          random_state=1))</pre></div></div></div><div class=\"sk-serial\"><div class=\"sk-item\"><div class=\"sk-parallel\"><div class=\"sk-parallel-item\"><div class=\"sk-item\"><div class=\"sk-label-container\"><div class=\"sk-label sk-toggleable\"><label>LR</label></div></div><div class=\"sk-serial\"><div class=\"sk-item\"><div class=\"sk-estimator sk-toggleable\"><input class=\"sk-toggleable__control sk-hidden--visually\" id=\"sk-estimator-id-18\" type=\"checkbox\" ><label for=\"sk-estimator-id-18\" class=\"sk-toggleable__label sk-toggleable__label-arrow\">LogisticRegression</label><div class=\"sk-toggleable__content\"><pre>LogisticRegression(C=6, random_state=1)</pre></div></div></div></div></div></div><div class=\"sk-parallel-item\"><div class=\"sk-item\"><div class=\"sk-label-container\"><div class=\"sk-label sk-toggleable\"><label>SVM</label></div></div><div class=\"sk-serial\"><div class=\"sk-item\"><div class=\"sk-estimator sk-toggleable\"><input class=\"sk-toggleable__control sk-hidden--visually\" id=\"sk-estimator-id-19\" type=\"checkbox\" ><label for=\"sk-estimator-id-19\" class=\"sk-toggleable__label sk-toggleable__label-arrow\">NuSVC</label><div class=\"sk-toggleable__content\"><pre>NuSVC(gamma=&#x27;auto&#x27;, probability=True)</pre></div></div></div></div></div></div><div class=\"sk-parallel-item\"><div class=\"sk-item\"><div class=\"sk-label-container\"><div class=\"sk-label sk-toggleable\"><label>KNN</label></div></div><div class=\"sk-serial\"><div class=\"sk-item\"><div class=\"sk-estimator sk-toggleable\"><input class=\"sk-toggleable__control sk-hidden--visually\" id=\"sk-estimator-id-20\" type=\"checkbox\" ><label for=\"sk-estimator-id-20\" class=\"sk-toggleable__label sk-toggleable__label-arrow\">KNeighborsClassifier</label><div class=\"sk-toggleable__content\"><pre>KNeighborsClassifier()</pre></div></div></div></div></div></div><div class=\"sk-parallel-item\"><div class=\"sk-item\"><div class=\"sk-label-container\"><div class=\"sk-label sk-toggleable\"><label>GNB</label></div></div><div class=\"sk-serial\"><div class=\"sk-item\"><div class=\"sk-estimator sk-toggleable\"><input class=\"sk-toggleable__control sk-hidden--visually\" id=\"sk-estimator-id-21\" type=\"checkbox\" ><label for=\"sk-estimator-id-21\" class=\"sk-toggleable__label sk-toggleable__label-arrow\">GaussianNB</label><div class=\"sk-toggleable__content\"><pre>GaussianNB()</pre></div></div></div></div></div></div></div></div><div class=\"sk-item\"><div class=\"sk-parallel\"><div class=\"sk-parallel-item\"><div class=\"sk-item\"><div class=\"sk-label-container\"><div class=\"sk-label sk-toggleable\"><label>final_estimator</label></div></div><div class=\"sk-serial\"><div class=\"sk-item\"><div class=\"sk-estimator sk-toggleable\"><input class=\"sk-toggleable__control sk-hidden--visually\" id=\"sk-estimator-id-22\" type=\"checkbox\" ><label for=\"sk-estimator-id-22\" class=\"sk-toggleable__label sk-toggleable__label-arrow\">RandomForestClassifier</label><div class=\"sk-toggleable__content\"><pre>RandomForestClassifier(max_depth=4, n_estimators=93, random_state=1)</pre></div></div></div></div></div></div></div></div></div></div></div></div>"
      ],
      "text/plain": [
       "StackingClassifier(estimators=[('LR', LogisticRegression(C=6, random_state=1)),\n",
       "                               ('SVM', NuSVC(gamma='auto', probability=True)),\n",
       "                               ('KNN', KNeighborsClassifier()),\n",
       "                               ('GNB', GaussianNB())],\n",
       "                   final_estimator=RandomForestClassifier(max_depth=4,\n",
       "                                                          n_estimators=93,\n",
       "                                                          random_state=1))"
      ]
     },
     "execution_count": 25,
     "metadata": {},
     "output_type": "execute_result"
    }
   ],
   "source": [
    "from sklearn.ensemble import StackingClassifier\n",
    "estimators = [\n",
    "    ('LR', LogisticRegression(C= 6, penalty=  'l2', random_state=1)),\n",
    "    ('SVM', svm.NuSVC(gamma=\"auto\", probability=True)),\n",
    "    ('KNN', KNeighborsClassifier(n_neighbors=5)),\n",
    "    ('GNB', GaussianNB())\n",
    "]\n",
    "clf_stack_2= StackingClassifier(estimators=estimators, final_estimator=RandomForestClassifier(n_estimators=93,max_depth=4, random_state=1)\n",
    ")\n",
    "clf_stack_2"
   ]
  },
  {
   "cell_type": "code",
   "execution_count": 26,
   "id": "7c0f367f",
   "metadata": {},
   "outputs": [
    {
     "name": "stdout",
     "output_type": "stream",
     "text": [
      "CONFUSION MATRIX\n",
      "[[10  6]\n",
      " [ 4 28]]\n",
      "              precision    recall  f1-score   support\n",
      "\n",
      "           0       0.71      0.62      0.67        16\n",
      "           1       0.82      0.88      0.85        32\n",
      "\n",
      "    accuracy                           0.79        48\n",
      "   macro avg       0.77      0.75      0.76        48\n",
      "weighted avg       0.79      0.79      0.79        48\n",
      "\n",
      "SPECIFICITY\n",
      "[0.875 0.625]\n",
      "AUROC\n",
      "0.7734375\n"
     ]
    }
   ],
   "source": [
    "evaluation_test_scaled(clf_stack_2)"
   ]
  },
  {
   "cell_type": "code",
   "execution_count": 27,
   "id": "4863db88",
   "metadata": {},
   "outputs": [
    {
     "data": {
      "text/html": [
       "<style>#sk-container-id-5 {color: black;background-color: white;}#sk-container-id-5 pre{padding: 0;}#sk-container-id-5 div.sk-toggleable {background-color: white;}#sk-container-id-5 label.sk-toggleable__label {cursor: pointer;display: block;width: 100%;margin-bottom: 0;padding: 0.3em;box-sizing: border-box;text-align: center;}#sk-container-id-5 label.sk-toggleable__label-arrow:before {content: \"▸\";float: left;margin-right: 0.25em;color: #696969;}#sk-container-id-5 label.sk-toggleable__label-arrow:hover:before {color: black;}#sk-container-id-5 div.sk-estimator:hover label.sk-toggleable__label-arrow:before {color: black;}#sk-container-id-5 div.sk-toggleable__content {max-height: 0;max-width: 0;overflow: hidden;text-align: left;background-color: #f0f8ff;}#sk-container-id-5 div.sk-toggleable__content pre {margin: 0.2em;color: black;border-radius: 0.25em;background-color: #f0f8ff;}#sk-container-id-5 input.sk-toggleable__control:checked~div.sk-toggleable__content {max-height: 200px;max-width: 100%;overflow: auto;}#sk-container-id-5 input.sk-toggleable__control:checked~label.sk-toggleable__label-arrow:before {content: \"▾\";}#sk-container-id-5 div.sk-estimator input.sk-toggleable__control:checked~label.sk-toggleable__label {background-color: #d4ebff;}#sk-container-id-5 div.sk-label input.sk-toggleable__control:checked~label.sk-toggleable__label {background-color: #d4ebff;}#sk-container-id-5 input.sk-hidden--visually {border: 0;clip: rect(1px 1px 1px 1px);clip: rect(1px, 1px, 1px, 1px);height: 1px;margin: -1px;overflow: hidden;padding: 0;position: absolute;width: 1px;}#sk-container-id-5 div.sk-estimator {font-family: monospace;background-color: #f0f8ff;border: 1px dotted black;border-radius: 0.25em;box-sizing: border-box;margin-bottom: 0.5em;}#sk-container-id-5 div.sk-estimator:hover {background-color: #d4ebff;}#sk-container-id-5 div.sk-parallel-item::after {content: \"\";width: 100%;border-bottom: 1px solid gray;flex-grow: 1;}#sk-container-id-5 div.sk-label:hover label.sk-toggleable__label {background-color: #d4ebff;}#sk-container-id-5 div.sk-serial::before {content: \"\";position: absolute;border-left: 1px solid gray;box-sizing: border-box;top: 0;bottom: 0;left: 50%;z-index: 0;}#sk-container-id-5 div.sk-serial {display: flex;flex-direction: column;align-items: center;background-color: white;padding-right: 0.2em;padding-left: 0.2em;position: relative;}#sk-container-id-5 div.sk-item {position: relative;z-index: 1;}#sk-container-id-5 div.sk-parallel {display: flex;align-items: stretch;justify-content: center;background-color: white;position: relative;}#sk-container-id-5 div.sk-item::before, #sk-container-id-5 div.sk-parallel-item::before {content: \"\";position: absolute;border-left: 1px solid gray;box-sizing: border-box;top: 0;bottom: 0;left: 50%;z-index: -1;}#sk-container-id-5 div.sk-parallel-item {display: flex;flex-direction: column;z-index: 1;position: relative;background-color: white;}#sk-container-id-5 div.sk-parallel-item:first-child::after {align-self: flex-end;width: 50%;}#sk-container-id-5 div.sk-parallel-item:last-child::after {align-self: flex-start;width: 50%;}#sk-container-id-5 div.sk-parallel-item:only-child::after {width: 0;}#sk-container-id-5 div.sk-dashed-wrapped {border: 1px dashed gray;margin: 0 0.4em 0.5em 0.4em;box-sizing: border-box;padding-bottom: 0.4em;background-color: white;}#sk-container-id-5 div.sk-label label {font-family: monospace;font-weight: bold;display: inline-block;line-height: 1.2em;}#sk-container-id-5 div.sk-label-container {text-align: center;}#sk-container-id-5 div.sk-container {/* jupyter's `normalize.less` sets `[hidden] { display: none; }` but bootstrap.min.css set `[hidden] { display: none !important; }` so we also need the `!important` here to be able to override the default hidden behavior on the sphinx rendered scikit-learn.org. See: https://github.com/scikit-learn/scikit-learn/issues/21755 */display: inline-block !important;position: relative;}#sk-container-id-5 div.sk-text-repr-fallback {display: none;}</style><div id=\"sk-container-id-5\" class=\"sk-top-container\"><div class=\"sk-text-repr-fallback\"><pre>StackingClassifier(estimators=[(&#x27;LR&#x27;, LogisticRegression(C=6, random_state=1)),\n",
       "                               (&#x27;SVM&#x27;, NuSVC(gamma=&#x27;auto&#x27;, probability=True)),\n",
       "                               (&#x27;KNN&#x27;, KNeighborsClassifier()),\n",
       "                               (&#x27;GBC&#x27;,\n",
       "                                GradientBoostingClassifier(max_depth=5,\n",
       "                                                           n_estimators=499,\n",
       "                                                           random_state=1))],\n",
       "                   final_estimator=RandomForestClassifier(max_depth=4,\n",
       "                                                          n_estimators=93,\n",
       "                                                          random_state=1))</pre><b>In a Jupyter environment, please rerun this cell to show the HTML representation or trust the notebook. <br />On GitHub, the HTML representation is unable to render, please try loading this page with nbviewer.org.</b></div><div class=\"sk-container\" hidden><div class=\"sk-item sk-dashed-wrapped\"><div class=\"sk-label-container\"><div class=\"sk-label sk-toggleable\"><input class=\"sk-toggleable__control sk-hidden--visually\" id=\"sk-estimator-id-23\" type=\"checkbox\" ><label for=\"sk-estimator-id-23\" class=\"sk-toggleable__label sk-toggleable__label-arrow\">StackingClassifier</label><div class=\"sk-toggleable__content\"><pre>StackingClassifier(estimators=[(&#x27;LR&#x27;, LogisticRegression(C=6, random_state=1)),\n",
       "                               (&#x27;SVM&#x27;, NuSVC(gamma=&#x27;auto&#x27;, probability=True)),\n",
       "                               (&#x27;KNN&#x27;, KNeighborsClassifier()),\n",
       "                               (&#x27;GBC&#x27;,\n",
       "                                GradientBoostingClassifier(max_depth=5,\n",
       "                                                           n_estimators=499,\n",
       "                                                           random_state=1))],\n",
       "                   final_estimator=RandomForestClassifier(max_depth=4,\n",
       "                                                          n_estimators=93,\n",
       "                                                          random_state=1))</pre></div></div></div><div class=\"sk-serial\"><div class=\"sk-item\"><div class=\"sk-parallel\"><div class=\"sk-parallel-item\"><div class=\"sk-item\"><div class=\"sk-label-container\"><div class=\"sk-label sk-toggleable\"><label>LR</label></div></div><div class=\"sk-serial\"><div class=\"sk-item\"><div class=\"sk-estimator sk-toggleable\"><input class=\"sk-toggleable__control sk-hidden--visually\" id=\"sk-estimator-id-24\" type=\"checkbox\" ><label for=\"sk-estimator-id-24\" class=\"sk-toggleable__label sk-toggleable__label-arrow\">LogisticRegression</label><div class=\"sk-toggleable__content\"><pre>LogisticRegression(C=6, random_state=1)</pre></div></div></div></div></div></div><div class=\"sk-parallel-item\"><div class=\"sk-item\"><div class=\"sk-label-container\"><div class=\"sk-label sk-toggleable\"><label>SVM</label></div></div><div class=\"sk-serial\"><div class=\"sk-item\"><div class=\"sk-estimator sk-toggleable\"><input class=\"sk-toggleable__control sk-hidden--visually\" id=\"sk-estimator-id-25\" type=\"checkbox\" ><label for=\"sk-estimator-id-25\" class=\"sk-toggleable__label sk-toggleable__label-arrow\">NuSVC</label><div class=\"sk-toggleable__content\"><pre>NuSVC(gamma=&#x27;auto&#x27;, probability=True)</pre></div></div></div></div></div></div><div class=\"sk-parallel-item\"><div class=\"sk-item\"><div class=\"sk-label-container\"><div class=\"sk-label sk-toggleable\"><label>KNN</label></div></div><div class=\"sk-serial\"><div class=\"sk-item\"><div class=\"sk-estimator sk-toggleable\"><input class=\"sk-toggleable__control sk-hidden--visually\" id=\"sk-estimator-id-26\" type=\"checkbox\" ><label for=\"sk-estimator-id-26\" class=\"sk-toggleable__label sk-toggleable__label-arrow\">KNeighborsClassifier</label><div class=\"sk-toggleable__content\"><pre>KNeighborsClassifier()</pre></div></div></div></div></div></div><div class=\"sk-parallel-item\"><div class=\"sk-item\"><div class=\"sk-label-container\"><div class=\"sk-label sk-toggleable\"><label>GBC</label></div></div><div class=\"sk-serial\"><div class=\"sk-item\"><div class=\"sk-estimator sk-toggleable\"><input class=\"sk-toggleable__control sk-hidden--visually\" id=\"sk-estimator-id-27\" type=\"checkbox\" ><label for=\"sk-estimator-id-27\" class=\"sk-toggleable__label sk-toggleable__label-arrow\">GradientBoostingClassifier</label><div class=\"sk-toggleable__content\"><pre>GradientBoostingClassifier(max_depth=5, n_estimators=499, random_state=1)</pre></div></div></div></div></div></div></div></div><div class=\"sk-item\"><div class=\"sk-parallel\"><div class=\"sk-parallel-item\"><div class=\"sk-item\"><div class=\"sk-label-container\"><div class=\"sk-label sk-toggleable\"><label>final_estimator</label></div></div><div class=\"sk-serial\"><div class=\"sk-item\"><div class=\"sk-estimator sk-toggleable\"><input class=\"sk-toggleable__control sk-hidden--visually\" id=\"sk-estimator-id-28\" type=\"checkbox\" ><label for=\"sk-estimator-id-28\" class=\"sk-toggleable__label sk-toggleable__label-arrow\">RandomForestClassifier</label><div class=\"sk-toggleable__content\"><pre>RandomForestClassifier(max_depth=4, n_estimators=93, random_state=1)</pre></div></div></div></div></div></div></div></div></div></div></div></div>"
      ],
      "text/plain": [
       "StackingClassifier(estimators=[('LR', LogisticRegression(C=6, random_state=1)),\n",
       "                               ('SVM', NuSVC(gamma='auto', probability=True)),\n",
       "                               ('KNN', KNeighborsClassifier()),\n",
       "                               ('GBC',\n",
       "                                GradientBoostingClassifier(max_depth=5,\n",
       "                                                           n_estimators=499,\n",
       "                                                           random_state=1))],\n",
       "                   final_estimator=RandomForestClassifier(max_depth=4,\n",
       "                                                          n_estimators=93,\n",
       "                                                          random_state=1))"
      ]
     },
     "execution_count": 27,
     "metadata": {},
     "output_type": "execute_result"
    }
   ],
   "source": [
    "from sklearn.ensemble import StackingClassifier\n",
    "estimators = [\n",
    "    ('LR', LogisticRegression(C= 6, penalty=  'l2', random_state=1)),\n",
    "    ('SVM', svm.NuSVC(gamma=\"auto\", probability=True)),\n",
    "    ('KNN', KNeighborsClassifier(n_neighbors=5)),\n",
    "    ('GBC', GradientBoostingClassifier(n_estimators=499,max_depth=5, random_state=1)),\n",
    "]\n",
    "clf_stack_3= StackingClassifier(estimators=estimators, final_estimator=RandomForestClassifier(n_estimators=93,max_depth=4, random_state=1)\n",
    ")\n",
    "clf_stack_3"
   ]
  },
  {
   "cell_type": "code",
   "execution_count": 28,
   "id": "094dbca6",
   "metadata": {},
   "outputs": [
    {
     "name": "stdout",
     "output_type": "stream",
     "text": [
      "CONFUSION MATRIX\n",
      "[[ 7  9]\n",
      " [ 8 24]]\n",
      "              precision    recall  f1-score   support\n",
      "\n",
      "           0       0.47      0.44      0.45        16\n",
      "           1       0.73      0.75      0.74        32\n",
      "\n",
      "    accuracy                           0.65        48\n",
      "   macro avg       0.60      0.59      0.60        48\n",
      "weighted avg       0.64      0.65      0.64        48\n",
      "\n",
      "SPECIFICITY\n",
      "[0.75   0.4375]\n",
      "AUROC\n",
      "0.6953125\n"
     ]
    }
   ],
   "source": [
    "evaluation_test_scaled(clf_stack_3)"
   ]
  },
  {
   "cell_type": "code",
   "execution_count": 194,
   "id": "613e408c",
   "metadata": {},
   "outputs": [
    {
     "name": "stdout",
     "output_type": "stream",
     "text": [
      "score folds F1\n",
      "[0.84615385 0.74074074 0.76923077 0.78571429 0.88888889 0.84615385\n",
      " 0.45454545 0.83333333 0.84615385 0.8       ]\n",
      "Mean CV F1 0.781\n",
      "standard deviation CV F1 0.117\n",
      "####################################################################\n",
      "score folds AUC\n",
      "[0.8021978  0.53846154 0.61538462 0.67948718 0.94871795 0.74358974\n",
      " 0.40384615 0.88095238 0.79761905 0.72619048]\n",
      "Mean CV AUC 0.714\n",
      "standard deviation CV AUC 0.154\n"
     ]
    }
   ],
   "source": [
    "# Gradient stack CV\n",
    "cross_validation =10\n",
    "# Gradient Boosting CV\n",
    "cross_validation =10\n",
    "score_f1 = cross_val_score(clf_stack , X_train_scaled, y_train, cv=cross_validation, scoring =\"f1\")\n",
    "score_auc = cross_val_score(clf_stack , X_train_scaled, y_train, cv=cross_validation, scoring =\"roc_auc\")\n",
    "print('score folds F1')\n",
    "print(score_f1)\n",
    "print('Mean CV F1', '{:.3f}'.format(score_f1.mean()))\n",
    "print('standard deviation CV F1', '{:.3f}'.format(np.std(score_f1)))\n",
    "print('####################################################################')\n",
    "\n",
    "print('score folds AUC')\n",
    "print(score_auc)\n",
    "print('Mean CV AUC', '{:.3f}'.format(score_auc.mean()))\n",
    "print('standard deviation CV AUC', '{:.3f}'.format(np.std(score_auc)))"
   ]
  },
  {
   "cell_type": "code",
   "execution_count": 178,
   "id": "9754a264",
   "metadata": {},
   "outputs": [
    {
     "name": "stdout",
     "output_type": "stream",
     "text": [
      "CONFUSION MATRIX\n",
      "[[ 8  6]\n",
      " [ 2 32]]\n",
      "              precision    recall  f1-score   support\n",
      "\n",
      "           0       0.80      0.57      0.67        14\n",
      "           1       0.84      0.94      0.89        34\n",
      "\n",
      "    accuracy                           0.83        48\n",
      "   macro avg       0.82      0.76      0.78        48\n",
      "weighted avg       0.83      0.83      0.82        48\n",
      "\n",
      "SPECIFICITY\n",
      "[0.94117647 0.57142857]\n",
      "AUROC\n",
      "0.907563025210084\n"
     ]
    }
   ],
   "source": [
    "evaluation_test_scaled(clf_stack )"
   ]
  },
  {
   "cell_type": "code",
   "execution_count": null,
   "id": "8e25e948",
   "metadata": {},
   "outputs": [],
   "source": []
  },
  {
   "cell_type": "code",
   "execution_count": 180,
   "id": "2c0a664b",
   "metadata": {},
   "outputs": [
    {
     "data": {
      "text/html": [
       "<style>#sk-container-id-4 {color: black;background-color: white;}#sk-container-id-4 pre{padding: 0;}#sk-container-id-4 div.sk-toggleable {background-color: white;}#sk-container-id-4 label.sk-toggleable__label {cursor: pointer;display: block;width: 100%;margin-bottom: 0;padding: 0.3em;box-sizing: border-box;text-align: center;}#sk-container-id-4 label.sk-toggleable__label-arrow:before {content: \"▸\";float: left;margin-right: 0.25em;color: #696969;}#sk-container-id-4 label.sk-toggleable__label-arrow:hover:before {color: black;}#sk-container-id-4 div.sk-estimator:hover label.sk-toggleable__label-arrow:before {color: black;}#sk-container-id-4 div.sk-toggleable__content {max-height: 0;max-width: 0;overflow: hidden;text-align: left;background-color: #f0f8ff;}#sk-container-id-4 div.sk-toggleable__content pre {margin: 0.2em;color: black;border-radius: 0.25em;background-color: #f0f8ff;}#sk-container-id-4 input.sk-toggleable__control:checked~div.sk-toggleable__content {max-height: 200px;max-width: 100%;overflow: auto;}#sk-container-id-4 input.sk-toggleable__control:checked~label.sk-toggleable__label-arrow:before {content: \"▾\";}#sk-container-id-4 div.sk-estimator input.sk-toggleable__control:checked~label.sk-toggleable__label {background-color: #d4ebff;}#sk-container-id-4 div.sk-label input.sk-toggleable__control:checked~label.sk-toggleable__label {background-color: #d4ebff;}#sk-container-id-4 input.sk-hidden--visually {border: 0;clip: rect(1px 1px 1px 1px);clip: rect(1px, 1px, 1px, 1px);height: 1px;margin: -1px;overflow: hidden;padding: 0;position: absolute;width: 1px;}#sk-container-id-4 div.sk-estimator {font-family: monospace;background-color: #f0f8ff;border: 1px dotted black;border-radius: 0.25em;box-sizing: border-box;margin-bottom: 0.5em;}#sk-container-id-4 div.sk-estimator:hover {background-color: #d4ebff;}#sk-container-id-4 div.sk-parallel-item::after {content: \"\";width: 100%;border-bottom: 1px solid gray;flex-grow: 1;}#sk-container-id-4 div.sk-label:hover label.sk-toggleable__label {background-color: #d4ebff;}#sk-container-id-4 div.sk-serial::before {content: \"\";position: absolute;border-left: 1px solid gray;box-sizing: border-box;top: 0;bottom: 0;left: 50%;z-index: 0;}#sk-container-id-4 div.sk-serial {display: flex;flex-direction: column;align-items: center;background-color: white;padding-right: 0.2em;padding-left: 0.2em;position: relative;}#sk-container-id-4 div.sk-item {position: relative;z-index: 1;}#sk-container-id-4 div.sk-parallel {display: flex;align-items: stretch;justify-content: center;background-color: white;position: relative;}#sk-container-id-4 div.sk-item::before, #sk-container-id-4 div.sk-parallel-item::before {content: \"\";position: absolute;border-left: 1px solid gray;box-sizing: border-box;top: 0;bottom: 0;left: 50%;z-index: -1;}#sk-container-id-4 div.sk-parallel-item {display: flex;flex-direction: column;z-index: 1;position: relative;background-color: white;}#sk-container-id-4 div.sk-parallel-item:first-child::after {align-self: flex-end;width: 50%;}#sk-container-id-4 div.sk-parallel-item:last-child::after {align-self: flex-start;width: 50%;}#sk-container-id-4 div.sk-parallel-item:only-child::after {width: 0;}#sk-container-id-4 div.sk-dashed-wrapped {border: 1px dashed gray;margin: 0 0.4em 0.5em 0.4em;box-sizing: border-box;padding-bottom: 0.4em;background-color: white;}#sk-container-id-4 div.sk-label label {font-family: monospace;font-weight: bold;display: inline-block;line-height: 1.2em;}#sk-container-id-4 div.sk-label-container {text-align: center;}#sk-container-id-4 div.sk-container {/* jupyter's `normalize.less` sets `[hidden] { display: none; }` but bootstrap.min.css set `[hidden] { display: none !important; }` so we also need the `!important` here to be able to override the default hidden behavior on the sphinx rendered scikit-learn.org. See: https://github.com/scikit-learn/scikit-learn/issues/21755 */display: inline-block !important;position: relative;}#sk-container-id-4 div.sk-text-repr-fallback {display: none;}</style><div id=\"sk-container-id-4\" class=\"sk-top-container\"><div class=\"sk-text-repr-fallback\"><pre>StackingClassifier(estimators=[(&#x27;KNN&#x27;, KNeighborsClassifier(n_neighbors=7)),\n",
       "                               (&#x27;GBC&#x27;,\n",
       "                                GradientBoostingClassifier(max_depth=2,\n",
       "                                                           n_estimators=225,\n",
       "                                                           random_state=1))],\n",
       "                   final_estimator=RandomForestClassifier(max_depth=7,\n",
       "                                                          n_estimators=84,\n",
       "                                                          random_state=1))</pre><b>In a Jupyter environment, please rerun this cell to show the HTML representation or trust the notebook. <br />On GitHub, the HTML representation is unable to render, please try loading this page with nbviewer.org.</b></div><div class=\"sk-container\" hidden><div class=\"sk-item sk-dashed-wrapped\"><div class=\"sk-label-container\"><div class=\"sk-label sk-toggleable\"><input class=\"sk-toggleable__control sk-hidden--visually\" id=\"sk-estimator-id-13\" type=\"checkbox\" ><label for=\"sk-estimator-id-13\" class=\"sk-toggleable__label sk-toggleable__label-arrow\">StackingClassifier</label><div class=\"sk-toggleable__content\"><pre>StackingClassifier(estimators=[(&#x27;KNN&#x27;, KNeighborsClassifier(n_neighbors=7)),\n",
       "                               (&#x27;GBC&#x27;,\n",
       "                                GradientBoostingClassifier(max_depth=2,\n",
       "                                                           n_estimators=225,\n",
       "                                                           random_state=1))],\n",
       "                   final_estimator=RandomForestClassifier(max_depth=7,\n",
       "                                                          n_estimators=84,\n",
       "                                                          random_state=1))</pre></div></div></div><div class=\"sk-serial\"><div class=\"sk-item\"><div class=\"sk-parallel\"><div class=\"sk-parallel-item\"><div class=\"sk-item\"><div class=\"sk-label-container\"><div class=\"sk-label sk-toggleable\"><label>KNN</label></div></div><div class=\"sk-serial\"><div class=\"sk-item\"><div class=\"sk-estimator sk-toggleable\"><input class=\"sk-toggleable__control sk-hidden--visually\" id=\"sk-estimator-id-14\" type=\"checkbox\" ><label for=\"sk-estimator-id-14\" class=\"sk-toggleable__label sk-toggleable__label-arrow\">KNeighborsClassifier</label><div class=\"sk-toggleable__content\"><pre>KNeighborsClassifier(n_neighbors=7)</pre></div></div></div></div></div></div><div class=\"sk-parallel-item\"><div class=\"sk-item\"><div class=\"sk-label-container\"><div class=\"sk-label sk-toggleable\"><label>GBC</label></div></div><div class=\"sk-serial\"><div class=\"sk-item\"><div class=\"sk-estimator sk-toggleable\"><input class=\"sk-toggleable__control sk-hidden--visually\" id=\"sk-estimator-id-15\" type=\"checkbox\" ><label for=\"sk-estimator-id-15\" class=\"sk-toggleable__label sk-toggleable__label-arrow\">GradientBoostingClassifier</label><div class=\"sk-toggleable__content\"><pre>GradientBoostingClassifier(max_depth=2, n_estimators=225, random_state=1)</pre></div></div></div></div></div></div></div></div><div class=\"sk-item\"><div class=\"sk-parallel\"><div class=\"sk-parallel-item\"><div class=\"sk-item\"><div class=\"sk-label-container\"><div class=\"sk-label sk-toggleable\"><label>final_estimator</label></div></div><div class=\"sk-serial\"><div class=\"sk-item\"><div class=\"sk-estimator sk-toggleable\"><input class=\"sk-toggleable__control sk-hidden--visually\" id=\"sk-estimator-id-16\" type=\"checkbox\" ><label for=\"sk-estimator-id-16\" class=\"sk-toggleable__label sk-toggleable__label-arrow\">RandomForestClassifier</label><div class=\"sk-toggleable__content\"><pre>RandomForestClassifier(max_depth=7, n_estimators=84, random_state=1)</pre></div></div></div></div></div></div></div></div></div></div></div></div>"
      ],
      "text/plain": [
       "StackingClassifier(estimators=[('KNN', KNeighborsClassifier(n_neighbors=7)),\n",
       "                               ('GBC',\n",
       "                                GradientBoostingClassifier(max_depth=2,\n",
       "                                                           n_estimators=225,\n",
       "                                                           random_state=1))],\n",
       "                   final_estimator=RandomForestClassifier(max_depth=7,\n",
       "                                                          n_estimators=84,\n",
       "                                                          random_state=1))"
      ]
     },
     "execution_count": 180,
     "metadata": {},
     "output_type": "execute_result"
    }
   ],
   "source": [
    "from sklearn.ensemble import StackingClassifier\n",
    "estimators = [\n",
    "    ('KNN', KNeighborsClassifier(n_neighbors=7)),\n",
    "    ('GBC', LogisticRegression())\n",
    "]\n",
    "clf_stack_1 = StackingClassifier(\n",
    "    estimators=estimators, final_estimator=RandomForestClassifier(n_estimators=84,max_depth=7, random_state=1)\n",
    ")\n",
    "clf_stack_1 "
   ]
  },
  {
   "cell_type": "code",
   "execution_count": 181,
   "id": "f38ee27f",
   "metadata": {},
   "outputs": [
    {
     "name": "stdout",
     "output_type": "stream",
     "text": [
      "CONFUSION MATRIX\n",
      "[[ 6  8]\n",
      " [ 2 32]]\n",
      "              precision    recall  f1-score   support\n",
      "\n",
      "           0       0.75      0.43      0.55        14\n",
      "           1       0.80      0.94      0.86        34\n",
      "\n",
      "    accuracy                           0.79        48\n",
      "   macro avg       0.78      0.68      0.71        48\n",
      "weighted avg       0.79      0.79      0.77        48\n",
      "\n",
      "SPECIFICITY\n",
      "[0.94117647 0.42857143]\n",
      "AUROC\n",
      "0.8130252100840336\n"
     ]
    }
   ],
   "source": [
    "evaluation_test_scaled(clf_stack_1)"
   ]
  },
  {
   "cell_type": "code",
   "execution_count": 190,
   "id": "46487f86",
   "metadata": {},
   "outputs": [
    {
     "data": {
      "text/html": [
       "<style>#sk-container-id-5 {color: black;background-color: white;}#sk-container-id-5 pre{padding: 0;}#sk-container-id-5 div.sk-toggleable {background-color: white;}#sk-container-id-5 label.sk-toggleable__label {cursor: pointer;display: block;width: 100%;margin-bottom: 0;padding: 0.3em;box-sizing: border-box;text-align: center;}#sk-container-id-5 label.sk-toggleable__label-arrow:before {content: \"▸\";float: left;margin-right: 0.25em;color: #696969;}#sk-container-id-5 label.sk-toggleable__label-arrow:hover:before {color: black;}#sk-container-id-5 div.sk-estimator:hover label.sk-toggleable__label-arrow:before {color: black;}#sk-container-id-5 div.sk-toggleable__content {max-height: 0;max-width: 0;overflow: hidden;text-align: left;background-color: #f0f8ff;}#sk-container-id-5 div.sk-toggleable__content pre {margin: 0.2em;color: black;border-radius: 0.25em;background-color: #f0f8ff;}#sk-container-id-5 input.sk-toggleable__control:checked~div.sk-toggleable__content {max-height: 200px;max-width: 100%;overflow: auto;}#sk-container-id-5 input.sk-toggleable__control:checked~label.sk-toggleable__label-arrow:before {content: \"▾\";}#sk-container-id-5 div.sk-estimator input.sk-toggleable__control:checked~label.sk-toggleable__label {background-color: #d4ebff;}#sk-container-id-5 div.sk-label input.sk-toggleable__control:checked~label.sk-toggleable__label {background-color: #d4ebff;}#sk-container-id-5 input.sk-hidden--visually {border: 0;clip: rect(1px 1px 1px 1px);clip: rect(1px, 1px, 1px, 1px);height: 1px;margin: -1px;overflow: hidden;padding: 0;position: absolute;width: 1px;}#sk-container-id-5 div.sk-estimator {font-family: monospace;background-color: #f0f8ff;border: 1px dotted black;border-radius: 0.25em;box-sizing: border-box;margin-bottom: 0.5em;}#sk-container-id-5 div.sk-estimator:hover {background-color: #d4ebff;}#sk-container-id-5 div.sk-parallel-item::after {content: \"\";width: 100%;border-bottom: 1px solid gray;flex-grow: 1;}#sk-container-id-5 div.sk-label:hover label.sk-toggleable__label {background-color: #d4ebff;}#sk-container-id-5 div.sk-serial::before {content: \"\";position: absolute;border-left: 1px solid gray;box-sizing: border-box;top: 0;bottom: 0;left: 50%;z-index: 0;}#sk-container-id-5 div.sk-serial {display: flex;flex-direction: column;align-items: center;background-color: white;padding-right: 0.2em;padding-left: 0.2em;position: relative;}#sk-container-id-5 div.sk-item {position: relative;z-index: 1;}#sk-container-id-5 div.sk-parallel {display: flex;align-items: stretch;justify-content: center;background-color: white;position: relative;}#sk-container-id-5 div.sk-item::before, #sk-container-id-5 div.sk-parallel-item::before {content: \"\";position: absolute;border-left: 1px solid gray;box-sizing: border-box;top: 0;bottom: 0;left: 50%;z-index: -1;}#sk-container-id-5 div.sk-parallel-item {display: flex;flex-direction: column;z-index: 1;position: relative;background-color: white;}#sk-container-id-5 div.sk-parallel-item:first-child::after {align-self: flex-end;width: 50%;}#sk-container-id-5 div.sk-parallel-item:last-child::after {align-self: flex-start;width: 50%;}#sk-container-id-5 div.sk-parallel-item:only-child::after {width: 0;}#sk-container-id-5 div.sk-dashed-wrapped {border: 1px dashed gray;margin: 0 0.4em 0.5em 0.4em;box-sizing: border-box;padding-bottom: 0.4em;background-color: white;}#sk-container-id-5 div.sk-label label {font-family: monospace;font-weight: bold;display: inline-block;line-height: 1.2em;}#sk-container-id-5 div.sk-label-container {text-align: center;}#sk-container-id-5 div.sk-container {/* jupyter's `normalize.less` sets `[hidden] { display: none; }` but bootstrap.min.css set `[hidden] { display: none !important; }` so we also need the `!important` here to be able to override the default hidden behavior on the sphinx rendered scikit-learn.org. See: https://github.com/scikit-learn/scikit-learn/issues/21755 */display: inline-block !important;position: relative;}#sk-container-id-5 div.sk-text-repr-fallback {display: none;}</style><div id=\"sk-container-id-5\" class=\"sk-top-container\"><div class=\"sk-text-repr-fallback\"><pre>StackingClassifier(estimators=[(&#x27;KNN&#x27;, KNeighborsClassifier(n_neighbors=7)),\n",
       "                               (&#x27;GBC&#x27;,\n",
       "                                GradientBoostingClassifier(max_depth=2,\n",
       "                                                           n_estimators=225,\n",
       "                                                           random_state=1)),\n",
       "                               (&#x27;LDA&#x27;, LinearDiscriminantAnalysis())],\n",
       "                   final_estimator=RandomForestClassifier(max_depth=7,\n",
       "                                                          n_estimators=84,\n",
       "                                                          random_state=1))</pre><b>In a Jupyter environment, please rerun this cell to show the HTML representation or trust the notebook. <br />On GitHub, the HTML representation is unable to render, please try loading this page with nbviewer.org.</b></div><div class=\"sk-container\" hidden><div class=\"sk-item sk-dashed-wrapped\"><div class=\"sk-label-container\"><div class=\"sk-label sk-toggleable\"><input class=\"sk-toggleable__control sk-hidden--visually\" id=\"sk-estimator-id-17\" type=\"checkbox\" ><label for=\"sk-estimator-id-17\" class=\"sk-toggleable__label sk-toggleable__label-arrow\">StackingClassifier</label><div class=\"sk-toggleable__content\"><pre>StackingClassifier(estimators=[(&#x27;KNN&#x27;, KNeighborsClassifier(n_neighbors=7)),\n",
       "                               (&#x27;GBC&#x27;,\n",
       "                                GradientBoostingClassifier(max_depth=2,\n",
       "                                                           n_estimators=225,\n",
       "                                                           random_state=1)),\n",
       "                               (&#x27;LDA&#x27;, LinearDiscriminantAnalysis())],\n",
       "                   final_estimator=RandomForestClassifier(max_depth=7,\n",
       "                                                          n_estimators=84,\n",
       "                                                          random_state=1))</pre></div></div></div><div class=\"sk-serial\"><div class=\"sk-item\"><div class=\"sk-parallel\"><div class=\"sk-parallel-item\"><div class=\"sk-item\"><div class=\"sk-label-container\"><div class=\"sk-label sk-toggleable\"><label>KNN</label></div></div><div class=\"sk-serial\"><div class=\"sk-item\"><div class=\"sk-estimator sk-toggleable\"><input class=\"sk-toggleable__control sk-hidden--visually\" id=\"sk-estimator-id-18\" type=\"checkbox\" ><label for=\"sk-estimator-id-18\" class=\"sk-toggleable__label sk-toggleable__label-arrow\">KNeighborsClassifier</label><div class=\"sk-toggleable__content\"><pre>KNeighborsClassifier(n_neighbors=7)</pre></div></div></div></div></div></div><div class=\"sk-parallel-item\"><div class=\"sk-item\"><div class=\"sk-label-container\"><div class=\"sk-label sk-toggleable\"><label>GBC</label></div></div><div class=\"sk-serial\"><div class=\"sk-item\"><div class=\"sk-estimator sk-toggleable\"><input class=\"sk-toggleable__control sk-hidden--visually\" id=\"sk-estimator-id-19\" type=\"checkbox\" ><label for=\"sk-estimator-id-19\" class=\"sk-toggleable__label sk-toggleable__label-arrow\">GradientBoostingClassifier</label><div class=\"sk-toggleable__content\"><pre>GradientBoostingClassifier(max_depth=2, n_estimators=225, random_state=1)</pre></div></div></div></div></div></div><div class=\"sk-parallel-item\"><div class=\"sk-item\"><div class=\"sk-label-container\"><div class=\"sk-label sk-toggleable\"><label>LDA</label></div></div><div class=\"sk-serial\"><div class=\"sk-item\"><div class=\"sk-estimator sk-toggleable\"><input class=\"sk-toggleable__control sk-hidden--visually\" id=\"sk-estimator-id-20\" type=\"checkbox\" ><label for=\"sk-estimator-id-20\" class=\"sk-toggleable__label sk-toggleable__label-arrow\">LinearDiscriminantAnalysis</label><div class=\"sk-toggleable__content\"><pre>LinearDiscriminantAnalysis()</pre></div></div></div></div></div></div></div></div><div class=\"sk-item\"><div class=\"sk-parallel\"><div class=\"sk-parallel-item\"><div class=\"sk-item\"><div class=\"sk-label-container\"><div class=\"sk-label sk-toggleable\"><label>final_estimator</label></div></div><div class=\"sk-serial\"><div class=\"sk-item\"><div class=\"sk-estimator sk-toggleable\"><input class=\"sk-toggleable__control sk-hidden--visually\" id=\"sk-estimator-id-21\" type=\"checkbox\" ><label for=\"sk-estimator-id-21\" class=\"sk-toggleable__label sk-toggleable__label-arrow\">RandomForestClassifier</label><div class=\"sk-toggleable__content\"><pre>RandomForestClassifier(max_depth=7, n_estimators=84, random_state=1)</pre></div></div></div></div></div></div></div></div></div></div></div></div>"
      ],
      "text/plain": [
       "StackingClassifier(estimators=[('KNN', KNeighborsClassifier(n_neighbors=7)),\n",
       "                               ('GBC',\n",
       "                                GradientBoostingClassifier(max_depth=2,\n",
       "                                                           n_estimators=225,\n",
       "                                                           random_state=1)),\n",
       "                               ('LDA', LinearDiscriminantAnalysis())],\n",
       "                   final_estimator=RandomForestClassifier(max_depth=7,\n",
       "                                                          n_estimators=84,\n",
       "                                                          random_state=1))"
      ]
     },
     "execution_count": 190,
     "metadata": {},
     "output_type": "execute_result"
    }
   ],
   "source": [
    "from sklearn.ensemble import StackingClassifier\n",
    "estimators = [\n",
    "    ('KNN', KNeighborsClassifier(n_neighbors=7)),\n",
    "    ('GBC', GradientBoostingClassifier(n_estimators=225,max_depth=2, random_state=1)), \n",
    "    ('LDA', LinearDiscriminantAnalysis())\n",
    "]\n",
    "clf_stack_2 = StackingClassifier(\n",
    "    estimators=estimators, final_estimator=RandomForestClassifier(n_estimators=84,max_depth=7, random_state=1)\n",
    ")\n",
    "clf_stack_2"
   ]
  },
  {
   "cell_type": "code",
   "execution_count": 192,
   "id": "b1679ee1",
   "metadata": {},
   "outputs": [
    {
     "name": "stdout",
     "output_type": "stream",
     "text": [
      "CONFUSION MATRIX\n",
      "[[ 7  7]\n",
      " [ 4 30]]\n",
      "              precision    recall  f1-score   support\n",
      "\n",
      "           0       0.64      0.50      0.56        14\n",
      "           1       0.81      0.88      0.85        34\n",
      "\n",
      "    accuracy                           0.77        48\n",
      "   macro avg       0.72      0.69      0.70        48\n",
      "weighted avg       0.76      0.77      0.76        48\n",
      "\n",
      "SPECIFICITY\n",
      "[0.88235294 0.5       ]\n",
      "AUROC\n",
      "0.8382352941176471\n"
     ]
    }
   ],
   "source": [
    "evaluation_test_scaled(clf_stack_2)"
   ]
  },
  {
   "cell_type": "code",
   "execution_count": 126,
   "id": "c066d5d6",
   "metadata": {},
   "outputs": [
    {
     "name": "stdout",
     "output_type": "stream",
     "text": [
      "CONFUSION MATRIX\n",
      "[[ 7  7]\n",
      " [ 3 31]]\n",
      "              precision    recall  f1-score   support\n",
      "\n",
      "           0       0.70      0.50      0.58        14\n",
      "           1       0.82      0.91      0.86        34\n",
      "\n",
      "    accuracy                           0.79        48\n",
      "   macro avg       0.76      0.71      0.72        48\n",
      "weighted avg       0.78      0.79      0.78        48\n",
      "\n",
      "SPECIFICITY\n",
      "[0.91176471 0.5       ]\n",
      "AUROC\n",
      "0.8340336134453782\n"
     ]
    }
   ],
   "source": [
    "# Evaluation logistic regression on test set\n",
    "evaluation_test_scaled((LogisticRegression(C= 1.75034884505077, penalty=  'l2', random_state=1)))"
   ]
  },
  {
   "cell_type": "code",
   "execution_count": 136,
   "id": "199c29ca",
   "metadata": {},
   "outputs": [
    {
     "name": "stdout",
     "output_type": "stream",
     "text": [
      "CONFUSION MATRIX\n",
      "[[ 7  7]\n",
      " [ 4 30]]\n",
      "              precision    recall  f1-score   support\n",
      "\n",
      "           0       0.64      0.50      0.56        14\n",
      "           1       0.81      0.88      0.85        34\n",
      "\n",
      "    accuracy                           0.77        48\n",
      "   macro avg       0.72      0.69      0.70        48\n",
      "weighted avg       0.76      0.77      0.76        48\n",
      "\n",
      "SPECIFICITY\n",
      "[0.88235294 0.5       ]\n",
      "AUROC\n",
      "0.819327731092437\n"
     ]
    },
    {
     "name": "stderr",
     "output_type": "stream",
     "text": [
      "C:\\Users\\DDD\\anaconda3\\lib\\site-packages\\sklearn\\linear_model\\_logistic.py:444: ConvergenceWarning: lbfgs failed to converge (status=1):\n",
      "STOP: TOTAL NO. of ITERATIONS REACHED LIMIT.\n",
      "\n",
      "Increase the number of iterations (max_iter) or scale the data as shown in:\n",
      "    https://scikit-learn.org/stable/modules/preprocessing.html\n",
      "Please also refer to the documentation for alternative solver options:\n",
      "    https://scikit-learn.org/stable/modules/linear_model.html#logistic-regression\n",
      "  n_iter_i = _check_optimize_result(\n"
     ]
    }
   ],
   "source": [
    "evaluation_test_original((LogisticRegression(C= 1.75034884505077, penalty=  'l2', random_state=1)))"
   ]
  },
  {
   "cell_type": "code",
   "execution_count": 128,
   "id": "080d59e8",
   "metadata": {},
   "outputs": [
    {
     "name": "stdout",
     "output_type": "stream",
     "text": [
      "CONFUSION MATRIX\n",
      "[[ 5  9]\n",
      " [ 3 31]]\n",
      "              precision    recall  f1-score   support\n",
      "\n",
      "           0       0.62      0.36      0.45        14\n",
      "           1       0.78      0.91      0.84        34\n",
      "\n",
      "    accuracy                           0.75        48\n",
      "   macro avg       0.70      0.63      0.65        48\n",
      "weighted avg       0.73      0.75      0.73        48\n",
      "\n",
      "SPECIFICITY\n",
      "[0.91176471 0.35714286]\n",
      "AUROC\n",
      "0.7710084033613445\n"
     ]
    }
   ],
   "source": [
    "evaluation_test_original(RandomForestClassifier(n_estimators=84,max_depth=7, random_state=1))"
   ]
  },
  {
   "cell_type": "code",
   "execution_count": 133,
   "id": "88258c7d",
   "metadata": {},
   "outputs": [
    {
     "name": "stdout",
     "output_type": "stream",
     "text": [
      "CONFUSION MATRIX\n",
      "[[ 8  6]\n",
      " [ 4 30]]\n",
      "              precision    recall  f1-score   support\n",
      "\n",
      "           0       0.67      0.57      0.62        14\n",
      "           1       0.83      0.88      0.86        34\n",
      "\n",
      "    accuracy                           0.79        48\n",
      "   macro avg       0.75      0.73      0.74        48\n",
      "weighted avg       0.78      0.79      0.79        48\n",
      "\n",
      "SPECIFICITY\n",
      "[0.88235294 0.57142857]\n",
      "AUROC\n",
      "0.8109243697478992\n"
     ]
    }
   ],
   "source": [
    "evaluation_test_original(GradientBoostingClassifier(n_estimators=225,max_depth=4, random_state=1))"
   ]
  },
  {
   "cell_type": "code",
   "execution_count": 73,
   "id": "d96b564f",
   "metadata": {},
   "outputs": [
    {
     "data": {
      "text/plain": [
       "{'mean_fit_time': array([0.00020027, 0.00039835, 0.00019135, 0.0053936 , 0.0038065 ,\n",
       "        0.0029911 , 0.00339179, 0.00398998, 0.00020027, 0.00339012]),\n",
       " 'std_fit_time': array([4.00543213e-04, 4.87878319e-04, 3.82709503e-04, 1.49533802e-03,\n",
       "        7.61895383e-04, 2.38704510e-06, 4.89753115e-04, 3.05101266e-06,\n",
       "        4.00543213e-04, 4.90235895e-04]),\n",
       " 'mean_score_time': array([0.        , 0.        , 0.        , 0.00119696, 0.00098829,\n",
       "        0.0009974 , 0.00079708, 0.00099792, 0.        , 0.00099692]),\n",
       " 'std_score_time': array([0.00000000e+00, 0.00000000e+00, 0.00000000e+00, 3.98349905e-04,\n",
       "        1.68980755e-05, 2.00385107e-06, 3.98543720e-04, 4.06459977e-06,\n",
       "        0.00000000e+00, 7.77697870e-07]),\n",
       " 'param_C': masked_array(data=[2.195254015709299, 3.3770629943240693,\n",
       "                    2.1795327319875875, 2.4942547871438894,\n",
       "                    1.75034884505077, 0.22685190926977272,\n",
       "                    1.5337660753031108, 3.2486749151019727,\n",
       "                    2.2721782443757292, 3.34431505414951],\n",
       "              mask=[False, False, False, False, False, False, False, False,\n",
       "                    False, False],\n",
       "        fill_value='?',\n",
       "             dtype=object),\n",
       " 'param_penalty': masked_array(data=['l1', 'l1', 'l1', 'l2', 'l2', 'l2', 'l2', 'l2', 'l1',\n",
       "                    'l2'],\n",
       "              mask=[False, False, False, False, False, False, False, False,\n",
       "                    False, False],\n",
       "        fill_value='?',\n",
       "             dtype=object),\n",
       " 'params': [{'C': 2.195254015709299, 'penalty': 'l1'},\n",
       "  {'C': 3.3770629943240693, 'penalty': 'l1'},\n",
       "  {'C': 2.1795327319875875, 'penalty': 'l1'},\n",
       "  {'C': 2.4942547871438894, 'penalty': 'l2'},\n",
       "  {'C': 1.75034884505077, 'penalty': 'l2'},\n",
       "  {'C': 0.22685190926977272, 'penalty': 'l2'},\n",
       "  {'C': 1.5337660753031108, 'penalty': 'l2'},\n",
       "  {'C': 3.2486749151019727, 'penalty': 'l2'},\n",
       "  {'C': 2.2721782443757292, 'penalty': 'l1'},\n",
       "  {'C': 3.34431505414951, 'penalty': 'l2'}],\n",
       " 'split0_test_score': array([       nan,        nan,        nan, 0.77514793, 0.77218935,\n",
       "        0.72485207, 0.77218935, 0.77514793,        nan, 0.77514793]),\n",
       " 'split1_test_score': array([       nan,        nan,        nan, 0.79289941, 0.79289941,\n",
       "        0.77514793, 0.79289941, 0.78994083,        nan, 0.78994083]),\n",
       " 'split2_test_score': array([       nan,        nan,        nan, 0.89538462, 0.89846154,\n",
       "        0.89846154, 0.89846154, 0.89538462,        nan, 0.89538462]),\n",
       " 'split3_test_score': array([       nan,        nan,        nan, 0.80307692, 0.80615385,\n",
       "        0.81230769, 0.80615385, 0.80615385,        nan, 0.80615385]),\n",
       " 'split4_test_score': array([       nan,        nan,        nan, 0.88307692, 0.88      ,\n",
       "        0.85230769, 0.88      , 0.88307692,        nan, 0.88307692]),\n",
       " 'mean_test_score': array([       nan,        nan,        nan, 0.82991716, 0.82994083,\n",
       "        0.81261538, 0.82994083, 0.82994083,        nan, 0.82994083]),\n",
       " 'std_test_score': array([       nan,        nan,        nan, 0.04940107, 0.04994823,\n",
       "        0.06008551, 0.04994823, 0.04954678,        nan, 0.04954678]),\n",
       " 'rank_test_score': array([ 7,  8,  9,  5,  1,  6,  1,  1, 10,  1])}"
      ]
     },
     "execution_count": 73,
     "metadata": {},
     "output_type": "execute_result"
    }
   ],
   "source": [
    "clf_LR.cv_results_"
   ]
  },
  {
   "cell_type": "code",
   "execution_count": 76,
   "id": "86a92d62",
   "metadata": {},
   "outputs": [
    {
     "data": {
      "text/plain": [
       "{'n_estimators': 84, 'max_depth': 7}"
      ]
     },
     "execution_count": 76,
     "metadata": {},
     "output_type": "execute_result"
    }
   ],
   "source": [
    "# For Random Forest\n",
    "distributions = dict(max_depth=np.arange(1,10),\n",
    "                     n_estimators=np.arange(60,600))\n",
    "clf_RF = RandomizedSearchCV(RandomForestClassifier(random_state=1), distributions, random_state=0, scoring = 'f1')\n",
    "search = clf_RF.fit(X_train, y_train)\n",
    "search.best_params_"
   ]
  },
  {
   "cell_type": "code",
   "execution_count": 77,
   "id": "d9ebf16c",
   "metadata": {},
   "outputs": [
    {
     "data": {
      "text/plain": [
       "{'mean_fit_time': array([0.11509094, 0.60688725, 0.11289763, 0.10036602, 0.69613843,\n",
       "        0.61363854, 0.1336422 , 0.34028931, 0.2573113 , 0.58269081]),\n",
       " 'std_fit_time': array([0.00439622, 0.0251529 , 0.0046521 , 0.00460109, 0.02457753,\n",
       "        0.02358622, 0.00598323, 0.0138535 , 0.0125649 , 0.01671449]),\n",
       " 'mean_score_time': array([0.01077123, 0.04885836, 0.01057167, 0.00997362, 0.05305552,\n",
       "        0.04986653, 0.01196809, 0.02832475, 0.02194166, 0.04467945]),\n",
       " 'std_score_time': array([0.00039897, 0.00111211, 0.00048867, 0.00089218, 0.00291894,\n",
       "        0.00327836, 0.00063075, 0.00119701, 0.00126173, 0.00222151]),\n",
       " 'param_n_estimators': masked_array(data=[92, 507, 93, 84, 599, 553, 113, 288, 225, 499],\n",
       "              mask=[False, False, False, False, False, False, False, False,\n",
       "                    False, False],\n",
       "        fill_value='?',\n",
       "             dtype=object),\n",
       " 'param_max_depth': masked_array(data=[6, 5, 4, 7, 9, 2, 9, 7, 2, 5],\n",
       "              mask=[False, False, False, False, False, False, False, False,\n",
       "                    False, False],\n",
       "        fill_value='?',\n",
       "             dtype=object),\n",
       " 'params': [{'n_estimators': 92, 'max_depth': 6},\n",
       "  {'n_estimators': 507, 'max_depth': 5},\n",
       "  {'n_estimators': 93, 'max_depth': 4},\n",
       "  {'n_estimators': 84, 'max_depth': 7},\n",
       "  {'n_estimators': 599, 'max_depth': 9},\n",
       "  {'n_estimators': 553, 'max_depth': 2},\n",
       "  {'n_estimators': 113, 'max_depth': 9},\n",
       "  {'n_estimators': 288, 'max_depth': 7},\n",
       "  {'n_estimators': 225, 'max_depth': 2},\n",
       "  {'n_estimators': 499, 'max_depth': 5}],\n",
       " 'split0_test_score': array([0.81481481, 0.79245283, 0.82142857, 0.80769231, 0.76923077,\n",
       "        0.86666667, 0.79245283, 0.81481481, 0.86666667, 0.79245283]),\n",
       " 'split1_test_score': array([0.83636364, 0.81481481, 0.82142857, 0.81481481, 0.81481481,\n",
       "        0.8       , 0.81481481, 0.81481481, 0.81355932, 0.81481481]),\n",
       " 'split2_test_score': array([0.84210526, 0.85714286, 0.82758621, 0.87272727, 0.86206897,\n",
       "        0.81355932, 0.87719298, 0.87719298, 0.8       , 0.85714286]),\n",
       " 'split3_test_score': array([0.86792453, 0.84615385, 0.84615385, 0.8627451 , 0.84      ,\n",
       "        0.84745763, 0.8627451 , 0.84      , 0.86206897, 0.84615385]),\n",
       " 'split4_test_score': array([0.86792453, 0.84615385, 0.88461538, 0.88461538, 0.82352941,\n",
       "        0.84210526, 0.8627451 , 0.84615385, 0.84210526, 0.84615385]),\n",
       " 'mean_test_score': array([0.84582655, 0.83134364, 0.84024252, 0.84851898, 0.82192879,\n",
       "        0.83395778, 0.84199016, 0.83859529, 0.83688004, 0.83134364]),\n",
       " 'std_test_score': array([0.02020774, 0.02404155, 0.02396667, 0.0312863 , 0.03088059,\n",
       "        0.02403217, 0.03253681, 0.02315128, 0.02627935, 0.02404155]),\n",
       " 'rank_test_score': array([ 2,  8,  4,  1, 10,  7,  3,  5,  6,  8])}"
      ]
     },
     "execution_count": 77,
     "metadata": {},
     "output_type": "execute_result"
    }
   ],
   "source": [
    "clf_RF.cv_results_"
   ]
  },
  {
   "cell_type": "code",
   "execution_count": 94,
   "id": "9a293a9f",
   "metadata": {},
   "outputs": [
    {
     "data": {
      "text/plain": [
       "{'n_estimators': 225, 'max_depth': 2}"
      ]
     },
     "execution_count": 94,
     "metadata": {},
     "output_type": "execute_result"
    }
   ],
   "source": [
    "# For Gradient Boosting\n",
    "distributions = dict(max_depth=np.arange(1,10),\n",
    "                     n_estimators=np.arange(60,600))\n",
    "clf_GBC = RandomizedSearchCV(GradientBoostingClassifier(), distributions, random_state=0, scoring = 'f1')\n",
    "search = clf_GBC.fit(X_train, y_train)\n",
    "search.best_params_"
   ]
  },
  {
   "cell_type": "code",
   "execution_count": 81,
   "id": "660bb325",
   "metadata": {},
   "outputs": [
    {
     "data": {
      "text/plain": [
       "{'mean_fit_time': array([0.12168193, 0.51264157, 0.07301302, 0.13662982, 0.38817048,\n",
       "        0.26110106, 0.19728045, 0.43604412, 0.10172839, 0.49295998]),\n",
       " 'std_fit_time': array([6.39217307e-03, 1.00433144e-02, 4.16222997e-04, 1.12344304e-02,\n",
       "        5.86319267e-02, 3.42038827e-03, 3.91901286e-02, 3.03546357e-02,\n",
       "        1.62684651e-06, 7.20517082e-03]),\n",
       " 'mean_score_time': array([0.00278502, 0.00339017, 0.00258055, 0.00260034, 0.00297694,\n",
       "        0.00299201, 0.00239396, 0.00299339, 0.00259323, 0.0033865 ]),\n",
       " 'std_score_time': array([3.95391848e-04, 4.89124640e-04, 4.78485658e-04, 4.75474571e-04,\n",
       "        6.43085040e-04, 1.90734863e-07, 4.88519261e-04, 9.69446414e-06,\n",
       "        4.89161822e-04, 4.86574833e-04]),\n",
       " 'param_n_estimators': masked_array(data=[92, 507, 93, 84, 599, 553, 113, 288, 225, 499],\n",
       "              mask=[False, False, False, False, False, False, False, False,\n",
       "                    False, False],\n",
       "        fill_value='?',\n",
       "             dtype=object),\n",
       " 'param_max_depth': masked_array(data=[6, 5, 4, 7, 9, 2, 9, 7, 2, 5],\n",
       "              mask=[False, False, False, False, False, False, False, False,\n",
       "                    False, False],\n",
       "        fill_value='?',\n",
       "             dtype=object),\n",
       " 'params': [{'n_estimators': 92, 'max_depth': 6},\n",
       "  {'n_estimators': 507, 'max_depth': 5},\n",
       "  {'n_estimators': 93, 'max_depth': 4},\n",
       "  {'n_estimators': 84, 'max_depth': 7},\n",
       "  {'n_estimators': 599, 'max_depth': 9},\n",
       "  {'n_estimators': 553, 'max_depth': 2},\n",
       "  {'n_estimators': 113, 'max_depth': 9},\n",
       "  {'n_estimators': 288, 'max_depth': 7},\n",
       "  {'n_estimators': 225, 'max_depth': 2},\n",
       "  {'n_estimators': 499, 'max_depth': 5}],\n",
       " 'split0_test_score': array([0.69387755, 0.70833333, 0.76      , 0.70588235, 0.78431373,\n",
       "        0.70833333, 0.78431373, 0.5       , 0.73469388, 0.70833333]),\n",
       " 'split1_test_score': array([0.79245283, 0.81481481, 0.79245283, 0.7037037 , 0.76923077,\n",
       "        0.79245283, 0.75471698, 0.7037037 , 0.79245283, 0.81481481]),\n",
       " 'split2_test_score': array([0.82142857, 0.81481481, 0.8       , 0.84210526, 0.82142857,\n",
       "        0.83018868, 0.82142857, 0.8       , 0.81481481, 0.81481481]),\n",
       " 'split3_test_score': array([0.80769231, 0.7755102 , 0.7755102 , 0.82352941, 0.76923077,\n",
       "        0.83018868, 0.76923077, 0.82352941, 0.86792453, 0.7755102 ]),\n",
       " 'split4_test_score': array([0.80851064, 0.8       , 0.82352941, 0.76595745, 0.75      ,\n",
       "        0.7755102 , 0.75      , 0.7755102 , 0.7755102 , 0.81632653]),\n",
       " 'mean_test_score': array([0.78479238, 0.78269463, 0.79029849, 0.76823564, 0.77884077,\n",
       "        0.78733475, 0.77593801, 0.72054866, 0.79707925, 0.78595994]),\n",
       " 'std_test_score': array([0.04637534, 0.03986002, 0.02163214, 0.05757016, 0.02391723,\n",
       "        0.04490024, 0.0257202 , 0.11735739, 0.04407304, 0.04176703]),\n",
       " 'rank_test_score': array([ 5,  6,  2,  9,  7,  3,  8, 10,  1,  4])}"
      ]
     },
     "execution_count": 81,
     "metadata": {},
     "output_type": "execute_result"
    }
   ],
   "source": [
    "clf_GBC.cv_results_"
   ]
  },
  {
   "cell_type": "code",
   "execution_count": null,
   "id": "d23247d1",
   "metadata": {},
   "outputs": [],
   "source": []
  },
  {
   "cell_type": "code",
   "execution_count": 100,
   "id": "0861f56f",
   "metadata": {},
   "outputs": [
    {
     "name": "stderr",
     "output_type": "stream",
     "text": [
      "C:\\Users\\DDD\\anaconda3\\lib\\site-packages\\sklearn\\model_selection\\_search.py:306: UserWarning: The total space of parameters 5 is smaller than n_iter=10. Running 5 iterations. For exhaustive searches, use GridSearchCV.\n",
      "  warnings.warn(\n"
     ]
    },
    {
     "data": {
      "text/plain": [
       "{'nu': 0.01, 'degree': 1}"
      ]
     },
     "execution_count": 100,
     "metadata": {},
     "output_type": "execute_result"
    }
   ],
   "source": [
    "# For SVM\n",
    "distributions = dict(nu=np.arange(0.01,1),\n",
    "                     degree=np.arange(1,6))\n",
    "clf_SVM = RandomizedSearchCV(svm.NuSVC(), distributions, random_state=0, scoring = 'f1')\n",
    "search = clf_SVM.fit(X_train_scaled, y_train)\n",
    "search.best_params_"
   ]
  },
  {
   "cell_type": "code",
   "execution_count": 99,
   "id": "9b9f6ae3",
   "metadata": {},
   "outputs": [
    {
     "data": {
      "text/plain": [
       "{'mean_fit_time': array([0.00141516, 0.00099754, 0.00100322, 0.00159578, 0.00119781]),\n",
       " 'std_fit_time': array([5.07891132e-04, 3.07180851e-06, 1.34154895e-05, 4.88856036e-04,\n",
       "        3.98281929e-04]),\n",
       " 'mean_score_time': array([0.00137749, 0.00139546, 0.00098238, 0.00099783, 0.00159397]),\n",
       " 'std_score_time': array([5.00152665e-04, 4.89407434e-04, 2.69489362e-05, 2.69064636e-06,\n",
       "        4.89225643e-04]),\n",
       " 'param_nu': masked_array(data=[0.5, 0.5, 0.5, 0.5, 0.5],\n",
       "              mask=[False, False, False, False, False],\n",
       "        fill_value='?',\n",
       "             dtype=object),\n",
       " 'param_degree': masked_array(data=[1, 2, 3, 4, 5],\n",
       "              mask=[False, False, False, False, False],\n",
       "        fill_value='?',\n",
       "             dtype=object),\n",
       " 'params': [{'nu': 0.5, 'degree': 1},\n",
       "  {'nu': 0.5, 'degree': 2},\n",
       "  {'nu': 0.5, 'degree': 3},\n",
       "  {'nu': 0.5, 'degree': 4},\n",
       "  {'nu': 0.5, 'degree': 5}],\n",
       " 'split0_test_score': array([0.76923077, 0.76923077, 0.76923077, 0.76923077, 0.76923077]),\n",
       " 'split1_test_score': array([0.77192982, 0.77192982, 0.77192982, 0.77192982, 0.77192982]),\n",
       " 'split2_test_score': array([0.84615385, 0.84615385, 0.84615385, 0.84615385, 0.84615385]),\n",
       " 'split3_test_score': array([0.8627451, 0.8627451, 0.8627451, 0.8627451, 0.8627451]),\n",
       " 'split4_test_score': array([0.84615385, 0.84615385, 0.84615385, 0.84615385, 0.84615385]),\n",
       " 'mean_test_score': array([0.81924268, 0.81924268, 0.81924268, 0.81924268, 0.81924268]),\n",
       " 'std_test_score': array([0.04020094, 0.04020094, 0.04020094, 0.04020094, 0.04020094]),\n",
       " 'rank_test_score': array([1, 1, 1, 1, 1])}"
      ]
     },
     "execution_count": 99,
     "metadata": {},
     "output_type": "execute_result"
    }
   ],
   "source": [
    "clf_SVM.cv_results_"
   ]
  },
  {
   "cell_type": "code",
   "execution_count": 35,
   "id": "37afade2",
   "metadata": {},
   "outputs": [],
   "source": [
    "LR_best = make_pipeline(preprocessor, LogisticRegression(random_state=1 ))\n",
    "RF_best = make_pipeline(preprocessor, RandomForestClassifier(random_state=1 ))\n",
    "GBC_best = make_pipeline(preprocessor, GradientBoostingClassifier(random_state=1 ))\n",
    "KNN_best =  make_pipeline(preprocessor, KNeighborsClassifier(n_neighbors=1))\n",
    "SVM_best = make_pipeline(preprocessor, svm.NuSVC(gamma=\"auto\", probability=True))\n",
    "GNB_best = make_pipeline(preprocessor, GaussianNB())\n",
    "ADAB_best = make_pipeline(preprocessor, AdaBoostClassifier(random_state=1 ))"
   ]
  },
  {
   "cell_type": "code",
   "execution_count": 39,
   "id": "2e0008c2",
   "metadata": {},
   "outputs": [],
   "source": [
    "LR = LogisticRegression(random_state=1 )"
   ]
  },
  {
   "cell_type": "code",
   "execution_count": 40,
   "id": "fc81ade6",
   "metadata": {},
   "outputs": [
    {
     "name": "stdout",
     "output_type": "stream",
     "text": [
      "CONFUSION MATRIX\n",
      "[[ 7  7]\n",
      " [ 3 31]]\n",
      "              precision    recall  f1-score   support\n",
      "\n",
      "           0       0.70      0.50      0.58        14\n",
      "           1       0.82      0.91      0.86        34\n",
      "\n",
      "    accuracy                           0.79        48\n",
      "   macro avg       0.76      0.71      0.72        48\n",
      "weighted avg       0.78      0.79      0.78        48\n",
      "\n",
      "SPECIFICITY\n",
      "[0.91176471 0.5       ]\n",
      "AUROC\n",
      "0.8361344537815126\n"
     ]
    }
   ],
   "source": [
    "evaluation_test_scaled(LR)"
   ]
  },
  {
   "cell_type": "code",
   "execution_count": 38,
   "id": "36afe92d",
   "metadata": {},
   "outputs": [
    {
     "name": "stdout",
     "output_type": "stream",
     "text": [
      "CONFUSION MATRIX\n",
      "[[ 7  7]\n",
      " [ 6 28]]\n",
      "              precision    recall  f1-score   support\n",
      "\n",
      "           0       0.54      0.50      0.52        14\n",
      "           1       0.80      0.82      0.81        34\n",
      "\n",
      "    accuracy                           0.73        48\n",
      "   macro avg       0.67      0.66      0.67        48\n",
      "weighted avg       0.72      0.73      0.73        48\n",
      "\n",
      "SPECIFICITY\n",
      "[0.82352941 0.5       ]\n",
      "AUROC\n",
      "0.7962184873949579\n"
     ]
    },
    {
     "name": "stderr",
     "output_type": "stream",
     "text": [
      "C:\\Users\\DDD\\anaconda3\\lib\\site-packages\\sklearn\\linear_model\\_logistic.py:444: ConvergenceWarning: lbfgs failed to converge (status=1):\n",
      "STOP: TOTAL NO. of ITERATIONS REACHED LIMIT.\n",
      "\n",
      "Increase the number of iterations (max_iter) or scale the data as shown in:\n",
      "    https://scikit-learn.org/stable/modules/preprocessing.html\n",
      "Please also refer to the documentation for alternative solver options:\n",
      "    https://scikit-learn.org/stable/modules/linear_model.html#logistic-regression\n",
      "  n_iter_i = _check_optimize_result(\n"
     ]
    }
   ],
   "source": [
    "evaluation_test_pipeline(LR_best)"
   ]
  },
  {
   "cell_type": "code",
   "execution_count": 19,
   "id": "81faa93a",
   "metadata": {},
   "outputs": [
    {
     "name": "stdout",
     "output_type": "stream",
     "text": [
      "CONFUSION MATRIX\n",
      "[[ 7  7]\n",
      " [ 3 31]]\n",
      "              precision    recall  f1-score   support\n",
      "\n",
      "           0       0.70      0.50      0.58        14\n",
      "           1       0.82      0.91      0.86        34\n",
      "\n",
      "    accuracy                           0.79        48\n",
      "   macro avg       0.76      0.71      0.72        48\n",
      "weighted avg       0.78      0.79      0.78        48\n",
      "\n",
      "SPECIFICITY\n",
      "[0.91176471 0.5       ]\n",
      "AUROC\n",
      "0.8298319327731093\n"
     ]
    }
   ],
   "source": [
    "evaluation_test_scaled(LR)"
   ]
  },
  {
   "cell_type": "code",
   "execution_count": 46,
   "id": "65048697",
   "metadata": {},
   "outputs": [
    {
     "name": "stdout",
     "output_type": "stream",
     "text": [
      "CONFUSION MATRIX\n",
      "[[ 5  9]\n",
      " [ 4 30]]\n",
      "              precision    recall  f1-score   support\n",
      "\n",
      "           0       0.56      0.36      0.43        14\n",
      "           1       0.77      0.88      0.82        34\n",
      "\n",
      "    accuracy                           0.73        48\n",
      "   macro avg       0.66      0.62      0.63        48\n",
      "weighted avg       0.71      0.73      0.71        48\n",
      "\n",
      "SPECIFICITY\n",
      "[0.88235294 0.35714286]\n",
      "AUROC\n",
      "0.7752100840336135\n"
     ]
    }
   ],
   "source": [
    "evaluation_test_original(RandomForestClassifier(random_state=1 ))"
   ]
  },
  {
   "cell_type": "code",
   "execution_count": 41,
   "id": "b2fce932",
   "metadata": {},
   "outputs": [
    {
     "name": "stdout",
     "output_type": "stream",
     "text": [
      "CONFUSION MATRIX\n",
      "[[ 6  8]\n",
      " [ 5 29]]\n",
      "              precision    recall  f1-score   support\n",
      "\n",
      "           0       0.55      0.43      0.48        14\n",
      "           1       0.78      0.85      0.82        34\n",
      "\n",
      "    accuracy                           0.73        48\n",
      "   macro avg       0.66      0.64      0.65        48\n",
      "weighted avg       0.71      0.73      0.72        48\n",
      "\n",
      "SPECIFICITY\n",
      "[0.85294118 0.42857143]\n",
      "AUROC\n",
      "0.7394957983193277\n"
     ]
    }
   ],
   "source": [
    "evaluation_test_scaled(RandomForestClassifier(random_state=1 ))"
   ]
  },
  {
   "cell_type": "code",
   "execution_count": 42,
   "id": "7161ed03",
   "metadata": {},
   "outputs": [
    {
     "name": "stdout",
     "output_type": "stream",
     "text": [
      "CONFUSION MATRIX\n",
      "[[ 5  9]\n",
      " [ 4 30]]\n",
      "              precision    recall  f1-score   support\n",
      "\n",
      "           0       0.56      0.36      0.43        14\n",
      "           1       0.77      0.88      0.82        34\n",
      "\n",
      "    accuracy                           0.73        48\n",
      "   macro avg       0.66      0.62      0.63        48\n",
      "weighted avg       0.71      0.73      0.71        48\n",
      "\n",
      "SPECIFICITY\n",
      "[0.88235294 0.35714286]\n",
      "AUROC\n",
      "0.7752100840336135\n"
     ]
    }
   ],
   "source": [
    "evaluation_test_pipeline(RF_best)"
   ]
  },
  {
   "cell_type": "code",
   "execution_count": 43,
   "id": "29b1214e",
   "metadata": {},
   "outputs": [
    {
     "name": "stdout",
     "output_type": "stream",
     "text": [
      "CONFUSION MATRIX\n",
      "[[ 7  7]\n",
      " [ 3 31]]\n",
      "              precision    recall  f1-score   support\n",
      "\n",
      "           0       0.70      0.50      0.58        14\n",
      "           1       0.82      0.91      0.86        34\n",
      "\n",
      "    accuracy                           0.79        48\n",
      "   macro avg       0.76      0.71      0.72        48\n",
      "weighted avg       0.78      0.79      0.78        48\n",
      "\n",
      "SPECIFICITY\n",
      "[0.91176471 0.5       ]\n",
      "AUROC\n",
      "0.792016806722689\n"
     ]
    }
   ],
   "source": [
    "evaluation_test_scaled(GradientBoostingClassifier(random_state=1 ))"
   ]
  },
  {
   "cell_type": "code",
   "execution_count": 47,
   "id": "3c6289b5",
   "metadata": {},
   "outputs": [
    {
     "name": "stdout",
     "output_type": "stream",
     "text": [
      "CONFUSION MATRIX\n",
      "[[ 6  8]\n",
      " [ 3 31]]\n",
      "              precision    recall  f1-score   support\n",
      "\n",
      "           0       0.67      0.43      0.52        14\n",
      "           1       0.79      0.91      0.85        34\n",
      "\n",
      "    accuracy                           0.77        48\n",
      "   macro avg       0.73      0.67      0.69        48\n",
      "weighted avg       0.76      0.77      0.75        48\n",
      "\n",
      "SPECIFICITY\n",
      "[0.91176471 0.42857143]\n",
      "AUROC\n",
      "0.792016806722689\n"
     ]
    }
   ],
   "source": [
    "evaluation_test_original(GradientBoostingClassifier(random_state=1 ))"
   ]
  },
  {
   "cell_type": "code",
   "execution_count": 44,
   "id": "4d2bb800",
   "metadata": {},
   "outputs": [
    {
     "name": "stdout",
     "output_type": "stream",
     "text": [
      "CONFUSION MATRIX\n",
      "[[ 6  8]\n",
      " [ 3 31]]\n",
      "              precision    recall  f1-score   support\n",
      "\n",
      "           0       0.67      0.43      0.52        14\n",
      "           1       0.79      0.91      0.85        34\n",
      "\n",
      "    accuracy                           0.77        48\n",
      "   macro avg       0.73      0.67      0.69        48\n",
      "weighted avg       0.76      0.77      0.75        48\n",
      "\n",
      "SPECIFICITY\n",
      "[0.91176471 0.42857143]\n",
      "AUROC\n",
      "0.792016806722689\n"
     ]
    }
   ],
   "source": [
    "evaluation_test_pipeline(GBC_best)"
   ]
  },
  {
   "cell_type": "code",
   "execution_count": 89,
   "id": "9f393da2",
   "metadata": {},
   "outputs": [
    {
     "data": {
      "text/plain": [
       "age                    int64\n",
       "HIV                 category\n",
       "history_cancer      category\n",
       "pleural_proteins     float64\n",
       "pleural_LDH            int64\n",
       "pleural_CRP          float64\n",
       "BMI                  float64\n",
       "dtype: object"
      ]
     },
     "execution_count": 89,
     "metadata": {},
     "output_type": "execute_result"
    }
   ],
   "source": [
    "X_train.dtypes"
   ]
  },
  {
   "cell_type": "code",
   "execution_count": 48,
   "id": "c3cebbff",
   "metadata": {},
   "outputs": [
    {
     "name": "stdout",
     "output_type": "stream",
     "text": [
      "CONFUSION MATRIX\n",
      "[[ 6  8]\n",
      " [ 1 33]]\n",
      "              precision    recall  f1-score   support\n",
      "\n",
      "           0       0.86      0.43      0.57        14\n",
      "           1       0.80      0.97      0.88        34\n",
      "\n",
      "    accuracy                           0.81        48\n",
      "   macro avg       0.83      0.70      0.73        48\n",
      "weighted avg       0.82      0.81      0.79        48\n",
      "\n",
      "SPECIFICITY\n",
      "[0.97058824 0.42857143]\n",
      "AUROC\n",
      "0.8025210084033614\n"
     ]
    }
   ],
   "source": [
    "evaluation_test_scaled(KNeighborsClassifier())"
   ]
  },
  {
   "cell_type": "code",
   "execution_count": 49,
   "id": "bd21ad38",
   "metadata": {},
   "outputs": [
    {
     "name": "stdout",
     "output_type": "stream",
     "text": [
      "CONFUSION MATRIX\n",
      "[[ 4 10]\n",
      " [13 21]]\n",
      "              precision    recall  f1-score   support\n",
      "\n",
      "           0       0.24      0.29      0.26        14\n",
      "           1       0.68      0.62      0.65        34\n",
      "\n",
      "    accuracy                           0.52        48\n",
      "   macro avg       0.46      0.45      0.45        48\n",
      "weighted avg       0.55      0.52      0.53        48\n",
      "\n",
      "SPECIFICITY\n",
      "[0.61764706 0.28571429]\n",
      "AUROC\n",
      "0.45168067226890757\n"
     ]
    }
   ],
   "source": [
    "evaluation_test_pipeline(KNN_best)"
   ]
  },
  {
   "cell_type": "code",
   "execution_count": 52,
   "id": "0a288558",
   "metadata": {},
   "outputs": [
    {
     "name": "stdout",
     "output_type": "stream",
     "text": [
      "CONFUSION MATRIX\n",
      "[[ 7  7]\n",
      " [ 5 29]]\n",
      "              precision    recall  f1-score   support\n",
      "\n",
      "           0       0.58      0.50      0.54        14\n",
      "           1       0.81      0.85      0.83        34\n",
      "\n",
      "    accuracy                           0.75        48\n",
      "   macro avg       0.69      0.68      0.68        48\n",
      "weighted avg       0.74      0.75      0.74        48\n",
      "\n",
      "SPECIFICITY\n",
      "[0.85294118 0.5       ]\n",
      "AUROC\n",
      "0.7563025210084033\n"
     ]
    }
   ],
   "source": [
    "evaluation_test_scaled( svm.NuSVC(probability=True))"
   ]
  },
  {
   "cell_type": "code",
   "execution_count": 53,
   "id": "9f713580",
   "metadata": {},
   "outputs": [
    {
     "name": "stdout",
     "output_type": "stream",
     "text": [
      "CONFUSION MATRIX\n",
      "[[ 0 14]\n",
      " [ 0 34]]\n",
      "              precision    recall  f1-score   support\n",
      "\n",
      "           0       0.00      0.00      0.00        14\n",
      "           1       0.71      1.00      0.83        34\n",
      "\n",
      "    accuracy                           0.71        48\n",
      "   macro avg       0.35      0.50      0.41        48\n",
      "weighted avg       0.50      0.71      0.59        48\n",
      "\n",
      "SPECIFICITY\n",
      "[1. 0.]\n",
      "AUROC\n",
      "0.5063025210084033\n"
     ]
    },
    {
     "name": "stderr",
     "output_type": "stream",
     "text": [
      "C:\\Users\\DDD\\anaconda3\\lib\\site-packages\\sklearn\\metrics\\_classification.py:1334: UndefinedMetricWarning: Precision and F-score are ill-defined and being set to 0.0 in labels with no predicted samples. Use `zero_division` parameter to control this behavior.\n",
      "  _warn_prf(average, modifier, msg_start, len(result))\n",
      "C:\\Users\\DDD\\anaconda3\\lib\\site-packages\\sklearn\\metrics\\_classification.py:1334: UndefinedMetricWarning: Precision and F-score are ill-defined and being set to 0.0 in labels with no predicted samples. Use `zero_division` parameter to control this behavior.\n",
      "  _warn_prf(average, modifier, msg_start, len(result))\n",
      "C:\\Users\\DDD\\anaconda3\\lib\\site-packages\\sklearn\\metrics\\_classification.py:1334: UndefinedMetricWarning: Precision and F-score are ill-defined and being set to 0.0 in labels with no predicted samples. Use `zero_division` parameter to control this behavior.\n",
      "  _warn_prf(average, modifier, msg_start, len(result))\n"
     ]
    }
   ],
   "source": [
    "evaluation_test_pipeline(SVM_best)"
   ]
  }
 ],
 "metadata": {
  "kernelspec": {
   "display_name": "Python 3",
   "language": "python",
   "name": "python3"
  },
  "language_info": {
   "codemirror_mode": {
    "name": "ipython",
    "version": 3
   },
   "file_extension": ".py",
   "mimetype": "text/x-python",
   "name": "python",
   "nbconvert_exporter": "python",
   "pygments_lexer": "ipython3",
   "version": "3.8.8"
  }
 },
 "nbformat": 4,
 "nbformat_minor": 5
}
